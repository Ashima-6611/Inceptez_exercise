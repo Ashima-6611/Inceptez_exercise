{
 "cells": [
  {
   "cell_type": "markdown",
   "metadata": {},
   "source": [
    "### 1. Write a Python program to find those numbers which are divisible by 7 and multiple of 5, between 1500 and 2700 (both included)."
   ]
  },
  {
   "cell_type": "code",
   "execution_count": 3,
   "metadata": {},
   "outputs": [
    {
     "name": "stdout",
     "output_type": "stream",
     "text": [
      "1505 1540 1575 1610 1645 1680 1715 1750 1785 1820 1855 1890 1925 1960 1995 2030 2065 2100 2135 2170 2205 2240 2275 2310 2345 2380 2415 2450 2485 2520 2555 2590 2625 2660 2695 "
     ]
    }
   ],
   "source": [
    "for i in range(1500,2701):\n",
    "    if(i%7 == 0 and i%5 ==0):\n",
    "        print(i,end =\" \")\n",
    "    "
   ]
  },
  {
   "cell_type": "markdown",
   "metadata": {},
   "source": [
    "### 2. Write a Python program to construct the following pattern, using a nested for loop"
   ]
  },
  {
   "cell_type": "code",
   "execution_count": 4,
   "metadata": {},
   "outputs": [
    {
     "name": "stdout",
     "output_type": "stream",
     "text": [
      "* \r\n",
      "* * \r\n",
      "* * * \r\n",
      "* * * * \r\n",
      "* * * * * \r\n",
      "* * * * \r\n",
      "* * * \r\n",
      "* * \r\n",
      "* \r\n",
      "\r\n"
     ]
    }
   ],
   "source": [
    "lines = 5\n",
    "for i in range(0, lines):\n",
    "    for j in range(0, i + 1):\n",
    "        print(\"*\", end=' ')\n",
    "    print(\"\\r\")\n",
    "\n",
    "for i in range(lines, 0, -1):\n",
    "    for j in range(0, i - 1):\n",
    "        print(\"*\", end=' ')\n",
    "    print(\"\\r\")\n"
   ]
  },
  {
   "cell_type": "markdown",
   "metadata": {},
   "source": [
    "### 3.Write a Python program to count the number of even and odd numbers from a series of numbers"
   ]
  },
  {
   "cell_type": "code",
   "execution_count": 5,
   "metadata": {},
   "outputs": [
    {
     "name": "stdout",
     "output_type": "stream",
     "text": [
      "Enter the number: 9\n",
      "Number of even numbers : 5\n",
      "Number of odd numbers : 5\n"
     ]
    }
   ],
   "source": [
    "n = int(input(\"Enter the number: \"))\n",
    "even=[]\n",
    "odd=[]\n",
    "for i in range(0,n+1):\n",
    "    if(i%2 == 0):\n",
    "        even.append(i)\n",
    "    else:\n",
    "        odd.append(i)\n",
    "print(\"Number of even numbers :\", len(even))\n",
    "print(\"Number of odd numbers :\", len(odd))"
   ]
  },
  {
   "cell_type": "markdown",
   "metadata": {},
   "source": [
    "### 4. Write a Python program to find numbers between 100 and 400 (both included) where each digit of a number is an even number. The numbers obtained should be printed in a comma-separated sequence."
   ]
  },
  {
   "cell_type": "code",
   "execution_count": 7,
   "metadata": {},
   "outputs": [
    {
     "name": "stdout",
     "output_type": "stream",
     "text": [
      "['200', '202', '204', '206', '208', '220', '222', '224', '226', '228', '240', '242', '244', '246', '248', '260', '262', '264', '266', '268', '280', '282', '284', '286', '288', '400'],"
     ]
    }
   ],
   "source": [
    "even = []\n",
    "for i in range(100, 401):\n",
    "    j = str(i)\n",
    "    if (int(j[0])%2==0) and (int(j[1])%2==0) and (int(j[2])%2==0):\n",
    "        even.append(j)\n",
    "print(even, end=\",\")"
   ]
  },
  {
   "cell_type": "markdown",
   "metadata": {},
   "source": [
    "### 5. Write a Python program to calculate a dog's age in dog's years. Go to the editor\n",
    "### Note: For the first two years, a dog year is equal to 10.5 human years. After that, each dog year equals 4 human years."
   ]
  },
  {
   "cell_type": "code",
   "execution_count": 8,
   "metadata": {},
   "outputs": [
    {
     "name": "stdout",
     "output_type": "stream",
     "text": [
      "Enter the dog years: 20\n",
      "The dog's age in dog's years is  93\n"
     ]
    }
   ],
   "source": [
    "n = int(input(\"Enter the dog years: \"))\n",
    "if(n>2):\n",
    "    age= 21 + ((n-2)*4)\n",
    "    print(\"The dog's age in dog's years is \", int(age))\n",
    "else:\n",
    "    age=(n*10.5)\n",
    "    print(\"The dog's age in dog's years is \", int(age))"
   ]
  },
  {
   "cell_type": "markdown",
   "metadata": {},
   "source": [
    "### 6. Write a Python function to find the Max of three numbers."
   ]
  },
  {
   "cell_type": "code",
   "execution_count": 9,
   "metadata": {},
   "outputs": [
    {
     "name": "stdout",
     "output_type": "stream",
     "text": [
      "Enter three diff values: 3 6 -5\n",
      "The max of the three numbers 6\n"
     ]
    }
   ],
   "source": [
    "x = list(map(int, input(\"Enter three diff values: \").split())) \n",
    "print(\"The max of the three numbers\", max(x)) "
   ]
  },
  {
   "cell_type": "markdown",
   "metadata": {},
   "source": [
    "### 7. Write a Python function that takes a number as a parameter and check the number is prime or not"
   ]
  },
  {
   "cell_type": "code",
   "execution_count": 10,
   "metadata": {},
   "outputs": [
    {
     "name": "stdout",
     "output_type": "stream",
     "text": [
      "Enter any number: 9\n"
     ]
    },
    {
     "data": {
      "text/plain": [
       "False"
      ]
     },
     "execution_count": 10,
     "metadata": {},
     "output_type": "execute_result"
    }
   ],
   "source": [
    "def isPrime(num):\n",
    "    if num >1:\n",
    "        for i in range(2,num):\n",
    "            if(num % i) == 0:\n",
    "                isPrime = False\n",
    "                break\n",
    "            else:\n",
    "                isPrime = True\n",
    "    else:\n",
    "        isPrime = False\n",
    "    if(isPrime):\n",
    "        return True\n",
    "    else:\n",
    "        return False\n",
    "\n",
    "num = int(input(\"Enter any number: \"))\n",
    "isPrime(num)"
   ]
  },
  {
   "cell_type": "markdown",
   "metadata": {},
   "source": [
    "### 8. Write a Python function that accepts a string and calculate the number of upper case letters and lower case letters."
   ]
  },
  {
   "cell_type": "code",
   "execution_count": 11,
   "metadata": {},
   "outputs": [
    {
     "name": "stdout",
     "output_type": "stream",
     "text": [
      "Original String :Inceptz is One of The BeSt Places TO LEarn DataSciEnce\n",
      "No. of Upper case characters : 13\n",
      "No. of Lower case Characters : 32\n"
     ]
    }
   ],
   "source": [
    "strn = input(\"Original String :\")\n",
    "upperCount =0\n",
    "lowerCount=0\n",
    "for i in strn:\n",
    "    if i.isupper():\n",
    "        upperCount = upperCount +1\n",
    "    elif i.islower():\n",
    "        lowerCount = lowerCount +1\n",
    "print(\"No. of Upper case characters :\", upperCount)\n",
    "print(\"No. of Lower case Characters :\", lowerCount)\n",
    "\n",
    "\n",
    "             "
   ]
  },
  {
   "cell_type": "markdown",
   "metadata": {},
   "source": [
    "### 9.Write a Python program to reverse a string"
   ]
  },
  {
   "cell_type": "code",
   "execution_count": 12,
   "metadata": {},
   "outputs": [
    {
     "name": "stdout",
     "output_type": "stream",
     "text": [
      "The original string is::1234abcd\n",
      "The reversed string: dcba4321\n"
     ]
    }
   ],
   "source": [
    "txt = input(\"The original string is::\")\n",
    "print(\"The reversed string:\", txt[::-1])"
   ]
  },
  {
   "cell_type": "markdown",
   "metadata": {},
   "source": [
    "### 10. Write a Python program to find the greatest common divisor (gcd) of two integers"
   ]
  },
  {
   "cell_type": "code",
   "execution_count": 13,
   "metadata": {},
   "outputs": [
    {
     "name": "stdout",
     "output_type": "stream",
     "text": [
      "The two numbers are: 12 14\n",
      "The GCD of the numbers are 2\n"
     ]
    }
   ],
   "source": [
    "def gcd(x, y):\n",
    "   while(y):\n",
    "       x, y = y, x % y\n",
    "   return x\n",
    "x, y = input(\"The two numbers are: \").split()\n",
    "GCD = gcd(int(x), int(y))\n",
    "print(\"The GCD of the numbers are\", GCD)"
   ]
  },
  {
   "cell_type": "code",
   "execution_count": null,
   "metadata": {},
   "outputs": [],
   "source": []
  }
 ],
 "metadata": {
  "kernelspec": {
   "display_name": "Python 3",
   "language": "python",
   "name": "python3"
  },
  "language_info": {
   "codemirror_mode": {
    "name": "ipython",
    "version": 3
   },
   "file_extension": ".py",
   "mimetype": "text/x-python",
   "name": "python",
   "nbconvert_exporter": "python",
   "pygments_lexer": "ipython3",
   "version": "3.7.6"
  }
 },
 "nbformat": 4,
 "nbformat_minor": 4
}
