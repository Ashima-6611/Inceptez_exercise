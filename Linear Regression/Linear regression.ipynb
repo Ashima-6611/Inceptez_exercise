{
 "cells": [
  {
   "cell_type": "code",
   "execution_count": 2,
   "metadata": {},
   "outputs": [],
   "source": [
    "import numpy as np\n",
    "import pandas as pd\n",
    "import matplotlib.pyplot as plt\n",
    "import seaborn as sns\n",
    "%matplotlib inline"
   ]
  },
  {
   "cell_type": "code",
   "execution_count": 3,
   "metadata": {},
   "outputs": [
    {
     "data": {
      "text/html": [
       "<div>\n",
       "<style scoped>\n",
       "    .dataframe tbody tr th:only-of-type {\n",
       "        vertical-align: middle;\n",
       "    }\n",
       "\n",
       "    .dataframe tbody tr th {\n",
       "        vertical-align: top;\n",
       "    }\n",
       "\n",
       "    .dataframe thead th {\n",
       "        text-align: right;\n",
       "    }\n",
       "</style>\n",
       "<table border=\"1\" class=\"dataframe\">\n",
       "  <thead>\n",
       "    <tr style=\"text-align: right;\">\n",
       "      <th></th>\n",
       "      <th>Company</th>\n",
       "      <th>Age</th>\n",
       "      <th>Salary</th>\n",
       "      <th>Place</th>\n",
       "      <th>Country</th>\n",
       "    </tr>\n",
       "  </thead>\n",
       "  <tbody>\n",
       "    <tr>\n",
       "      <th>0</th>\n",
       "      <td>TCS</td>\n",
       "      <td>20.0</td>\n",
       "      <td>NaN</td>\n",
       "      <td>Chennai</td>\n",
       "      <td>India</td>\n",
       "    </tr>\n",
       "    <tr>\n",
       "      <th>1</th>\n",
       "      <td>Infosys</td>\n",
       "      <td>30.0</td>\n",
       "      <td>NaN</td>\n",
       "      <td>Mumbai</td>\n",
       "      <td>India</td>\n",
       "    </tr>\n",
       "    <tr>\n",
       "      <th>2</th>\n",
       "      <td>TCS</td>\n",
       "      <td>35.0</td>\n",
       "      <td>2300.0</td>\n",
       "      <td>Calcutta</td>\n",
       "      <td>India</td>\n",
       "    </tr>\n",
       "    <tr>\n",
       "      <th>3</th>\n",
       "      <td>Infosys</td>\n",
       "      <td>40.0</td>\n",
       "      <td>3000.0</td>\n",
       "      <td>Delhi</td>\n",
       "      <td>India</td>\n",
       "    </tr>\n",
       "    <tr>\n",
       "      <th>4</th>\n",
       "      <td>TCS</td>\n",
       "      <td>23.0</td>\n",
       "      <td>4000.0</td>\n",
       "      <td>Mumbai</td>\n",
       "      <td>India</td>\n",
       "    </tr>\n",
       "  </tbody>\n",
       "</table>\n",
       "</div>"
      ],
      "text/plain": [
       "   Company   Age  Salary     Place Country\n",
       "0      TCS  20.0     NaN   Chennai   India\n",
       "1  Infosys  30.0     NaN    Mumbai   India\n",
       "2      TCS  35.0  2300.0  Calcutta   India\n",
       "3  Infosys  40.0  3000.0     Delhi   India\n",
       "4      TCS  23.0  4000.0    Mumbai   India"
      ]
     },
     "execution_count": 3,
     "metadata": {},
     "output_type": "execute_result"
    }
   ],
   "source": [
    "df = pd.read_csv(\"company.csv\")\n",
    "df.head()"
   ]
  },
  {
   "cell_type": "code",
   "execution_count": 4,
   "metadata": {},
   "outputs": [
    {
     "name": "stdout",
     "output_type": "stream",
     "text": [
      "<class 'pandas.core.frame.DataFrame'>\n",
      "RangeIndex: 148 entries, 0 to 147\n",
      "Data columns (total 5 columns):\n",
      " #   Column   Non-Null Count  Dtype  \n",
      "---  ------   --------------  -----  \n",
      " 0   Company  140 non-null    object \n",
      " 1   Age      130 non-null    float64\n",
      " 2   Salary   124 non-null    float64\n",
      " 3   Place    134 non-null    object \n",
      " 4   Country  148 non-null    object \n",
      "dtypes: float64(2), object(3)\n",
      "memory usage: 5.9+ KB\n"
     ]
    }
   ],
   "source": [
    "df.info()"
   ]
  },
  {
   "cell_type": "code",
   "execution_count": 5,
   "metadata": {},
   "outputs": [
    {
     "data": {
      "text/plain": [
       "Index(['Company', 'Age', 'Salary', 'Place', 'Country'], dtype='object')"
      ]
     },
     "execution_count": 5,
     "metadata": {},
     "output_type": "execute_result"
    }
   ],
   "source": [
    "df.columns"
   ]
  },
  {
   "cell_type": "code",
   "execution_count": 6,
   "metadata": {},
   "outputs": [
    {
     "data": {
      "text/html": [
       "<div>\n",
       "<style scoped>\n",
       "    .dataframe tbody tr th:only-of-type {\n",
       "        vertical-align: middle;\n",
       "    }\n",
       "\n",
       "    .dataframe tbody tr th {\n",
       "        vertical-align: top;\n",
       "    }\n",
       "\n",
       "    .dataframe thead th {\n",
       "        text-align: right;\n",
       "    }\n",
       "</style>\n",
       "<table border=\"1\" class=\"dataframe\">\n",
       "  <thead>\n",
       "    <tr style=\"text-align: right;\">\n",
       "      <th></th>\n",
       "      <th>Age</th>\n",
       "      <th>Salary</th>\n",
       "    </tr>\n",
       "  </thead>\n",
       "  <tbody>\n",
       "    <tr>\n",
       "      <th>count</th>\n",
       "      <td>130.000000</td>\n",
       "      <td>124.000000</td>\n",
       "    </tr>\n",
       "    <tr>\n",
       "      <th>mean</th>\n",
       "      <td>30.484615</td>\n",
       "      <td>5312.467742</td>\n",
       "    </tr>\n",
       "    <tr>\n",
       "      <th>std</th>\n",
       "      <td>11.096640</td>\n",
       "      <td>2573.764683</td>\n",
       "    </tr>\n",
       "    <tr>\n",
       "      <th>min</th>\n",
       "      <td>0.000000</td>\n",
       "      <td>1089.000000</td>\n",
       "    </tr>\n",
       "    <tr>\n",
       "      <th>25%</th>\n",
       "      <td>22.000000</td>\n",
       "      <td>3030.000000</td>\n",
       "    </tr>\n",
       "    <tr>\n",
       "      <th>50%</th>\n",
       "      <td>32.500000</td>\n",
       "      <td>5000.000000</td>\n",
       "    </tr>\n",
       "    <tr>\n",
       "      <th>75%</th>\n",
       "      <td>37.750000</td>\n",
       "      <td>8000.000000</td>\n",
       "    </tr>\n",
       "    <tr>\n",
       "      <th>max</th>\n",
       "      <td>54.000000</td>\n",
       "      <td>9876.000000</td>\n",
       "    </tr>\n",
       "  </tbody>\n",
       "</table>\n",
       "</div>"
      ],
      "text/plain": [
       "              Age       Salary\n",
       "count  130.000000   124.000000\n",
       "mean    30.484615  5312.467742\n",
       "std     11.096640  2573.764683\n",
       "min      0.000000  1089.000000\n",
       "25%     22.000000  3030.000000\n",
       "50%     32.500000  5000.000000\n",
       "75%     37.750000  8000.000000\n",
       "max     54.000000  9876.000000"
      ]
     },
     "execution_count": 6,
     "metadata": {},
     "output_type": "execute_result"
    }
   ],
   "source": [
    "df.describe()"
   ]
  },
  {
   "cell_type": "code",
   "execution_count": 9,
   "metadata": {},
   "outputs": [
    {
     "data": {
      "text/plain": [
       "array(['TCS', 'Infosys', 'CTS', nan, 'Tata Consultancy Services',\n",
       "       'Congnizant', 'Infosys Pvt Lmt'], dtype=object)"
      ]
     },
     "execution_count": 9,
     "metadata": {},
     "output_type": "execute_result"
    }
   ],
   "source": [
    "df[\"Company\"].unique()"
   ]
  },
  {
   "cell_type": "code",
   "execution_count": 10,
   "metadata": {},
   "outputs": [
    {
     "data": {
      "text/plain": [
       "6"
      ]
     },
     "execution_count": 10,
     "metadata": {},
     "output_type": "execute_result"
    }
   ],
   "source": [
    "df[\"Company\"].nunique()"
   ]
  },
  {
   "cell_type": "code",
   "execution_count": 11,
   "metadata": {},
   "outputs": [
    {
     "data": {
      "text/plain": [
       "array(['Chennai', 'Mumbai', 'Calcutta', 'Delhi', 'Podicherry', 'Cochin',\n",
       "       nan, 'Noida', 'Hyderabad', 'Bhopal', 'Nagpur', 'Pune'],\n",
       "      dtype=object)"
      ]
     },
     "execution_count": 11,
     "metadata": {},
     "output_type": "execute_result"
    }
   ],
   "source": [
    "df[\"Place\"].unique()"
   ]
  },
  {
   "cell_type": "code",
   "execution_count": 12,
   "metadata": {},
   "outputs": [
    {
     "data": {
      "text/plain": [
       "8"
      ]
     },
     "execution_count": 12,
     "metadata": {},
     "output_type": "execute_result"
    }
   ],
   "source": [
    "df[\"Company\"].isna().sum()"
   ]
  },
  {
   "cell_type": "code",
   "execution_count": 13,
   "metadata": {},
   "outputs": [
    {
     "name": "stdout",
     "output_type": "stream",
     "text": [
      "TCS                          53\n",
      "Infosys                      45\n",
      "CTS                          36\n",
      "Tata Consultancy Services     2\n",
      "Congnizant                    2\n",
      "Infosys Pvt Lmt               2\n",
      "Name: Company, dtype: int64\n",
      "22.0    16\n",
      "33.0    13\n",
      "44.0    10\n",
      "21.0     8\n",
      "23.0     8\n",
      "34.0     8\n",
      "32.0     7\n",
      "35.0     6\n",
      "0.0      6\n",
      "41.0     5\n",
      "43.0     4\n",
      "24.0     4\n",
      "45.0     4\n",
      "25.0     3\n",
      "36.0     3\n",
      "40.0     3\n",
      "31.0     3\n",
      "20.0     3\n",
      "30.0     2\n",
      "26.0     2\n",
      "37.0     2\n",
      "46.0     2\n",
      "50.0     2\n",
      "18.0     1\n",
      "17.0     1\n",
      "38.0     1\n",
      "19.0     1\n",
      "51.0     1\n",
      "54.0     1\n",
      "Name: Age, dtype: int64\n",
      "3000.0    9\n",
      "5000.0    6\n",
      "4034.0    5\n",
      "8202.0    5\n",
      "5034.0    5\n",
      "3184.0    4\n",
      "7084.0    4\n",
      "8787.0    4\n",
      "1234.0    4\n",
      "3045.0    4\n",
      "5835.0    4\n",
      "9024.0    4\n",
      "8943.0    4\n",
      "9284.0    4\n",
      "2034.0    4\n",
      "4824.0    4\n",
      "2934.0    4\n",
      "1089.0    4\n",
      "2300.0    4\n",
      "8345.0    4\n",
      "7000.0    3\n",
      "3030.0    3\n",
      "8000.0    3\n",
      "9000.0    3\n",
      "6000.0    3\n",
      "4000.0    2\n",
      "9876.0    2\n",
      "3234.0    2\n",
      "7654.0    2\n",
      "5435.0    1\n",
      "4345.0    1\n",
      "3033.0    1\n",
      "5654.0    1\n",
      "5098.0    1\n",
      "3454.0    1\n",
      "6543.0    1\n",
      "6544.0    1\n",
      "5555.0    1\n",
      "4324.0    1\n",
      "5009.0    1\n",
      "Name: Salary, dtype: int64\n",
      "Mumbai        37\n",
      "Calcutta      33\n",
      "Delhi         14\n",
      "Chennai       14\n",
      "Cochin        13\n",
      "Hyderabad      8\n",
      "Noida          8\n",
      "Podicherry     3\n",
      "Pune           2\n",
      "Bhopal         1\n",
      "Nagpur         1\n",
      "Name: Place, dtype: int64\n",
      "India    148\n",
      "Name: Country, dtype: int64\n"
     ]
    },
    {
     "data": {
      "text/plain": [
       "Company    None\n",
       "Age        None\n",
       "Salary     None\n",
       "Place      None\n",
       "Country    None\n",
       "dtype: object"
      ]
     },
     "execution_count": 13,
     "metadata": {},
     "output_type": "execute_result"
    }
   ],
   "source": [
    "df.apply(lambda x : print(x.value_counts()) )"
   ]
  },
  {
   "cell_type": "code",
   "execution_count": 15,
   "metadata": {},
   "outputs": [],
   "source": [
    "df[\"Company\"].replace({\"Tata Consultancy Services\":'TCS', \"Infosys Pvt Lmt\":'Infosys', \"Congnizant\":'CTS'}, inplace= True)"
   ]
  },
  {
   "cell_type": "code",
   "execution_count": 16,
   "metadata": {},
   "outputs": [
    {
     "data": {
      "text/plain": [
       "array(['TCS', 'Infosys', 'CTS', nan], dtype=object)"
      ]
     },
     "execution_count": 16,
     "metadata": {},
     "output_type": "execute_result"
    }
   ],
   "source": [
    "df[\"Company\"].unique()"
   ]
  },
  {
   "cell_type": "code",
   "execution_count": 17,
   "metadata": {},
   "outputs": [
    {
     "data": {
      "text/plain": [
       "8"
      ]
     },
     "execution_count": 17,
     "metadata": {},
     "output_type": "execute_result"
    }
   ],
   "source": [
    "df.duplicated().sum()"
   ]
  },
  {
   "cell_type": "code",
   "execution_count": 18,
   "metadata": {},
   "outputs": [
    {
     "data": {
      "text/html": [
       "<div>\n",
       "<style scoped>\n",
       "    .dataframe tbody tr th:only-of-type {\n",
       "        vertical-align: middle;\n",
       "    }\n",
       "\n",
       "    .dataframe tbody tr th {\n",
       "        vertical-align: top;\n",
       "    }\n",
       "\n",
       "    .dataframe thead th {\n",
       "        text-align: right;\n",
       "    }\n",
       "</style>\n",
       "<table border=\"1\" class=\"dataframe\">\n",
       "  <thead>\n",
       "    <tr style=\"text-align: right;\">\n",
       "      <th></th>\n",
       "      <th>Company</th>\n",
       "      <th>Age</th>\n",
       "      <th>Salary</th>\n",
       "      <th>Place</th>\n",
       "      <th>Country</th>\n",
       "    </tr>\n",
       "  </thead>\n",
       "  <tbody>\n",
       "    <tr>\n",
       "      <th>84</th>\n",
       "      <td>CTS</td>\n",
       "      <td>43.0</td>\n",
       "      <td>NaN</td>\n",
       "      <td>Mumbai</td>\n",
       "      <td>India</td>\n",
       "    </tr>\n",
       "    <tr>\n",
       "      <th>124</th>\n",
       "      <td>Infosys</td>\n",
       "      <td>22.0</td>\n",
       "      <td>8787.0</td>\n",
       "      <td>Calcutta</td>\n",
       "      <td>India</td>\n",
       "    </tr>\n",
       "    <tr>\n",
       "      <th>130</th>\n",
       "      <td>TCS</td>\n",
       "      <td>21.0</td>\n",
       "      <td>4824.0</td>\n",
       "      <td>Mumbai</td>\n",
       "      <td>India</td>\n",
       "    </tr>\n",
       "    <tr>\n",
       "      <th>131</th>\n",
       "      <td>Infosys</td>\n",
       "      <td>NaN</td>\n",
       "      <td>5835.0</td>\n",
       "      <td>Mumbai</td>\n",
       "      <td>India</td>\n",
       "    </tr>\n",
       "    <tr>\n",
       "      <th>144</th>\n",
       "      <td>Infosys</td>\n",
       "      <td>22.0</td>\n",
       "      <td>8787.0</td>\n",
       "      <td>Calcutta</td>\n",
       "      <td>India</td>\n",
       "    </tr>\n",
       "    <tr>\n",
       "      <th>145</th>\n",
       "      <td>Infosys</td>\n",
       "      <td>44.0</td>\n",
       "      <td>4034.0</td>\n",
       "      <td>Delhi</td>\n",
       "      <td>India</td>\n",
       "    </tr>\n",
       "    <tr>\n",
       "      <th>146</th>\n",
       "      <td>TCS</td>\n",
       "      <td>33.0</td>\n",
       "      <td>5034.0</td>\n",
       "      <td>Mumbai</td>\n",
       "      <td>India</td>\n",
       "    </tr>\n",
       "    <tr>\n",
       "      <th>147</th>\n",
       "      <td>Infosys</td>\n",
       "      <td>22.0</td>\n",
       "      <td>8202.0</td>\n",
       "      <td>Cochin</td>\n",
       "      <td>India</td>\n",
       "    </tr>\n",
       "  </tbody>\n",
       "</table>\n",
       "</div>"
      ],
      "text/plain": [
       "     Company   Age  Salary     Place Country\n",
       "84       CTS  43.0     NaN    Mumbai   India\n",
       "124  Infosys  22.0  8787.0  Calcutta   India\n",
       "130      TCS  21.0  4824.0    Mumbai   India\n",
       "131  Infosys   NaN  5835.0    Mumbai   India\n",
       "144  Infosys  22.0  8787.0  Calcutta   India\n",
       "145  Infosys  44.0  4034.0     Delhi   India\n",
       "146      TCS  33.0  5034.0    Mumbai   India\n",
       "147  Infosys  22.0  8202.0    Cochin   India"
      ]
     },
     "execution_count": 18,
     "metadata": {},
     "output_type": "execute_result"
    }
   ],
   "source": [
    "df[df.duplicated()]"
   ]
  },
  {
   "cell_type": "code",
   "execution_count": 19,
   "metadata": {},
   "outputs": [
    {
     "data": {
      "text/plain": [
       "(140, 5)"
      ]
     },
     "execution_count": 19,
     "metadata": {},
     "output_type": "execute_result"
    }
   ],
   "source": [
    "df.drop_duplicates(inplace = True)\n",
    "df.shape"
   ]
  },
  {
   "cell_type": "code",
   "execution_count": 20,
   "metadata": {},
   "outputs": [],
   "source": [
    "df.dropna(subset=[\"Company\"], inplace = True)"
   ]
  },
  {
   "cell_type": "code",
   "execution_count": 21,
   "metadata": {},
   "outputs": [],
   "source": [
    "df[\"Age\"].fillna(df[\"Age\"].median(), inplace = True)"
   ]
  },
  {
   "cell_type": "code",
   "execution_count": 23,
   "metadata": {},
   "outputs": [
    {
     "data": {
      "text/html": [
       "<div>\n",
       "<style scoped>\n",
       "    .dataframe tbody tr th:only-of-type {\n",
       "        vertical-align: middle;\n",
       "    }\n",
       "\n",
       "    .dataframe tbody tr th {\n",
       "        vertical-align: top;\n",
       "    }\n",
       "\n",
       "    .dataframe thead th {\n",
       "        text-align: right;\n",
       "    }\n",
       "</style>\n",
       "<table border=\"1\" class=\"dataframe\">\n",
       "  <thead>\n",
       "    <tr style=\"text-align: right;\">\n",
       "      <th></th>\n",
       "      <th>Company</th>\n",
       "      <th>Age</th>\n",
       "      <th>Salary</th>\n",
       "      <th>Place</th>\n",
       "      <th>Country</th>\n",
       "    </tr>\n",
       "  </thead>\n",
       "  <tbody>\n",
       "    <tr>\n",
       "      <th>0</th>\n",
       "      <td>TCS</td>\n",
       "      <td>20.0</td>\n",
       "      <td>NaN</td>\n",
       "      <td>Chennai</td>\n",
       "      <td>India</td>\n",
       "    </tr>\n",
       "    <tr>\n",
       "      <th>1</th>\n",
       "      <td>Infosys</td>\n",
       "      <td>30.0</td>\n",
       "      <td>NaN</td>\n",
       "      <td>Mumbai</td>\n",
       "      <td>India</td>\n",
       "    </tr>\n",
       "    <tr>\n",
       "      <th>2</th>\n",
       "      <td>TCS</td>\n",
       "      <td>35.0</td>\n",
       "      <td>2300.0</td>\n",
       "      <td>Calcutta</td>\n",
       "      <td>India</td>\n",
       "    </tr>\n",
       "    <tr>\n",
       "      <th>3</th>\n",
       "      <td>Infosys</td>\n",
       "      <td>40.0</td>\n",
       "      <td>3000.0</td>\n",
       "      <td>Delhi</td>\n",
       "      <td>India</td>\n",
       "    </tr>\n",
       "    <tr>\n",
       "      <th>4</th>\n",
       "      <td>TCS</td>\n",
       "      <td>23.0</td>\n",
       "      <td>4000.0</td>\n",
       "      <td>Mumbai</td>\n",
       "      <td>India</td>\n",
       "    </tr>\n",
       "  </tbody>\n",
       "</table>\n",
       "</div>"
      ],
      "text/plain": [
       "   Company   Age  Salary     Place Country\n",
       "0      TCS  20.0     NaN   Chennai   India\n",
       "1  Infosys  30.0     NaN    Mumbai   India\n",
       "2      TCS  35.0  2300.0  Calcutta   India\n",
       "3  Infosys  40.0  3000.0     Delhi   India\n",
       "4      TCS  23.0  4000.0    Mumbai   India"
      ]
     },
     "execution_count": 23,
     "metadata": {},
     "output_type": "execute_result"
    }
   ],
   "source": [
    "df.head()"
   ]
  },
  {
   "cell_type": "code",
   "execution_count": 24,
   "metadata": {},
   "outputs": [],
   "source": [
    "df.dropna(subset=[\"Salary\"], inplace = True)"
   ]
  },
  {
   "cell_type": "code",
   "execution_count": 25,
   "metadata": {},
   "outputs": [
    {
     "data": {
      "text/plain": [
       "<matplotlib.axes._subplots.AxesSubplot at 0x2019bde3308>"
      ]
     },
     "execution_count": 25,
     "metadata": {},
     "output_type": "execute_result"
    },
    {
     "data": {
      "image/png": "[encoded data removed]",
      "text/plain": [
       "<Figure size 432x288 with 1 Axes>"
      ]
     },
     "metadata": {
      "needs_background": "light"
     },
     "output_type": "display_data"
    }
   ],
   "source": [
    "df[\"Salary\"].plot(kind = \"hist\")"
   ]
  },
  {
   "cell_type": "code",
   "execution_count": 26,
   "metadata": {},
   "outputs": [
    {
     "data": {
      "text/plain": [
       "<matplotlib.axes._subplots.AxesSubplot at 0x2019be92d88>"
      ]
     },
     "execution_count": 26,
     "metadata": {},
     "output_type": "execute_result"
    },
    {
     "data": {
      "image/png": "[encoded data removed]",
      "text/plain": [
       "<Figure size 432x288 with 1 Axes>"
      ]
     },
     "metadata": {},
     "output_type": "display_data"
    }
   ],
   "source": [
    "df[\"Company\"].value_counts().plot(kind = \"pie\")"
   ]
  },
  {
   "cell_type": "code",
   "execution_count": 40,
   "metadata": {},
   "outputs": [],
   "source": [
    "X = df[[\"Age\"]]\n",
    "y = df[[\"Salary\"]]"
   ]
  },
  {
   "cell_type": "code",
   "execution_count": 41,
   "metadata": {},
   "outputs": [],
   "source": [
    "from sklearn.model_selection import train_test_split"
   ]
  },
  {
   "cell_type": "code",
   "execution_count": 42,
   "metadata": {},
   "outputs": [],
   "source": [
    "train_X, test_X, train_y, test_y = train_test_split(X, y, test_size = 0.3, random_state = 100)"
   ]
  },
  {
   "cell_type": "code",
   "execution_count": 43,
   "metadata": {},
   "outputs": [
    {
     "data": {
      "text/html": [
       "<div>\n",
       "<style scoped>\n",
       "    .dataframe tbody tr th:only-of-type {\n",
       "        vertical-align: middle;\n",
       "    }\n",
       "\n",
       "    .dataframe tbody tr th {\n",
       "        vertical-align: top;\n",
       "    }\n",
       "\n",
       "    .dataframe thead th {\n",
       "        text-align: right;\n",
       "    }\n",
       "</style>\n",
       "<table border=\"1\" class=\"dataframe\">\n",
       "  <thead>\n",
       "    <tr style=\"text-align: right;\">\n",
       "      <th></th>\n",
       "      <th>Age</th>\n",
       "    </tr>\n",
       "  </thead>\n",
       "  <tbody>\n",
       "    <tr>\n",
       "      <th>26</th>\n",
       "      <td>34.0</td>\n",
       "    </tr>\n",
       "    <tr>\n",
       "      <th>45</th>\n",
       "      <td>46.0</td>\n",
       "    </tr>\n",
       "    <tr>\n",
       "      <th>8</th>\n",
       "      <td>34.0</td>\n",
       "    </tr>\n",
       "    <tr>\n",
       "      <th>5</th>\n",
       "      <td>33.0</td>\n",
       "    </tr>\n",
       "    <tr>\n",
       "      <th>16</th>\n",
       "      <td>23.0</td>\n",
       "    </tr>\n",
       "    <tr>\n",
       "      <th>...</th>\n",
       "      <td>...</td>\n",
       "    </tr>\n",
       "    <tr>\n",
       "      <th>111</th>\n",
       "      <td>0.0</td>\n",
       "    </tr>\n",
       "    <tr>\n",
       "      <th>134</th>\n",
       "      <td>31.0</td>\n",
       "    </tr>\n",
       "    <tr>\n",
       "      <th>85</th>\n",
       "      <td>17.0</td>\n",
       "    </tr>\n",
       "    <tr>\n",
       "      <th>30</th>\n",
       "      <td>46.0</td>\n",
       "    </tr>\n",
       "    <tr>\n",
       "      <th>11</th>\n",
       "      <td>34.0</td>\n",
       "    </tr>\n",
       "  </tbody>\n",
       "</table>\n",
       "<p>78 rows × 1 columns</p>\n",
       "</div>"
      ],
      "text/plain": [
       "      Age\n",
       "26   34.0\n",
       "45   46.0\n",
       "8    34.0\n",
       "5    33.0\n",
       "16   23.0\n",
       "..    ...\n",
       "111   0.0\n",
       "134  31.0\n",
       "85   17.0\n",
       "30   46.0\n",
       "11   34.0\n",
       "\n",
       "[78 rows x 1 columns]"
      ]
     },
     "execution_count": 43,
     "metadata": {},
     "output_type": "execute_result"
    }
   ],
   "source": [
    "train_X"
   ]
  },
  {
   "cell_type": "code",
   "execution_count": 44,
   "metadata": {},
   "outputs": [
    {
     "data": {
      "text/plain": [
       "((78, 1), (34, 1), (78, 1), (34, 1))"
      ]
     },
     "execution_count": 44,
     "metadata": {},
     "output_type": "execute_result"
    }
   ],
   "source": [
    "train_X.shape, test_X.shape, train_y.shape, test_y.shape"
   ]
  },
  {
   "cell_type": "code",
   "execution_count": 45,
   "metadata": {},
   "outputs": [],
   "source": [
    "import seaborn as sns"
   ]
  },
  {
   "cell_type": "code",
   "execution_count": 46,
   "metadata": {},
   "outputs": [
    {
     "data": {
      "text/plain": [
       "<matplotlib.axes._subplots.AxesSubplot at 0x2019c2dcfc8>"
      ]
     },
     "execution_count": 46,
     "metadata": {},
     "output_type": "execute_result"
    },
    {
     "data": {
      "image/png": "[encoded data removed]",
      "text/plain": [
       "<Figure size 432x288 with 1 Axes>"
      ]
     },
     "metadata": {
      "needs_background": "light"
     },
     "output_type": "display_data"
    }
   ],
   "source": [
    "df.plot(kind = \"scatter\", x = \"Age\", y = \"Salary\")"
   ]
  },
  {
   "cell_type": "code",
   "execution_count": 47,
   "metadata": {},
   "outputs": [],
   "source": [
    "from sklearn.linear_model import LinearRegression"
   ]
  },
  {
   "cell_type": "code",
   "execution_count": 48,
   "metadata": {},
   "outputs": [],
   "source": [
    "model = LinearRegression()"
   ]
  },
  {
   "cell_type": "code",
   "execution_count": 49,
   "metadata": {},
   "outputs": [
    {
     "data": {
      "text/plain": [
       "LinearRegression(copy_X=True, fit_intercept=True, n_jobs=None, normalize=False)"
      ]
     },
     "execution_count": 49,
     "metadata": {},
     "output_type": "execute_result"
    }
   ],
   "source": [
    "model.fit(train_X, train_y)"
   ]
  },
  {
   "cell_type": "code",
   "execution_count": 50,
   "metadata": {},
   "outputs": [
    {
     "data": {
      "text/plain": [
       "array([3363.1007786])"
      ]
     },
     "execution_count": 50,
     "metadata": {},
     "output_type": "execute_result"
    }
   ],
   "source": [
    "model.intercept_"
   ]
  },
  {
   "cell_type": "code",
   "execution_count": 51,
   "metadata": {},
   "outputs": [
    {
     "data": {
      "text/plain": [
       "array([[48.12373445]])"
      ]
     },
     "execution_count": 51,
     "metadata": {},
     "output_type": "execute_result"
    }
   ],
   "source": [
    "model.coef_"
   ]
  },
  {
   "cell_type": "code",
   "execution_count": 52,
   "metadata": {},
   "outputs": [],
   "source": [
    "pred_train = model.predict(train_X)"
   ]
  },
  {
   "cell_type": "code",
   "execution_count": 53,
   "metadata": {},
   "outputs": [
    {
     "data": {
      "text/plain": [
       "array([[4999.30774978],\n",
       "       [5576.79256314],\n",
       "       [4999.30774978],\n",
       "       [4951.18401533],\n",
       "       [4469.94667087],\n",
       "       [5095.55521867],\n",
       "       [4999.30774978],\n",
       "       [4421.82293642],\n",
       "       [3363.1007786 ],\n",
       "       [4421.82293642],\n",
       "       [3363.1007786 ],\n",
       "       [5336.1738909 ],\n",
       "       [5480.54509424],\n",
       "       [4951.18401533],\n",
       "       [4951.18401533],\n",
       "       [5047.43148422],\n",
       "       [4951.18401533],\n",
       "       [4951.18401533],\n",
       "       [4951.18401533],\n",
       "       [5288.05015646],\n",
       "       [5336.1738909 ],\n",
       "       [5480.54509424],\n",
       "       [4806.81281199],\n",
       "       [5047.43148422],\n",
       "       [4951.18401533],\n",
       "       [4903.06028088],\n",
       "       [4903.06028088],\n",
       "       [5191.80268756],\n",
       "       [4277.45173308],\n",
       "       [4421.82293642],\n",
       "       [4854.93654644],\n",
       "       [4999.30774978],\n",
       "       [4373.69920197],\n",
       "       [4421.82293642],\n",
       "       [4951.18401533],\n",
       "       [4614.31787421],\n",
       "       [4469.94667087],\n",
       "       [4421.82293642],\n",
       "       [5095.55521867],\n",
       "       [4903.06028088],\n",
       "       [4951.18401533],\n",
       "       [4951.18401533],\n",
       "       [5432.4213598 ],\n",
       "       [4469.94667087],\n",
       "       [4951.18401533],\n",
       "       [5528.66882869],\n",
       "       [4951.18401533],\n",
       "       [5480.54509424],\n",
       "       [4951.18401533],\n",
       "       [4999.30774978],\n",
       "       [5288.05015646],\n",
       "       [5336.1738909 ],\n",
       "       [4951.18401533],\n",
       "       [5095.55521867],\n",
       "       [4469.94667087],\n",
       "       [4951.18401533],\n",
       "       [4229.32799863],\n",
       "       [4373.69920197],\n",
       "       [5143.67895312],\n",
       "       [4903.06028088],\n",
       "       [5769.28750092],\n",
       "       [4421.82293642],\n",
       "       [4951.18401533],\n",
       "       [5143.67895312],\n",
       "       [5769.28750092],\n",
       "       [4951.18401533],\n",
       "       [4373.69920197],\n",
       "       [4325.57546753],\n",
       "       [4854.93654644],\n",
       "       [4951.18401533],\n",
       "       [5288.05015646],\n",
       "       [4951.18401533],\n",
       "       [5480.54509424],\n",
       "       [3363.1007786 ],\n",
       "       [4854.93654644],\n",
       "       [4181.20426419],\n",
       "       [5576.79256314],\n",
       "       [4999.30774978]])"
      ]
     },
     "execution_count": 53,
     "metadata": {},
     "output_type": "execute_result"
    }
   ],
   "source": [
    "pred_train"
   ]
  },
  {
   "cell_type": "code",
   "execution_count": 54,
   "metadata": {},
   "outputs": [
    {
     "data": {
      "text/plain": [
       "[<matplotlib.lines.Line2D at 0x2019c33ac08>]"
      ]
     },
     "execution_count": 54,
     "metadata": {},
     "output_type": "execute_result"
    },
    {
     "data": {
      "image/png": "[encoded data removed]",
      "text/plain": [
       "<Figure size 432x288 with 1 Axes>"
      ]
     },
     "metadata": {
      "needs_background": "light"
     },
     "output_type": "display_data"
    }
   ],
   "source": [
    "plt.scatter(train_X,train_y, color = \"green\")\n",
    "plt.scatter(test_X,test_y, color = \"red\")\n",
    "plt.plot(train_X,pred_train, 'b' )"
   ]
  },
  {
   "cell_type": "code",
   "execution_count": 55,
   "metadata": {},
   "outputs": [],
   "source": [
    "pred_test = model.predict(test_X)"
   ]
  },
  {
   "cell_type": "code",
   "execution_count": 56,
   "metadata": {},
   "outputs": [],
   "source": [
    "from sklearn.metrics import mean_squared_error, mean_absolute_error, r2_score"
   ]
  },
  {
   "cell_type": "code",
   "execution_count": 57,
   "metadata": {},
   "outputs": [
    {
     "data": {
      "text/plain": [
       "5942571.44645486"
      ]
     },
     "execution_count": 57,
     "metadata": {},
     "output_type": "execute_result"
    }
   ],
   "source": [
    "mean_squared_error(train_y, pred_train)"
   ]
  },
  {
   "cell_type": "code",
   "execution_count": 58,
   "metadata": {},
   "outputs": [
    {
     "data": {
      "text/plain": [
       "8370279.589643059"
      ]
     },
     "execution_count": 58,
     "metadata": {},
     "output_type": "execute_result"
    }
   ],
   "source": [
    "mean_squared_error(test_y, pred_test)"
   ]
  },
  {
   "cell_type": "code",
   "execution_count": 59,
   "metadata": {},
   "outputs": [
    {
     "data": {
      "text/plain": [
       "2036.4271582037006"
      ]
     },
     "execution_count": 59,
     "metadata": {},
     "output_type": "execute_result"
    }
   ],
   "source": [
    "mean_absolute_error(train_y, pred_train)"
   ]
  },
  {
   "cell_type": "code",
   "execution_count": 60,
   "metadata": {},
   "outputs": [
    {
     "data": {
      "text/plain": [
       "2508.374461054632"
      ]
     },
     "execution_count": 60,
     "metadata": {},
     "output_type": "execute_result"
    }
   ],
   "source": [
    "mean_absolute_error(test_y, pred_test)"
   ]
  },
  {
   "cell_type": "code",
   "execution_count": 61,
   "metadata": {},
   "outputs": [
    {
     "data": {
      "text/plain": [
       "0.03683083445850577"
      ]
     },
     "execution_count": 61,
     "metadata": {},
     "output_type": "execute_result"
    }
   ],
   "source": [
    "r2_score(train_y, pred_train)"
   ]
  },
  {
   "cell_type": "code",
   "execution_count": 62,
   "metadata": {},
   "outputs": [
    {
     "data": {
      "text/plain": [
       "-0.21410163436640506"
      ]
     },
     "execution_count": 62,
     "metadata": {},
     "output_type": "execute_result"
    }
   ],
   "source": [
    "r2_score(test_y, pred_test)"
   ]
  },
  {
   "cell_type": "code",
   "execution_count": 63,
   "metadata": {},
   "outputs": [],
   "source": [
    "data_Org = pd.get_dummies(df[\"Company\"])"
   ]
  },
  {
   "cell_type": "code",
   "execution_count": 64,
   "metadata": {},
   "outputs": [],
   "source": [
    "data_plc = pd.get_dummies(df[\"Place\"])"
   ]
  },
  {
   "cell_type": "code",
   "execution_count": 66,
   "metadata": {},
   "outputs": [],
   "source": [
    "data_new = pd.concat([data_Org,data_plc,df[[\"Age\",\"Salary\"]]], axis = 1)"
   ]
  },
  {
   "cell_type": "code",
   "execution_count": 67,
   "metadata": {},
   "outputs": [],
   "source": [
    "X = data_new.drop(columns=\"Salary\")"
   ]
  },
  {
   "cell_type": "code",
   "execution_count": 68,
   "metadata": {},
   "outputs": [],
   "source": [
    "y = data_new[\"Salary\"]"
   ]
  },
  {
   "cell_type": "code",
   "execution_count": 69,
   "metadata": {},
   "outputs": [
    {
     "data": {
      "text/html": [
       "<div>\n",
       "<style scoped>\n",
       "    .dataframe tbody tr th:only-of-type {\n",
       "        vertical-align: middle;\n",
       "    }\n",
       "\n",
       "    .dataframe tbody tr th {\n",
       "        vertical-align: top;\n",
       "    }\n",
       "\n",
       "    .dataframe thead th {\n",
       "        text-align: right;\n",
       "    }\n",
       "</style>\n",
       "<table border=\"1\" class=\"dataframe\">\n",
       "  <thead>\n",
       "    <tr style=\"text-align: right;\">\n",
       "      <th></th>\n",
       "      <th>CTS</th>\n",
       "      <th>Infosys</th>\n",
       "      <th>TCS</th>\n",
       "      <th>Bhopal</th>\n",
       "      <th>Calcutta</th>\n",
       "      <th>Chennai</th>\n",
       "      <th>Cochin</th>\n",
       "      <th>Delhi</th>\n",
       "      <th>Hyderabad</th>\n",
       "      <th>Mumbai</th>\n",
       "      <th>Nagpur</th>\n",
       "      <th>Noida</th>\n",
       "      <th>Podicherry</th>\n",
       "      <th>Pune</th>\n",
       "      <th>Age</th>\n",
       "      <th>Salary</th>\n",
       "    </tr>\n",
       "  </thead>\n",
       "  <tbody>\n",
       "    <tr>\n",
       "      <th>CTS</th>\n",
       "      <td>1.000000</td>\n",
       "      <td>-0.403876</td>\n",
       "      <td>-0.479253</td>\n",
       "      <td>-0.053495</td>\n",
       "      <td>-0.051473</td>\n",
       "      <td>-0.030065</td>\n",
       "      <td>0.024424</td>\n",
       "      <td>-0.045717</td>\n",
       "      <td>0.051318</td>\n",
       "      <td>-0.001343</td>\n",
       "      <td>-0.053495</td>\n",
       "      <td>0.051318</td>\n",
       "      <td>0.165071</td>\n",
       "      <td>0.168409</td>\n",
       "      <td>-0.016532</td>\n",
       "      <td>-0.135044</td>\n",
       "    </tr>\n",
       "    <tr>\n",
       "      <th>Infosys</th>\n",
       "      <td>-0.403876</td>\n",
       "      <td>1.000000</td>\n",
       "      <td>-0.609352</td>\n",
       "      <td>0.132453</td>\n",
       "      <td>-0.021835</td>\n",
       "      <td>0.040151</td>\n",
       "      <td>0.016973</td>\n",
       "      <td>0.016973</td>\n",
       "      <td>0.080758</td>\n",
       "      <td>0.023453</td>\n",
       "      <td>-0.068017</td>\n",
       "      <td>-0.086740</td>\n",
       "      <td>-0.002086</td>\n",
       "      <td>-0.068017</td>\n",
       "      <td>0.106122</td>\n",
       "      <td>-0.029185</td>\n",
       "    </tr>\n",
       "    <tr>\n",
       "      <th>TCS</th>\n",
       "      <td>-0.479253</td>\n",
       "      <td>-0.609352</td>\n",
       "      <td>1.000000</td>\n",
       "      <td>-0.080711</td>\n",
       "      <td>0.065562</td>\n",
       "      <td>-0.012463</td>\n",
       "      <td>-0.037453</td>\n",
       "      <td>0.023340</td>\n",
       "      <td>-0.121959</td>\n",
       "      <td>-0.021337</td>\n",
       "      <td>0.111621</td>\n",
       "      <td>0.038740</td>\n",
       "      <td>-0.141072</td>\n",
       "      <td>-0.080711</td>\n",
       "      <td>-0.087485</td>\n",
       "      <td>0.145048</td>\n",
       "    </tr>\n",
       "    <tr>\n",
       "      <th>Bhopal</th>\n",
       "      <td>-0.053495</td>\n",
       "      <td>0.132453</td>\n",
       "      <td>-0.080711</td>\n",
       "      <td>1.000000</td>\n",
       "      <td>-0.050880</td>\n",
       "      <td>-0.029719</td>\n",
       "      <td>-0.031324</td>\n",
       "      <td>-0.031324</td>\n",
       "      <td>-0.022582</td>\n",
       "      <td>-0.050880</td>\n",
       "      <td>-0.009009</td>\n",
       "      <td>-0.022582</td>\n",
       "      <td>-0.015747</td>\n",
       "      <td>-0.009009</td>\n",
       "      <td>-0.043319</td>\n",
       "      <td>0.066392</td>\n",
       "    </tr>\n",
       "    <tr>\n",
       "      <th>Calcutta</th>\n",
       "      <td>-0.051473</td>\n",
       "      <td>-0.021835</td>\n",
       "      <td>0.065562</td>\n",
       "      <td>-0.050880</td>\n",
       "      <td>1.000000</td>\n",
       "      <td>-0.167846</td>\n",
       "      <td>-0.176907</td>\n",
       "      <td>-0.176907</td>\n",
       "      <td>-0.127536</td>\n",
       "      <td>-0.287356</td>\n",
       "      <td>-0.050880</td>\n",
       "      <td>-0.127536</td>\n",
       "      <td>-0.088932</td>\n",
       "      <td>-0.050880</td>\n",
       "      <td>-0.106430</td>\n",
       "      <td>-0.084000</td>\n",
       "    </tr>\n",
       "    <tr>\n",
       "      <th>Chennai</th>\n",
       "      <td>-0.030065</td>\n",
       "      <td>0.040151</td>\n",
       "      <td>-0.012463</td>\n",
       "      <td>-0.029719</td>\n",
       "      <td>-0.167846</td>\n",
       "      <td>1.000000</td>\n",
       "      <td>-0.103332</td>\n",
       "      <td>-0.103332</td>\n",
       "      <td>-0.074494</td>\n",
       "      <td>-0.167846</td>\n",
       "      <td>-0.029719</td>\n",
       "      <td>-0.074494</td>\n",
       "      <td>-0.051945</td>\n",
       "      <td>-0.029719</td>\n",
       "      <td>-0.003604</td>\n",
       "      <td>0.076964</td>\n",
       "    </tr>\n",
       "    <tr>\n",
       "      <th>Cochin</th>\n",
       "      <td>0.024424</td>\n",
       "      <td>0.016973</td>\n",
       "      <td>-0.037453</td>\n",
       "      <td>-0.031324</td>\n",
       "      <td>-0.176907</td>\n",
       "      <td>-0.103332</td>\n",
       "      <td>1.000000</td>\n",
       "      <td>-0.108911</td>\n",
       "      <td>-0.078516</td>\n",
       "      <td>-0.176907</td>\n",
       "      <td>-0.031324</td>\n",
       "      <td>-0.078516</td>\n",
       "      <td>-0.054750</td>\n",
       "      <td>-0.031324</td>\n",
       "      <td>0.023713</td>\n",
       "      <td>-0.055508</td>\n",
       "    </tr>\n",
       "    <tr>\n",
       "      <th>Delhi</th>\n",
       "      <td>-0.045717</td>\n",
       "      <td>0.016973</td>\n",
       "      <td>0.023340</td>\n",
       "      <td>-0.031324</td>\n",
       "      <td>-0.176907</td>\n",
       "      <td>-0.103332</td>\n",
       "      <td>-0.108911</td>\n",
       "      <td>1.000000</td>\n",
       "      <td>-0.078516</td>\n",
       "      <td>-0.176907</td>\n",
       "      <td>-0.031324</td>\n",
       "      <td>-0.078516</td>\n",
       "      <td>-0.054750</td>\n",
       "      <td>-0.031324</td>\n",
       "      <td>0.129945</td>\n",
       "      <td>-0.046673</td>\n",
       "    </tr>\n",
       "    <tr>\n",
       "      <th>Hyderabad</th>\n",
       "      <td>0.051318</td>\n",
       "      <td>0.080758</td>\n",
       "      <td>-0.121959</td>\n",
       "      <td>-0.022582</td>\n",
       "      <td>-0.127536</td>\n",
       "      <td>-0.074494</td>\n",
       "      <td>-0.078516</td>\n",
       "      <td>-0.078516</td>\n",
       "      <td>1.000000</td>\n",
       "      <td>-0.127536</td>\n",
       "      <td>-0.022582</td>\n",
       "      <td>-0.056604</td>\n",
       "      <td>-0.039470</td>\n",
       "      <td>-0.022582</td>\n",
       "      <td>0.186629</td>\n",
       "      <td>-0.075502</td>\n",
       "    </tr>\n",
       "    <tr>\n",
       "      <th>Mumbai</th>\n",
       "      <td>-0.001343</td>\n",
       "      <td>0.023453</td>\n",
       "      <td>-0.021337</td>\n",
       "      <td>-0.050880</td>\n",
       "      <td>-0.287356</td>\n",
       "      <td>-0.167846</td>\n",
       "      <td>-0.176907</td>\n",
       "      <td>-0.176907</td>\n",
       "      <td>-0.127536</td>\n",
       "      <td>1.000000</td>\n",
       "      <td>-0.050880</td>\n",
       "      <td>-0.127536</td>\n",
       "      <td>-0.088932</td>\n",
       "      <td>-0.050880</td>\n",
       "      <td>-0.118111</td>\n",
       "      <td>-0.062598</td>\n",
       "    </tr>\n",
       "    <tr>\n",
       "      <th>Nagpur</th>\n",
       "      <td>-0.053495</td>\n",
       "      <td>-0.068017</td>\n",
       "      <td>0.111621</td>\n",
       "      <td>-0.009009</td>\n",
       "      <td>-0.050880</td>\n",
       "      <td>-0.029719</td>\n",
       "      <td>-0.031324</td>\n",
       "      <td>-0.031324</td>\n",
       "      <td>-0.022582</td>\n",
       "      <td>-0.050880</td>\n",
       "      <td>1.000000</td>\n",
       "      <td>-0.022582</td>\n",
       "      <td>-0.015747</td>\n",
       "      <td>-0.009009</td>\n",
       "      <td>0.008387</td>\n",
       "      <td>0.103269</td>\n",
       "    </tr>\n",
       "    <tr>\n",
       "      <th>Noida</th>\n",
       "      <td>0.051318</td>\n",
       "      <td>-0.086740</td>\n",
       "      <td>0.038740</td>\n",
       "      <td>-0.022582</td>\n",
       "      <td>-0.127536</td>\n",
       "      <td>-0.074494</td>\n",
       "      <td>-0.078516</td>\n",
       "      <td>-0.078516</td>\n",
       "      <td>-0.056604</td>\n",
       "      <td>-0.127536</td>\n",
       "      <td>-0.022582</td>\n",
       "      <td>1.000000</td>\n",
       "      <td>-0.039470</td>\n",
       "      <td>-0.022582</td>\n",
       "      <td>0.013822</td>\n",
       "      <td>-0.108333</td>\n",
       "    </tr>\n",
       "    <tr>\n",
       "      <th>Podicherry</th>\n",
       "      <td>0.165071</td>\n",
       "      <td>-0.002086</td>\n",
       "      <td>-0.141072</td>\n",
       "      <td>-0.015747</td>\n",
       "      <td>-0.088932</td>\n",
       "      <td>-0.051945</td>\n",
       "      <td>-0.054750</td>\n",
       "      <td>-0.054750</td>\n",
       "      <td>-0.039470</td>\n",
       "      <td>-0.088932</td>\n",
       "      <td>-0.015747</td>\n",
       "      <td>-0.039470</td>\n",
       "      <td>1.000000</td>\n",
       "      <td>-0.015747</td>\n",
       "      <td>-0.130945</td>\n",
       "      <td>-0.026877</td>\n",
       "    </tr>\n",
       "    <tr>\n",
       "      <th>Pune</th>\n",
       "      <td>0.168409</td>\n",
       "      <td>-0.068017</td>\n",
       "      <td>-0.080711</td>\n",
       "      <td>-0.009009</td>\n",
       "      <td>-0.050880</td>\n",
       "      <td>-0.029719</td>\n",
       "      <td>-0.031324</td>\n",
       "      <td>-0.031324</td>\n",
       "      <td>-0.022582</td>\n",
       "      <td>-0.050880</td>\n",
       "      <td>-0.009009</td>\n",
       "      <td>-0.022582</td>\n",
       "      <td>-0.015747</td>\n",
       "      <td>1.000000</td>\n",
       "      <td>0.103181</td>\n",
       "      <td>0.140146</td>\n",
       "    </tr>\n",
       "    <tr>\n",
       "      <th>Age</th>\n",
       "      <td>-0.016532</td>\n",
       "      <td>0.106122</td>\n",
       "      <td>-0.087485</td>\n",
       "      <td>-0.043319</td>\n",
       "      <td>-0.106430</td>\n",
       "      <td>-0.003604</td>\n",
       "      <td>0.023713</td>\n",
       "      <td>0.129945</td>\n",
       "      <td>0.186629</td>\n",
       "      <td>-0.118111</td>\n",
       "      <td>0.008387</td>\n",
       "      <td>0.013822</td>\n",
       "      <td>-0.130945</td>\n",
       "      <td>0.103181</td>\n",
       "      <td>1.000000</td>\n",
       "      <td>0.126078</td>\n",
       "    </tr>\n",
       "    <tr>\n",
       "      <th>Salary</th>\n",
       "      <td>-0.135044</td>\n",
       "      <td>-0.029185</td>\n",
       "      <td>0.145048</td>\n",
       "      <td>0.066392</td>\n",
       "      <td>-0.084000</td>\n",
       "      <td>0.076964</td>\n",
       "      <td>-0.055508</td>\n",
       "      <td>-0.046673</td>\n",
       "      <td>-0.075502</td>\n",
       "      <td>-0.062598</td>\n",
       "      <td>0.103269</td>\n",
       "      <td>-0.108333</td>\n",
       "      <td>-0.026877</td>\n",
       "      <td>0.140146</td>\n",
       "      <td>0.126078</td>\n",
       "      <td>1.000000</td>\n",
       "    </tr>\n",
       "  </tbody>\n",
       "</table>\n",
       "</div>"
      ],
      "text/plain": [
       "                 CTS   Infosys       TCS    Bhopal  Calcutta   Chennai  \\\n",
       "CTS         1.000000 -0.403876 -0.479253 -0.053495 -0.051473 -0.030065   \n",
       "Infosys    -0.403876  1.000000 -0.609352  0.132453 -0.021835  0.040151   \n",
       "TCS        -0.479253 -0.609352  1.000000 -0.080711  0.065562 -0.012463   \n",
       "Bhopal     -0.053495  0.132453 -0.080711  1.000000 -0.050880 -0.029719   \n",
       "Calcutta   -0.051473 -0.021835  0.065562 -0.050880  1.000000 -0.167846   \n",
       "Chennai    -0.030065  0.040151 -0.012463 -0.029719 -0.167846  1.000000   \n",
       "Cochin      0.024424  0.016973 -0.037453 -0.031324 -0.176907 -0.103332   \n",
       "Delhi      -0.045717  0.016973  0.023340 -0.031324 -0.176907 -0.103332   \n",
       "Hyderabad   0.051318  0.080758 -0.121959 -0.022582 -0.127536 -0.074494   \n",
       "Mumbai     -0.001343  0.023453 -0.021337 -0.050880 -0.287356 -0.167846   \n",
       "Nagpur     -0.053495 -0.068017  0.111621 -0.009009 -0.050880 -0.029719   \n",
       "Noida       0.051318 -0.086740  0.038740 -0.022582 -0.127536 -0.074494   \n",
       "Podicherry  0.165071 -0.002086 -0.141072 -0.015747 -0.088932 -0.051945   \n",
       "Pune        0.168409 -0.068017 -0.080711 -0.009009 -0.050880 -0.029719   \n",
       "Age        -0.016532  0.106122 -0.087485 -0.043319 -0.106430 -0.003604   \n",
       "Salary     -0.135044 -0.029185  0.145048  0.066392 -0.084000  0.076964   \n",
       "\n",
       "              Cochin     Delhi  Hyderabad    Mumbai    Nagpur     Noida  \\\n",
       "CTS         0.024424 -0.045717   0.051318 -0.001343 -0.053495  0.051318   \n",
       "Infosys     0.016973  0.016973   0.080758  0.023453 -0.068017 -0.086740   \n",
       "TCS        -0.037453  0.023340  -0.121959 -0.021337  0.111621  0.038740   \n",
       "Bhopal     -0.031324 -0.031324  -0.022582 -0.050880 -0.009009 -0.022582   \n",
       "Calcutta   -0.176907 -0.176907  -0.127536 -0.287356 -0.050880 -0.127536   \n",
       "Chennai    -0.103332 -0.103332  -0.074494 -0.167846 -0.029719 -0.074494   \n",
       "Cochin      1.000000 -0.108911  -0.078516 -0.176907 -0.031324 -0.078516   \n",
       "Delhi      -0.108911  1.000000  -0.078516 -0.176907 -0.031324 -0.078516   \n",
       "Hyderabad  -0.078516 -0.078516   1.000000 -0.127536 -0.022582 -0.056604   \n",
       "Mumbai     -0.176907 -0.176907  -0.127536  1.000000 -0.050880 -0.127536   \n",
       "Nagpur     -0.031324 -0.031324  -0.022582 -0.050880  1.000000 -0.022582   \n",
       "Noida      -0.078516 -0.078516  -0.056604 -0.127536 -0.022582  1.000000   \n",
       "Podicherry -0.054750 -0.054750  -0.039470 -0.088932 -0.015747 -0.039470   \n",
       "Pune       -0.031324 -0.031324  -0.022582 -0.050880 -0.009009 -0.022582   \n",
       "Age         0.023713  0.129945   0.186629 -0.118111  0.008387  0.013822   \n",
       "Salary     -0.055508 -0.046673  -0.075502 -0.062598  0.103269 -0.108333   \n",
       "\n",
       "            Podicherry      Pune       Age    Salary  \n",
       "CTS           0.165071  0.168409 -0.016532 -0.135044  \n",
       "Infosys      -0.002086 -0.068017  0.106122 -0.029185  \n",
       "TCS          -0.141072 -0.080711 -0.087485  0.145048  \n",
       "Bhopal       -0.015747 -0.009009 -0.043319  0.066392  \n",
       "Calcutta     -0.088932 -0.050880 -0.106430 -0.084000  \n",
       "Chennai      -0.051945 -0.029719 -0.003604  0.076964  \n",
       "Cochin       -0.054750 -0.031324  0.023713 -0.055508  \n",
       "Delhi        -0.054750 -0.031324  0.129945 -0.046673  \n",
       "Hyderabad    -0.039470 -0.022582  0.186629 -0.075502  \n",
       "Mumbai       -0.088932 -0.050880 -0.118111 -0.062598  \n",
       "Nagpur       -0.015747 -0.009009  0.008387  0.103269  \n",
       "Noida        -0.039470 -0.022582  0.013822 -0.108333  \n",
       "Podicherry    1.000000 -0.015747 -0.130945 -0.026877  \n",
       "Pune         -0.015747  1.000000  0.103181  0.140146  \n",
       "Age          -0.130945  0.103181  1.000000  0.126078  \n",
       "Salary       -0.026877  0.140146  0.126078  1.000000  "
      ]
     },
     "execution_count": 69,
     "metadata": {},
     "output_type": "execute_result"
    }
   ],
   "source": [
    "data_new.corr()"
   ]
  },
  {
   "cell_type": "code",
   "execution_count": 71,
   "metadata": {},
   "outputs": [
    {
     "data": {
      "text/plain": [
       "((78, 15), (34, 15), (78,), (34,))"
      ]
     },
     "execution_count": 71,
     "metadata": {},
     "output_type": "execute_result"
    }
   ],
   "source": [
    "from sklearn.model_selection import train_test_split\n",
    "\n",
    "train_X, test_X, train_y, test_y = train_test_split(X, y, test_size = 0.3, random_state = 6)\n",
    "\n",
    "#val_X, test_X, val_y, test_y = train_test_split(test_X, test_y, test_size = 0.5, random_state = 9)\n",
    "\n",
    "train_X\n",
    "\n",
    "df.shape\n",
    "\n",
    "train_X.shape, test_X.shape, train_y.shape, test_y.shape"
   ]
  },
  {
   "cell_type": "code",
   "execution_count": 72,
   "metadata": {},
   "outputs": [
    {
     "data": {
      "text/plain": [
       "LinearRegression(copy_X=True, fit_intercept=True, n_jobs=None, normalize=False)"
      ]
     },
     "execution_count": 72,
     "metadata": {},
     "output_type": "execute_result"
    }
   ],
   "source": [
    "model = LinearRegression()\n",
    "\n",
    "model.fit(train_X, train_y)"
   ]
  },
  {
   "cell_type": "code",
   "execution_count": 73,
   "metadata": {},
   "outputs": [
    {
     "data": {
      "text/plain": [
       "5383.573788292321"
      ]
     },
     "execution_count": 73,
     "metadata": {},
     "output_type": "execute_result"
    }
   ],
   "source": [
    "model.intercept_"
   ]
  },
  {
   "cell_type": "code",
   "execution_count": 74,
   "metadata": {},
   "outputs": [
    {
     "data": {
      "text/plain": [
       "array([-2.93054493e+02, -4.17175097e+02,  7.10229590e+02,  7.37809895e+02,\n",
       "       -1.41854356e+03, -1.52087000e+03, -2.09658582e+03, -2.42824394e+03,\n",
       "       -2.70082822e+03, -1.21727562e+03,  3.41060513e-13, -1.48487960e+03,\n",
       "       -1.37953069e+03,  1.76644106e+03,  4.98381313e+01])"
      ]
     },
     "execution_count": 74,
     "metadata": {},
     "output_type": "execute_result"
    }
   ],
   "source": [
    "model.coef_"
   ]
  },
  {
   "cell_type": "code",
   "execution_count": 75,
   "metadata": {},
   "outputs": [],
   "source": [
    "pred_train = model.predict(train_X)\n",
    "pred_test = model.predict(test_X)"
   ]
  },
  {
   "cell_type": "code",
   "execution_count": 76,
   "metadata": {},
   "outputs": [
    {
     "name": "stdout",
     "output_type": "stream",
     "text": [
      "Train - MSE 5707732.494199989\n",
      "Test - MSE 6671265.806032529\n",
      "Train - MAE 2003.9340221307473\n",
      "Test - MAE 2286.4380003638444\n",
      "Train - R2 Score 0.1465899205586455\n",
      "Test - R2 Score -0.14293986725622498\n"
     ]
    }
   ],
   "source": [
    "from sklearn.metrics import mean_squared_error, mean_absolute_error, r2_score\n",
    "\n",
    "print(\"Train - MSE\",mean_squared_error(train_y, pred_train))\n",
    "\n",
    "print(\"Test - MSE\",mean_squared_error(test_y, pred_test))\n",
    "\n",
    "print(\"Train - MAE\",mean_absolute_error(train_y, pred_train))\n",
    "\n",
    "print(\"Test - MAE\",mean_absolute_error(test_y, pred_test))\n",
    "\n",
    "print(\"Train - R2 Score\",r2_score(train_y, pred_train))\n",
    "\n",
    "print(\"Test - R2 Score\",r2_score(test_y, pred_test))"
   ]
  },
  {
   "cell_type": "code",
   "execution_count": null,
   "metadata": {},
   "outputs": [],
   "source": []
  }
 ],
 "metadata": {
  "kernelspec": {
   "display_name": "Python 3",
   "language": "python",
   "name": "python3"
  },
  "language_info": {
   "codemirror_mode": {
    "name": "ipython",
    "version": 3
   },
   "file_extension": ".py",
   "mimetype": "text/x-python",
   "name": "python",
   "nbconvert_exporter": "python",
   "pygments_lexer": "ipython3",
   "version": "3.7.6"
  }
 },
 "nbformat": 4,
 "nbformat_minor": 4
}
