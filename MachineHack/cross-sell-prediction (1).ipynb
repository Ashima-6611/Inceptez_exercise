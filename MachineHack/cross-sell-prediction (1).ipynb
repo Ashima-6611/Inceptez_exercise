{
 "cells": [
  {
   "cell_type": "code",
   "execution_count": 1,
   "metadata": {
    "_cell_guid": "b1076dfc-b9ad-4769-8c92-a6c4dae69d19",
    "_uuid": "8f2839f25d086af736a60e9eeb907d3b93b6e0e5",
    "execution": {
     "iopub.execute_input": "2020-12-13T02:53:42.819885Z",
     "iopub.status.busy": "2020-12-13T02:53:42.818831Z",
     "iopub.status.idle": "2020-12-13T02:53:42.842346Z",
     "shell.execute_reply": "2020-12-13T02:53:42.843339Z"
    },
    "papermill": {
     "duration": 0.100344,
     "end_time": "2020-12-13T02:53:42.843638",
     "exception": false,
     "start_time": "2020-12-13T02:53:42.743294",
     "status": "completed"
    },
    "tags": []
   },
   "outputs": [
    {
     "name": "stdout",
     "output_type": "stream",
     "text": [
      "../input/crosssellprediction/train.csv\n",
      "../input/crosssellprediction/test.csv\n",
      "../input/crosssellprediction/sample_submission_iA3afxn.csv\n"
     ]
    }
   ],
   "source": [
    "# This Python 3 environment comes with many helpful analytics libraries installed\n",
    "# It is defined by the kaggle/python Docker image: https://github.com/kaggle/docker-python\n",
    "# For example, here's several helpful packages to load\n",
    "\n",
    "import numpy as np # linear algebra\n",
    "import pandas as pd # data processing, CSV file I/O (e.g. pd.read_csv)\n",
    "\n",
    "# Input data files are available in the read-only \"../input/\" directory\n",
    "# For example, running this (by clicking run or pressing Shift+Enter) will list all files under the input directory\n",
    "\n",
    "import os\n",
    "for dirname, _, filenames in os.walk('../input/crosssellprediction'):\n",
    "    for filename in filenames:\n",
    "        print(os.path.join(dirname, filename))\n",
    "\n",
    "# You can write up to 20GB to the current directory (/kaggle/working/) that gets preserved as output when you create a version using \"Save & Run All\" \n",
    "# You can also write temporary files to /kaggle/temp/, but they won't be saved outside of the current session"
   ]
  },
  {
   "cell_type": "markdown",
   "metadata": {
    "papermill": {
     "duration": 0.069808,
     "end_time": "2020-12-13T02:53:42.985978",
     "exception": false,
     "start_time": "2020-12-13T02:53:42.916170",
     "status": "completed"
    },
    "tags": []
   },
   "source": [
    "# **Problem Statement**"
   ]
  },
  {
   "cell_type": "markdown",
   "metadata": {
    "papermill": {
     "duration": 0.069821,
     "end_time": "2020-12-13T02:53:43.128661",
     "exception": false,
     "start_time": "2020-12-13T02:53:43.058840",
     "status": "completed"
    },
    "tags": []
   },
   "source": [
    "Your client is an Insurance company that has provided Health Insurance to its customers now they need your help in building a model to predict whether the policyholders (customers) from past year will also be interested in Vehicle Insurance provided by the company.\n",
    "\n",
    "An insurance policy is an arrangement by which a company undertakes to provide a guarantee of compensation for specified loss, damage, illness, or death in return for the payment of a specified premium. A premium is a sum of money that the customer needs to pay regularly to an insurance company for this guarantee.\n",
    "\n",
    "For example, you may pay a premium of Rs. 5000 each year for a health insurance cover of Rs. 200,000/- so that if, God forbid, you fall ill and need to be hospitalised in that year, the insurance provider company will bear the cost of hospitalisation etc. for upto Rs. 200,000. Now if you are wondering how can company bear such high hospitalisation cost when it charges a premium of only Rs. 5000/-, that is where the concept of probabilities comes in picture. For example, like you, there may be 100 customers who would be paying a premium of Rs. 5000 every year, but only a few of them (say 2-3) would get hospitalised that year and not everyone. This way everyone shares the risk of everyone else.\n",
    "\n",
    "Just like medical insurance, there is vehicle insurance where every year customer needs to pay a premium of certain amount to insurance provider company so that in case of unfortunate accident by the vehicle, the insurance provider company will provide a compensation (called ‘sum assured’) to the customer.\n",
    "\n",
    "Building a model to predict whether a customer would be interested in Vehicle Insurance is extremely helpful for the company because it can then accordingly plan its communication strategy to reach out to those customers and optimise its business model and revenue. \n",
    "\n",
    "Now, in order to predict, whether the customer would be interested in Vehicle insurance, you have information about demographics (gender, age, region code type), Vehicles (Vehicle Age, Damage), Policy (Premium, sourcing channel) etc."
   ]
  },
  {
   "cell_type": "markdown",
   "metadata": {
    "papermill": {
     "duration": 0.069126,
     "end_time": "2020-12-13T02:53:43.266924",
     "exception": false,
     "start_time": "2020-12-13T02:53:43.197798",
     "status": "completed"
    },
    "tags": []
   },
   "source": [
    "# Data Description"
   ]
  },
  {
   "cell_type": "markdown",
   "metadata": {
    "papermill": {
     "duration": 0.06965,
     "end_time": "2020-12-13T02:53:43.405670",
     "exception": false,
     "start_time": "2020-12-13T02:53:43.336020",
     "status": "completed"
    },
    "tags": []
   },
   "source": [
    "* id -\tUnique ID for the customer\n",
    "* Gender -\tGender of the customer\n",
    "* Age - Age of the customer\n",
    "* Driving_License -\t0 : Customer does not have DL, 1 : Customer already has DL\n",
    "* Region_Code - Unique code for the region of the customer\n",
    "* Previously_Insured -\t1 : Customer already has Vehicle Insurance, 0 : Customer doesn't have Vehicle Insurance\n",
    "* Vehicle_Age -\tAge of the Vehicle \n",
    "* Vehicle_Damage - 1 : Customer got his/her vehicle damaged in the past, 0 : Customer didn't get his/her vehicle damaged in the past.\n",
    "* Annual_Premium -\tThe amount customer needs to pay as premium in the year\n",
    "* Policy_Sales_Channel\tAnonymised Code for the channel of outreaching to the customer ie. Different Agents, Over Mail, Over Phone, In Person, etc.\n",
    "* Vintage -\tNumber of Days, Customer has been associated with the company\n",
    "* Response - 1 :  Customer is interested, 0 : Customer is not interested"
   ]
  },
  {
   "cell_type": "markdown",
   "metadata": {
    "papermill": {
     "duration": 0.070223,
     "end_time": "2020-12-13T02:53:43.546488",
     "exception": false,
     "start_time": "2020-12-13T02:53:43.476265",
     "status": "completed"
    },
    "tags": []
   },
   "source": [
    "* We can see that variables 1 to 11 can be used for modelling.\n",
    "* Variable 'id' is Identifier column. It has a unique value for every sample in the dataset and cannot be used for modelling.\n",
    "* Variable 'Response' is Target/y column. It has binary values and we need to learn to predict this variable given our above 11 variables as features."
   ]
  },
  {
   "cell_type": "markdown",
   "metadata": {
    "papermill": {
     "duration": 0.071209,
     "end_time": "2020-12-13T02:53:43.687477",
     "exception": false,
     "start_time": "2020-12-13T02:53:43.616268",
     "status": "completed"
    },
    "tags": []
   },
   "source": [
    "# Hypothesis Generation\n",
    "\n",
    "Are old customers more likely to subscribe to Vehicle Insurance compared to young customers ?\n",
    "\n",
    "Are Male customers more interseted in opting for the to Vehicle Insurance compared to female customers ?\n",
    "\n",
    "Customers holding driving license are likely to entertain the request for Vehicle Insurance or not?\n",
    "\n",
    "Does the region the customer belongs to tell us anything about their chances of subscribing ? \n",
    "\n",
    "Customer with previous insurance live are interested in opting?\n",
    "\n",
    "Are the customers with less age of vehicle is not more interested in subscribing?\n",
    "\n",
    "Customer with damaged vehicles will opt or not?\n",
    "\n",
    "Does the channel(email, Phone) via which the customer getting contacted have any impact on opting?\n",
    "\n",
    "Does the number of days the customers have associated with the insurance company and their response to interest in vehicle insurance are correlated?"
   ]
  },
  {
   "cell_type": "code",
   "execution_count": 2,
   "metadata": {
    "execution": {
     "iopub.execute_input": "2020-12-13T02:53:43.831360Z",
     "iopub.status.busy": "2020-12-13T02:53:43.830525Z",
     "iopub.status.idle": "2020-12-13T02:53:46.376340Z",
     "shell.execute_reply": "2020-12-13T02:53:46.375702Z"
    },
    "papermill": {
     "duration": 2.619177,
     "end_time": "2020-12-13T02:53:46.376483",
     "exception": false,
     "start_time": "2020-12-13T02:53:43.757306",
     "status": "completed"
    },
    "tags": []
   },
   "outputs": [],
   "source": [
    "import numpy as np\n",
    "import pandas as pd\n",
    "import matplotlib.pyplot as plt\n",
    "%matplotlib inline\n",
    "plt.style.use('seaborn-whitegrid')\n",
    "import seaborn as sns\n",
    "from sklearn.preprocessing import StandardScaler, OrdinalEncoder, LabelEncoder, OneHotEncoder\n",
    "from sklearn.model_selection import train_test_split,StratifiedShuffleSplit,StratifiedKFold\n",
    "from xgboost import XGBClassifier,XGBRFClassifier\n",
    "from bayes_opt import BayesianOptimization\n",
    "from sklearn.metrics import roc_auc_score,accuracy_score ,confusion_matrix\n",
    "from sklearn.preprocessing import KBinsDiscretizer\n",
    "from sklearn.preprocessing import RobustScaler\n",
    "from sklearn.linear_model import LogisticRegression\n",
    "from sklearn.ensemble import RandomForestClassifier,StackingClassifier\n",
    "\n",
    "\n",
    "from sklearn.model_selection import cross_val_score\n",
    "from sklearn.metrics import mean_squared_error, make_scorer"
   ]
  },
  {
   "cell_type": "markdown",
   "metadata": {
    "papermill": {
     "duration": 0.069673,
     "end_time": "2020-12-13T02:53:46.516330",
     "exception": false,
     "start_time": "2020-12-13T02:53:46.446657",
     "status": "completed"
    },
    "tags": []
   },
   "source": [
    "# EDA\n",
    "\n",
    "* We have been provided with three files"
   ]
  },
  {
   "cell_type": "code",
   "execution_count": 3,
   "metadata": {
    "execution": {
     "iopub.execute_input": "2020-12-13T02:53:46.662451Z",
     "iopub.status.busy": "2020-12-13T02:53:46.661754Z",
     "iopub.status.idle": "2020-12-13T02:53:47.650254Z",
     "shell.execute_reply": "2020-12-13T02:53:47.649574Z"
    },
    "papermill": {
     "duration": 1.064881,
     "end_time": "2020-12-13T02:53:47.650481",
     "exception": false,
     "start_time": "2020-12-13T02:53:46.585600",
     "status": "completed"
    },
    "tags": []
   },
   "outputs": [],
   "source": [
    "#reading sample sub file, train and test file\n",
    "ss = pd.read_csv('../input/crosssellprediction/sample_submission_iA3afxn.csv')\n",
    "train = pd.read_csv('../input/crosssellprediction/train.csv')\n",
    "test = pd.read_csv('../input/crosssellprediction/test.csv')\n",
    "\n",
    "\n"
   ]
  },
  {
   "cell_type": "code",
   "execution_count": 4,
   "metadata": {
    "execution": {
     "iopub.execute_input": "2020-12-13T02:53:47.807292Z",
     "iopub.status.busy": "2020-12-13T02:53:47.806602Z",
     "iopub.status.idle": "2020-12-13T02:53:47.809124Z",
     "shell.execute_reply": "2020-12-13T02:53:47.810078Z"
    },
    "papermill": {
     "duration": 0.090095,
     "end_time": "2020-12-13T02:53:47.810233",
     "exception": false,
     "start_time": "2020-12-13T02:53:47.720138",
     "status": "completed"
    },
    "tags": []
   },
   "outputs": [],
   "source": [
    "def class_distribution(df, target_col):\n",
    "  '''\n",
    "  Function to view distribution of target class\n",
    "  '''\n",
    "  class_dist = df[target_col].value_counts().to_dict()\n",
    "  for i in class_dist.keys():\n",
    "    percent = (class_dist[i]/train.shape[0])*100\n",
    "    print(f'Number of records in class {i}: '+str(round(percent,2))+'% values:' +  str(class_dist[i]) )\n",
    "\n",
    "\n",
    "def miss_data(df):\n",
    "  '''\n",
    "  Missing data details\n",
    "  '''\n",
    "  x = ['column_name','missing_data', 'missing_in_percentage']\n",
    "  missing_data = pd.DataFrame(columns=x)\n",
    "  columns = df.columns\n",
    "  for col in columns:\n",
    "      icolumn_name = col\n",
    "      imissing_data = df[col].isnull().sum()\n",
    "      imissing_in_percentage = (df[col].isnull().sum()/df[col].shape[0])*100\n",
    "\n",
    "      missing_data.loc[len(missing_data)] = [icolumn_name, imissing_data, imissing_in_percentage]\n",
    "  print(missing_data)\n",
    "\n",
    "def evaluate_model(y_true, y_pred):\n",
    "  '''\n",
    "  Validating the prediction values\n",
    "  '''\n",
    "  print('CLASSIFICATION REPORT')\n",
    "  print('***************************')\n",
    "  print(classification_report(y_true,y_pred))\n",
    "  print('CONFUSION MATRIX')\n",
    "  print('****************************')\n",
    "  cm = confusion_matrix(y_true, y_pred)\n",
    "  cm_df = pd.DataFrame(cm.T, index=[0,1], columns=[0,1])\n",
    "  cm_df.index.name = 'Predicted'\n",
    "  cm_df.columns.name = 'True'\n",
    "  print(cm_df)\n",
    "  print('F1-Score')\n",
    "  print('***************************')\n",
    "  print( f1_score(y_true, y_pred))\n",
    "  print('ROC_AUC')\n",
    "  print('***************************')\n",
    "  print(roc_auc_score(y_true,y_pred))"
   ]
  },
  {
   "cell_type": "markdown",
   "metadata": {
    "papermill": {
     "duration": 0.071077,
     "end_time": "2020-12-13T02:53:47.952405",
     "exception": false,
     "start_time": "2020-12-13T02:53:47.881328",
     "status": "completed"
    },
    "tags": []
   },
   "source": [
    "Printing the shape of train and test file"
   ]
  },
  {
   "cell_type": "code",
   "execution_count": 5,
   "metadata": {
    "execution": {
     "iopub.execute_input": "2020-12-13T02:53:48.099942Z",
     "iopub.status.busy": "2020-12-13T02:53:48.099160Z",
     "iopub.status.idle": "2020-12-13T02:53:48.107665Z",
     "shell.execute_reply": "2020-12-13T02:53:48.108487Z"
    },
    "papermill": {
     "duration": 0.085982,
     "end_time": "2020-12-13T02:53:48.109015",
     "exception": false,
     "start_time": "2020-12-13T02:53:48.023033",
     "status": "completed"
    },
    "tags": []
   },
   "outputs": [
    {
     "name": "stdout",
     "output_type": "stream",
     "text": [
      "\n",
      "Train contains 381109 samples and 12 variables\n",
      "\n",
      "Test contains 127037 samples and 11 variables\n"
     ]
    }
   ],
   "source": [
    "print(f'\\nTrain contains {train.shape[0]} samples and {train.shape[1]} variables')\n",
    "print(f'\\nTest contains {test.shape[0]} samples and {test.shape[1]} variables')"
   ]
  },
  {
   "cell_type": "markdown",
   "metadata": {
    "papermill": {
     "duration": 0.069928,
     "end_time": "2020-12-13T02:53:48.249597",
     "exception": false,
     "start_time": "2020-12-13T02:53:48.179669",
     "status": "completed"
    },
    "tags": []
   },
   "source": [
    "As mentioned earlier we have 11 features as inputs and one as target\n",
    "\n",
    "# Exploring the train and test dataset more"
   ]
  },
  {
   "cell_type": "code",
   "execution_count": 6,
   "metadata": {
    "execution": {
     "iopub.execute_input": "2020-12-13T02:53:48.399223Z",
     "iopub.status.busy": "2020-12-13T02:53:48.398136Z",
     "iopub.status.idle": "2020-12-13T02:53:48.429441Z",
     "shell.execute_reply": "2020-12-13T02:53:48.428841Z"
    },
    "papermill": {
     "duration": 0.109969,
     "end_time": "2020-12-13T02:53:48.429559",
     "exception": false,
     "start_time": "2020-12-13T02:53:48.319590",
     "status": "completed"
    },
    "tags": []
   },
   "outputs": [
    {
     "data": {
      "text/html": [
       "<div>\n",
       "<style scoped>\n",
       "    .dataframe tbody tr th:only-of-type {\n",
       "        vertical-align: middle;\n",
       "    }\n",
       "\n",
       "    .dataframe tbody tr th {\n",
       "        vertical-align: top;\n",
       "    }\n",
       "\n",
       "    .dataframe thead th {\n",
       "        text-align: right;\n",
       "    }\n",
       "</style>\n",
       "<table border=\"1\" class=\"dataframe\">\n",
       "  <thead>\n",
       "    <tr style=\"text-align: right;\">\n",
       "      <th></th>\n",
       "      <th>id</th>\n",
       "      <th>Gender</th>\n",
       "      <th>Age</th>\n",
       "      <th>Driving_License</th>\n",
       "      <th>Region_Code</th>\n",
       "      <th>Previously_Insured</th>\n",
       "      <th>Vehicle_Age</th>\n",
       "      <th>Vehicle_Damage</th>\n",
       "      <th>Annual_Premium</th>\n",
       "      <th>Policy_Sales_Channel</th>\n",
       "      <th>Vintage</th>\n",
       "      <th>Response</th>\n",
       "    </tr>\n",
       "  </thead>\n",
       "  <tbody>\n",
       "    <tr>\n",
       "      <th>0</th>\n",
       "      <td>1</td>\n",
       "      <td>Male</td>\n",
       "      <td>44</td>\n",
       "      <td>1</td>\n",
       "      <td>28.0</td>\n",
       "      <td>0</td>\n",
       "      <td>&gt; 2 Years</td>\n",
       "      <td>Yes</td>\n",
       "      <td>40454.0</td>\n",
       "      <td>26.0</td>\n",
       "      <td>217</td>\n",
       "      <td>1</td>\n",
       "    </tr>\n",
       "    <tr>\n",
       "      <th>1</th>\n",
       "      <td>2</td>\n",
       "      <td>Male</td>\n",
       "      <td>76</td>\n",
       "      <td>1</td>\n",
       "      <td>3.0</td>\n",
       "      <td>0</td>\n",
       "      <td>1-2 Year</td>\n",
       "      <td>No</td>\n",
       "      <td>33536.0</td>\n",
       "      <td>26.0</td>\n",
       "      <td>183</td>\n",
       "      <td>0</td>\n",
       "    </tr>\n",
       "    <tr>\n",
       "      <th>2</th>\n",
       "      <td>3</td>\n",
       "      <td>Male</td>\n",
       "      <td>47</td>\n",
       "      <td>1</td>\n",
       "      <td>28.0</td>\n",
       "      <td>0</td>\n",
       "      <td>&gt; 2 Years</td>\n",
       "      <td>Yes</td>\n",
       "      <td>38294.0</td>\n",
       "      <td>26.0</td>\n",
       "      <td>27</td>\n",
       "      <td>1</td>\n",
       "    </tr>\n",
       "  </tbody>\n",
       "</table>\n",
       "</div>"
      ],
      "text/plain": [
       "   id Gender  Age  Driving_License  Region_Code  Previously_Insured  \\\n",
       "0   1   Male   44                1         28.0                   0   \n",
       "1   2   Male   76                1          3.0                   0   \n",
       "2   3   Male   47                1         28.0                   0   \n",
       "\n",
       "  Vehicle_Age Vehicle_Damage  Annual_Premium  Policy_Sales_Channel  Vintage  \\\n",
       "0   > 2 Years            Yes         40454.0                  26.0      217   \n",
       "1    1-2 Year             No         33536.0                  26.0      183   \n",
       "2   > 2 Years            Yes         38294.0                  26.0       27   \n",
       "\n",
       "   Response  \n",
       "0         1  \n",
       "1         0  \n",
       "2         1  "
      ]
     },
     "execution_count": 6,
     "metadata": {},
     "output_type": "execute_result"
    }
   ],
   "source": [
    "train.head(3)"
   ]
  },
  {
   "cell_type": "code",
   "execution_count": 7,
   "metadata": {
    "execution": {
     "iopub.execute_input": "2020-12-13T02:53:48.596816Z",
     "iopub.status.busy": "2020-12-13T02:53:48.595831Z",
     "iopub.status.idle": "2020-12-13T02:53:48.600496Z",
     "shell.execute_reply": "2020-12-13T02:53:48.601131Z"
    },
    "papermill": {
     "duration": 0.098649,
     "end_time": "2020-12-13T02:53:48.601273",
     "exception": false,
     "start_time": "2020-12-13T02:53:48.502624",
     "status": "completed"
    },
    "tags": []
   },
   "outputs": [
    {
     "data": {
      "text/html": [
       "<div>\n",
       "<style scoped>\n",
       "    .dataframe tbody tr th:only-of-type {\n",
       "        vertical-align: middle;\n",
       "    }\n",
       "\n",
       "    .dataframe tbody tr th {\n",
       "        vertical-align: top;\n",
       "    }\n",
       "\n",
       "    .dataframe thead th {\n",
       "        text-align: right;\n",
       "    }\n",
       "</style>\n",
       "<table border=\"1\" class=\"dataframe\">\n",
       "  <thead>\n",
       "    <tr style=\"text-align: right;\">\n",
       "      <th></th>\n",
       "      <th>id</th>\n",
       "      <th>Gender</th>\n",
       "      <th>Age</th>\n",
       "      <th>Driving_License</th>\n",
       "      <th>Region_Code</th>\n",
       "      <th>Previously_Insured</th>\n",
       "      <th>Vehicle_Age</th>\n",
       "      <th>Vehicle_Damage</th>\n",
       "      <th>Annual_Premium</th>\n",
       "      <th>Policy_Sales_Channel</th>\n",
       "      <th>Vintage</th>\n",
       "    </tr>\n",
       "  </thead>\n",
       "  <tbody>\n",
       "    <tr>\n",
       "      <th>0</th>\n",
       "      <td>381110</td>\n",
       "      <td>Male</td>\n",
       "      <td>25</td>\n",
       "      <td>1</td>\n",
       "      <td>11.0</td>\n",
       "      <td>1</td>\n",
       "      <td>&lt; 1 Year</td>\n",
       "      <td>No</td>\n",
       "      <td>35786.0</td>\n",
       "      <td>152.0</td>\n",
       "      <td>53</td>\n",
       "    </tr>\n",
       "    <tr>\n",
       "      <th>1</th>\n",
       "      <td>381111</td>\n",
       "      <td>Male</td>\n",
       "      <td>40</td>\n",
       "      <td>1</td>\n",
       "      <td>28.0</td>\n",
       "      <td>0</td>\n",
       "      <td>1-2 Year</td>\n",
       "      <td>Yes</td>\n",
       "      <td>33762.0</td>\n",
       "      <td>7.0</td>\n",
       "      <td>111</td>\n",
       "    </tr>\n",
       "    <tr>\n",
       "      <th>2</th>\n",
       "      <td>381112</td>\n",
       "      <td>Male</td>\n",
       "      <td>47</td>\n",
       "      <td>1</td>\n",
       "      <td>28.0</td>\n",
       "      <td>0</td>\n",
       "      <td>1-2 Year</td>\n",
       "      <td>Yes</td>\n",
       "      <td>40050.0</td>\n",
       "      <td>124.0</td>\n",
       "      <td>199</td>\n",
       "    </tr>\n",
       "  </tbody>\n",
       "</table>\n",
       "</div>"
      ],
      "text/plain": [
       "       id Gender  Age  Driving_License  Region_Code  Previously_Insured  \\\n",
       "0  381110   Male   25                1         11.0                   1   \n",
       "1  381111   Male   40                1         28.0                   0   \n",
       "2  381112   Male   47                1         28.0                   0   \n",
       "\n",
       "  Vehicle_Age Vehicle_Damage  Annual_Premium  Policy_Sales_Channel  Vintage  \n",
       "0    < 1 Year             No         35786.0                 152.0       53  \n",
       "1    1-2 Year            Yes         33762.0                   7.0      111  \n",
       "2    1-2 Year            Yes         40050.0                 124.0      199  "
      ]
     },
     "execution_count": 7,
     "metadata": {},
     "output_type": "execute_result"
    }
   ],
   "source": [
    "\n",
    "test.head(3)"
   ]
  },
  {
   "cell_type": "markdown",
   "metadata": {
    "papermill": {
     "duration": 0.078301,
     "end_time": "2020-12-13T02:53:48.763273",
     "exception": false,
     "start_time": "2020-12-13T02:53:48.684972",
     "status": "completed"
    },
    "tags": []
   },
   "source": [
    "As metioned earlier the ID column is an unqiue column so cannot be used for modeling, lets create a variable and use the name of the variable further"
   ]
  },
  {
   "cell_type": "code",
   "execution_count": 8,
   "metadata": {
    "execution": {
     "iopub.execute_input": "2020-12-13T02:53:48.930165Z",
     "iopub.status.busy": "2020-12-13T02:53:48.929040Z",
     "iopub.status.idle": "2020-12-13T02:53:48.934663Z",
     "shell.execute_reply": "2020-12-13T02:53:48.935218Z"
    },
    "papermill": {
     "duration": 0.088809,
     "end_time": "2020-12-13T02:53:48.935376",
     "exception": false,
     "start_time": "2020-12-13T02:53:48.846567",
     "status": "completed"
    },
    "tags": []
   },
   "outputs": [],
   "source": [
    "ID_COL, TARGET_COL = 'id', 'Response'\n",
    "features = [c for c in train.columns if c not in [ID_COL, TARGET_COL]]"
   ]
  },
  {
   "cell_type": "code",
   "execution_count": 9,
   "metadata": {
    "execution": {
     "iopub.execute_input": "2020-12-13T02:53:49.087223Z",
     "iopub.status.busy": "2020-12-13T02:53:49.086128Z",
     "iopub.status.idle": "2020-12-13T02:53:49.094382Z",
     "shell.execute_reply": "2020-12-13T02:53:49.093587Z"
    },
    "papermill": {
     "duration": 0.085293,
     "end_time": "2020-12-13T02:53:49.094594",
     "exception": false,
     "start_time": "2020-12-13T02:53:49.009301",
     "status": "completed"
    },
    "tags": []
   },
   "outputs": [
    {
     "name": "stdout",
     "output_type": "stream",
     "text": [
      "\n",
      "The dataset contains 10 features\n"
     ]
    }
   ],
   "source": [
    "features = [c for c in train.columns if c not in [ID_COL, TARGET_COL]]\n",
    "print(f'\\nThe dataset contains {len(features)} features')"
   ]
  },
  {
   "cell_type": "markdown",
   "metadata": {
    "papermill": {
     "duration": 0.073385,
     "end_time": "2020-12-13T02:53:49.242033",
     "exception": false,
     "start_time": "2020-12-13T02:53:49.168648",
     "status": "completed"
    },
    "tags": []
   },
   "source": [
    "# DISTRIBUTION OF TARGET FEATURE"
   ]
  },
  {
   "cell_type": "markdown",
   "metadata": {
    "papermill": {
     "duration": 0.071938,
     "end_time": "2020-12-13T02:53:49.392849",
     "exception": false,
     "start_time": "2020-12-13T02:53:49.320911",
     "status": "completed"
    },
    "tags": []
   },
   "source": [
    "'Number of People who did subscribe for a VEHICLE INSURANCE and the number of people who did not'"
   ]
  },
  {
   "cell_type": "code",
   "execution_count": 10,
   "metadata": {
    "execution": {
     "iopub.execute_input": "2020-12-13T02:53:49.545984Z",
     "iopub.status.busy": "2020-12-13T02:53:49.544926Z",
     "iopub.status.idle": "2020-12-13T02:53:49.555632Z",
     "shell.execute_reply": "2020-12-13T02:53:49.554979Z"
    },
    "papermill": {
     "duration": 0.090571,
     "end_time": "2020-12-13T02:53:49.555766",
     "exception": false,
     "start_time": "2020-12-13T02:53:49.465195",
     "status": "completed"
    },
    "tags": []
   },
   "outputs": [
    {
     "name": "stdout",
     "output_type": "stream",
     "text": [
      "Number of records in class 0: 87.74% values:334399\n",
      "Number of records in class 1: 12.26% values:46710\n"
     ]
    }
   ],
   "source": [
    "class_distribution(train,'Response')"
   ]
  },
  {
   "cell_type": "markdown",
   "metadata": {
    "papermill": {
     "duration": 0.07245,
     "end_time": "2020-12-13T02:53:49.701610",
     "exception": false,
     "start_time": "2020-12-13T02:53:49.629160",
     "status": "completed"
    },
    "tags": []
   },
   "source": [
    "visualizing the same target distribution in a countplot."
   ]
  },
  {
   "cell_type": "code",
   "execution_count": 11,
   "metadata": {
    "execution": {
     "iopub.execute_input": "2020-12-13T02:53:49.854333Z",
     "iopub.status.busy": "2020-12-13T02:53:49.853624Z",
     "iopub.status.idle": "2020-12-13T02:53:50.066122Z",
     "shell.execute_reply": "2020-12-13T02:53:50.066646Z"
    },
    "papermill": {
     "duration": 0.291491,
     "end_time": "2020-12-13T02:53:50.066806",
     "exception": false,
     "start_time": "2020-12-13T02:53:49.775315",
     "status": "completed"
    },
    "tags": []
   },
   "outputs": [
    {
     "data": {
      "image/png": "[encoded data removed]",
      "text/plain": [
       "<Figure size 432x288 with 1 Axes>"
      ]
     },
     "metadata": {},
     "output_type": "display_data"
    }
   ],
   "source": [
    "PLOT = sns.countplot(train[TARGET_COL])\n",
    "PLOT = plt.title(\"Target Distribution\", fontsize=14)"
   ]
  },
  {
   "cell_type": "markdown",
   "metadata": {
    "papermill": {
     "duration": 0.075528,
     "end_time": "2020-12-13T02:53:50.216299",
     "exception": false,
     "start_time": "2020-12-13T02:53:50.140771",
     "status": "completed"
    },
    "tags": []
   },
   "source": [
    "The above distribution shows 88% of customers are not interested in vehicle insurance and 12% of customers are interested to take vehicle insurance and also it shows that that the target variable is highly imbalanced. Biased towards one class."
   ]
  },
  {
   "cell_type": "markdown",
   "metadata": {
    "papermill": {
     "duration": 0.074048,
     "end_time": "2020-12-13T02:53:50.364334",
     "exception": false,
     "start_time": "2020-12-13T02:53:50.290286",
     "status": "completed"
    },
    "tags": []
   },
   "source": [
    "# Variable Datatypes\n",
    "\n",
    "pandas info() method on dataframe allows to do that. For each variable we can see the number of non-null values along with their datatypes."
   ]
  },
  {
   "cell_type": "code",
   "execution_count": 12,
   "metadata": {
    "execution": {
     "iopub.execute_input": "2020-12-13T02:53:50.517698Z",
     "iopub.status.busy": "2020-12-13T02:53:50.516979Z",
     "iopub.status.idle": "2020-12-13T02:53:50.663872Z",
     "shell.execute_reply": "2020-12-13T02:53:50.663257Z"
    },
    "papermill": {
     "duration": 0.225174,
     "end_time": "2020-12-13T02:53:50.664014",
     "exception": false,
     "start_time": "2020-12-13T02:53:50.438840",
     "status": "completed"
    },
    "tags": []
   },
   "outputs": [
    {
     "name": "stdout",
     "output_type": "stream",
     "text": [
      "<class 'pandas.core.frame.DataFrame'>\n",
      "RangeIndex: 381109 entries, 0 to 381108\n",
      "Data columns (total 12 columns):\n",
      " #   Column                Non-Null Count   Dtype  \n",
      "---  ------                --------------   -----  \n",
      " 0   id                    381109 non-null  int64  \n",
      " 1   Gender                381109 non-null  object \n",
      " 2   Age                   381109 non-null  int64  \n",
      " 3   Driving_License       381109 non-null  int64  \n",
      " 4   Region_Code           381109 non-null  float64\n",
      " 5   Previously_Insured    381109 non-null  int64  \n",
      " 6   Vehicle_Age           381109 non-null  object \n",
      " 7   Vehicle_Damage        381109 non-null  object \n",
      " 8   Annual_Premium        381109 non-null  float64\n",
      " 9   Policy_Sales_Channel  381109 non-null  float64\n",
      " 10  Vintage               381109 non-null  int64  \n",
      " 11  Response              381109 non-null  int64  \n",
      "dtypes: float64(3), int64(6), object(3)\n",
      "memory usage: 34.9+ MB\n"
     ]
    }
   ],
   "source": [
    "train.info()"
   ]
  },
  {
   "cell_type": "code",
   "execution_count": 13,
   "metadata": {
    "execution": {
     "iopub.execute_input": "2020-12-13T02:53:50.819445Z",
     "iopub.status.busy": "2020-12-13T02:53:50.818670Z",
     "iopub.status.idle": "2020-12-13T02:53:50.873122Z",
     "shell.execute_reply": "2020-12-13T02:53:50.872521Z"
    },
    "papermill": {
     "duration": 0.134842,
     "end_time": "2020-12-13T02:53:50.873267",
     "exception": false,
     "start_time": "2020-12-13T02:53:50.738425",
     "status": "completed"
    },
    "tags": []
   },
   "outputs": [
    {
     "name": "stdout",
     "output_type": "stream",
     "text": [
      "<class 'pandas.core.frame.DataFrame'>\n",
      "RangeIndex: 127037 entries, 0 to 127036\n",
      "Data columns (total 11 columns):\n",
      " #   Column                Non-Null Count   Dtype  \n",
      "---  ------                --------------   -----  \n",
      " 0   id                    127037 non-null  int64  \n",
      " 1   Gender                127037 non-null  object \n",
      " 2   Age                   127037 non-null  int64  \n",
      " 3   Driving_License       127037 non-null  int64  \n",
      " 4   Region_Code           127037 non-null  float64\n",
      " 5   Previously_Insured    127037 non-null  int64  \n",
      " 6   Vehicle_Age           127037 non-null  object \n",
      " 7   Vehicle_Damage        127037 non-null  object \n",
      " 8   Annual_Premium        127037 non-null  float64\n",
      " 9   Policy_Sales_Channel  127037 non-null  float64\n",
      " 10  Vintage               127037 non-null  int64  \n",
      "dtypes: float64(3), int64(5), object(3)\n",
      "memory usage: 10.7+ MB\n"
     ]
    }
   ],
   "source": [
    "test.info()"
   ]
  },
  {
   "cell_type": "markdown",
   "metadata": {
    "papermill": {
     "duration": 0.078181,
     "end_time": "2020-12-13T02:53:51.027843",
     "exception": false,
     "start_time": "2020-12-13T02:53:50.949662",
     "status": "completed"
    },
    "tags": []
   },
   "source": [
    "Looks like we have a mixture of datatypes, few of those variables are object datatypes. Object datatypes are used to store strings along with other non-numeric data. This is obvious since we encountered a few of strings when we had a look at the dataset.\n",
    "\n",
    "Machine Learning Models understand only numbers so we will have to later convert these strings to numbers"
   ]
  },
  {
   "cell_type": "markdown",
   "metadata": {
    "papermill": {
     "duration": 0.074246,
     "end_time": "2020-12-13T02:53:51.178726",
     "exception": false,
     "start_time": "2020-12-13T02:53:51.104480",
     "status": "completed"
    },
    "tags": []
   },
   "source": [
    "# Null Values\n",
    "Although the info() function did tell us about non-null values ideally we will have a look at the percentage of null values in each variable"
   ]
  },
  {
   "cell_type": "code",
   "execution_count": 14,
   "metadata": {
    "execution": {
     "iopub.execute_input": "2020-12-13T02:53:51.337673Z",
     "iopub.status.busy": "2020-12-13T02:53:51.336897Z",
     "iopub.status.idle": "2020-12-13T02:53:51.657870Z",
     "shell.execute_reply": "2020-12-13T02:53:51.658497Z"
    },
    "papermill": {
     "duration": 0.404473,
     "end_time": "2020-12-13T02:53:51.658667",
     "exception": false,
     "start_time": "2020-12-13T02:53:51.254194",
     "status": "completed"
    },
    "tags": []
   },
   "outputs": [
    {
     "name": "stdout",
     "output_type": "stream",
     "text": [
      "             column_name missing_data  missing_in_percentage\n",
      "0                     id            0                    0.0\n",
      "1                 Gender            0                    0.0\n",
      "2                    Age            0                    0.0\n",
      "3        Driving_License            0                    0.0\n",
      "4            Region_Code            0                    0.0\n",
      "5     Previously_Insured            0                    0.0\n",
      "6            Vehicle_Age            0                    0.0\n",
      "7         Vehicle_Damage            0                    0.0\n",
      "8         Annual_Premium            0                    0.0\n",
      "9   Policy_Sales_Channel            0                    0.0\n",
      "10               Vintage            0                    0.0\n",
      "11              Response            0                    0.0\n"
     ]
    }
   ],
   "source": [
    "miss_data(train)"
   ]
  },
  {
   "cell_type": "markdown",
   "metadata": {
    "papermill": {
     "duration": 0.074416,
     "end_time": "2020-12-13T02:53:51.810145",
     "exception": false,
     "start_time": "2020-12-13T02:53:51.735729",
     "status": "completed"
    },
    "tags": []
   },
   "source": [
    "Perfect !!! we dont have any NULL values in our dataset hence we dont have the process of handling missing values here "
   ]
  },
  {
   "cell_type": "markdown",
   "metadata": {
    "papermill": {
     "duration": 0.078193,
     "end_time": "2020-12-13T02:53:51.963852",
     "exception": false,
     "start_time": "2020-12-13T02:53:51.885659",
     "status": "completed"
    },
    "tags": []
   },
   "source": [
    "# Unique values in each variable"
   ]
  },
  {
   "cell_type": "code",
   "execution_count": 15,
   "metadata": {
    "execution": {
     "iopub.execute_input": "2020-12-13T02:53:52.125545Z",
     "iopub.status.busy": "2020-12-13T02:53:52.124698Z",
     "iopub.status.idle": "2020-12-13T02:53:52.255236Z",
     "shell.execute_reply": "2020-12-13T02:53:52.254633Z"
    },
    "papermill": {
     "duration": 0.21285,
     "end_time": "2020-12-13T02:53:52.255399",
     "exception": false,
     "start_time": "2020-12-13T02:53:52.042549",
     "status": "completed"
    },
    "tags": []
   },
   "outputs": [
    {
     "name": "stdout",
     "output_type": "stream",
     "text": [
      "Number of unique elements in each column\n",
      "******************************************\n",
      "id: 381109\n",
      "Gender: 2\n",
      "Age: 66\n",
      "Driving_License: 2\n",
      "Region_Code: 53\n",
      "Previously_Insured: 2\n",
      "Vehicle_Age: 3\n",
      "Vehicle_Damage: 2\n",
      "Annual_Premium: 48838\n",
      "Policy_Sales_Channel: 155\n",
      "Vintage: 290\n",
      "Response: 2\n"
     ]
    }
   ],
   "source": [
    "\n",
    "print('Number of unique elements in each column')\n",
    "print('******************************************')\n",
    "for i in train.columns:\n",
    "  uniq = train[i].nunique()\n",
    "  print(f'{i}: {uniq}')"
   ]
  },
  {
   "cell_type": "code",
   "execution_count": 16,
   "metadata": {
    "execution": {
     "iopub.execute_input": "2020-12-13T02:53:52.413584Z",
     "iopub.status.busy": "2020-12-13T02:53:52.412849Z",
     "iopub.status.idle": "2020-12-13T02:53:52.416603Z",
     "shell.execute_reply": "2020-12-13T02:53:52.415987Z"
    },
    "papermill": {
     "duration": 0.085684,
     "end_time": "2020-12-13T02:53:52.416760",
     "exception": false,
     "start_time": "2020-12-13T02:53:52.331076",
     "status": "completed"
    },
    "tags": []
   },
   "outputs": [],
   "source": [
    "CATEGORICAL = ['Gender','Driving_License','Previously_Insured',\\\n",
    "               'Vehicle_Age','Vehicle_Damage',\\\n",
    "               'Policy_Sales_Channel','Region_Code']"
   ]
  },
  {
   "cell_type": "code",
   "execution_count": 17,
   "metadata": {
    "execution": {
     "iopub.execute_input": "2020-12-13T02:53:52.598479Z",
     "iopub.status.busy": "2020-12-13T02:53:52.583187Z",
     "iopub.status.idle": "2020-12-13T02:53:52.688249Z",
     "shell.execute_reply": "2020-12-13T02:53:52.686951Z"
    },
    "papermill": {
     "duration": 0.194367,
     "end_time": "2020-12-13T02:53:52.688457",
     "exception": false,
     "start_time": "2020-12-13T02:53:52.494090",
     "status": "completed"
    },
    "tags": []
   },
   "outputs": [
    {
     "name": "stdout",
     "output_type": "stream",
     "text": [
      "Unique values in each column\n",
      "******************************************\n",
      "Gender: ['Male' 'Female']\n",
      "Driving_License: [1 0]\n",
      "Previously_Insured: [0 1]\n",
      "Vehicle_Age: ['> 2 Years' '1-2 Year' '< 1 Year']\n",
      "Vehicle_Damage: ['Yes' 'No']\n",
      "Policy_Sales_Channel: [ 26. 152. 160. 124.  14.  13.  30. 156. 163. 157. 122.  19.  22.  15.\n",
      " 154.  16.  52. 155.  11. 151. 125.  25.  61.   1.  86.  31. 150.  23.\n",
      "  60.  21. 121.   3. 139.  12.  29.  55.   7.  47. 127. 153.  78. 158.\n",
      "  89.  32.   8.  10. 120.  65.   4.  42.  83. 136.  24.  18.  56.  48.\n",
      " 106.  54.  93. 116.  91.  45.   9. 145. 147.  44. 109.  37. 140. 107.\n",
      " 128. 131. 114. 118. 159. 119. 105. 135.  62. 138. 129.  88.  92. 111.\n",
      " 113.  73.  36.  28.  35.  59.  53. 148. 133. 108.  64.  39.  94. 132.\n",
      "  46.  81. 103.  90.  51.  27. 146.  63.  96.  40.  66. 100.  95. 123.\n",
      "  98.  75.  69. 130. 134.  49.  97.  38.  17. 110.  80.  71. 117.  58.\n",
      "  20.  76. 104.  87.  84. 137. 126.  68.  67. 101. 115.  57.  82.  79.\n",
      " 112.  99.  70.   2.  34.  33.  74. 102. 149.  43.   6.  50. 144. 143.\n",
      "  41.]\n",
      "Region_Code: [28.  3. 11. 41. 33.  6. 35. 50. 15. 45.  8. 36. 30. 26. 16. 47. 48. 19.\n",
      " 39. 23. 37.  5. 17.  2.  7. 29. 46. 27. 25. 13. 18. 20. 49. 22. 44.  0.\n",
      "  9. 31. 12. 34. 21. 10. 14. 38. 24. 40. 43. 32.  4. 51. 42.  1. 52.]\n"
     ]
    }
   ],
   "source": [
    "print('Unique values in each column')\n",
    "print('******************************************')\n",
    "for i in CATEGORICAL:\n",
    "  uniq = train[i].unique()\n",
    "  print(f'{i}: {uniq}')"
   ]
  },
  {
   "cell_type": "markdown",
   "metadata": {
    "papermill": {
     "duration": 0.076214,
     "end_time": "2020-12-13T02:53:52.843545",
     "exception": false,
     "start_time": "2020-12-13T02:53:52.767331",
     "status": "completed"
    },
    "tags": []
   },
   "source": [
    "The numerical features 'id', 'Age','Region_Code', 'Annual_Premium','Policy_Sales_Channel', 'Vintage' contain a lot of unique values which is quite obvious."
   ]
  },
  {
   "cell_type": "markdown",
   "metadata": {
    "papermill": {
     "duration": 0.082356,
     "end_time": "2020-12-13T02:53:53.005045",
     "exception": false,
     "start_time": "2020-12-13T02:53:52.922689",
     "status": "completed"
    },
    "tags": []
   },
   "source": [
    "There are two types of features that we have:\n",
    "\n",
    "1. Categorical\n",
    "2. Numerical.\n",
    "\n",
    "Also our target is Binary\n",
    "\n",
    "For each feature type we will have to perform two types of analysis:\n",
    "\n",
    "Univariate: Analyze 1 feature at a time\n",
    "\n",
    "Bivariate: Analyze the relationship of that feature with target variable, i.e.'Response'\n",
    "\n",
    "By doing these analysis we can come up with the conclusion for our hypothesis"
   ]
  },
  {
   "cell_type": "code",
   "execution_count": 18,
   "metadata": {
    "execution": {
     "iopub.execute_input": "2020-12-13T02:53:53.166730Z",
     "iopub.status.busy": "2020-12-13T02:53:53.165624Z",
     "iopub.status.idle": "2020-12-13T02:53:53.171035Z",
     "shell.execute_reply": "2020-12-13T02:53:53.170481Z"
    },
    "papermill": {
     "duration": 0.088456,
     "end_time": "2020-12-13T02:53:53.171158",
     "exception": false,
     "start_time": "2020-12-13T02:53:53.082702",
     "status": "completed"
    },
    "tags": []
   },
   "outputs": [
    {
     "data": {
      "text/plain": [
       "Index(['id', 'Gender', 'Age', 'Driving_License', 'Region_Code',\n",
       "       'Previously_Insured', 'Vehicle_Age', 'Vehicle_Damage', 'Annual_Premium',\n",
       "       'Policy_Sales_Channel', 'Vintage', 'Response'],\n",
       "      dtype='object')"
      ]
     },
     "execution_count": 18,
     "metadata": {},
     "output_type": "execute_result"
    }
   ],
   "source": [
    "train.columns"
   ]
  },
  {
   "cell_type": "markdown",
   "metadata": {
    "papermill": {
     "duration": 0.07745,
     "end_time": "2020-12-13T02:53:53.327111",
     "exception": false,
     "start_time": "2020-12-13T02:53:53.249661",
     "status": "completed"
    },
    "tags": []
   },
   "source": [
    "# Segregating Categorical & Numerical Variables"
   ]
  },
  {
   "cell_type": "code",
   "execution_count": 19,
   "metadata": {
    "execution": {
     "iopub.execute_input": "2020-12-13T02:53:53.493770Z",
     "iopub.status.busy": "2020-12-13T02:53:53.492641Z",
     "iopub.status.idle": "2020-12-13T02:53:53.496203Z",
     "shell.execute_reply": "2020-12-13T02:53:53.495514Z"
    },
    "papermill": {
     "duration": 0.090328,
     "end_time": "2020-12-13T02:53:53.496341",
     "exception": false,
     "start_time": "2020-12-13T02:53:53.406013",
     "status": "completed"
    },
    "tags": []
   },
   "outputs": [],
   "source": [
    "cat_cols = ['Gender',\n",
    " 'Driving_License',\n",
    " 'Previously_Insured',\n",
    " 'Vehicle_Age',\n",
    " 'Vehicle_Damage']"
   ]
  },
  {
   "cell_type": "code",
   "execution_count": 20,
   "metadata": {
    "execution": {
     "iopub.execute_input": "2020-12-13T02:53:53.658294Z",
     "iopub.status.busy": "2020-12-13T02:53:53.657647Z",
     "iopub.status.idle": "2020-12-13T02:53:53.664535Z",
     "shell.execute_reply": "2020-12-13T02:53:53.665173Z"
    },
    "papermill": {
     "duration": 0.088533,
     "end_time": "2020-12-13T02:53:53.665319",
     "exception": false,
     "start_time": "2020-12-13T02:53:53.576786",
     "status": "completed"
    },
    "tags": []
   },
   "outputs": [
    {
     "data": {
      "text/plain": [
       "['Age', 'Region_Code', 'Annual_Premium', 'Policy_Sales_Channel', 'Vintage']"
      ]
     },
     "execution_count": 20,
     "metadata": {},
     "output_type": "execute_result"
    }
   ],
   "source": [
    "#num_cols = train.select_dtypes(include = np.number).columns\n",
    "num_cols =  [c for c in features if c not in cat_cols]\n",
    "#num_cols = ['Region_Code']  # 'Age']', 'Annual_Premium', 'Policy_Sales_Channel', 'Vintage']\n",
    "num_cols"
   ]
  },
  {
   "cell_type": "markdown",
   "metadata": {
    "papermill": {
     "duration": 0.077937,
     "end_time": "2020-12-13T02:53:53.822405",
     "exception": false,
     "start_time": "2020-12-13T02:53:53.744468",
     "status": "completed"
    },
    "tags": []
   },
   "source": [
    "## Categorical Features¶\n",
    "### Univariate Analysis - Pie Charts.\n",
    "Pie Charts can be useful in seeing the proportion of samples, that fall into each category of a categorical variable. For each of the categorical variables we will make a pie chart"
   ]
  },
  {
   "cell_type": "code",
   "execution_count": 21,
   "metadata": {
    "execution": {
     "iopub.execute_input": "2020-12-13T02:53:53.982656Z",
     "iopub.status.busy": "2020-12-13T02:53:53.981933Z",
     "iopub.status.idle": "2020-12-13T02:53:55.337818Z",
     "shell.execute_reply": "2020-12-13T02:53:55.338345Z"
    },
    "papermill": {
     "duration": 1.437978,
     "end_time": "2020-12-13T02:53:55.338513",
     "exception": false,
     "start_time": "2020-12-13T02:53:53.900535",
     "status": "completed"
    },
    "tags": []
   },
   "outputs": [
    {
     "data": {
      "image/png": "[encoded data removed]",
      "text/plain": [
       "<Figure size 1008x1584 with 10 Axes>"
      ]
     },
     "metadata": {},
     "output_type": "display_data"
    }
   ],
   "source": [
    "fig, axes = plt.subplots(5, 2, figsize=(14, 22))\n",
    "axes = [ax for axes_row in axes for ax in axes_row]\n",
    "\n",
    "for i, c in enumerate(train[cat_cols]):\n",
    "    _ = train[c].value_counts()[::-1].plot(kind = 'pie', ax=axes[i], title=c, autopct='%.0f', fontsize=12)\n",
    "    _ = axes[i].set_ylabel('')\n",
    "    \n",
    "_ = plt.tight_layout()"
   ]
  },
  {
   "cell_type": "markdown",
   "metadata": {
    "papermill": {
     "duration": 0.080666,
     "end_time": "2020-12-13T02:53:55.500671",
     "exception": false,
     "start_time": "2020-12-13T02:53:55.420005",
     "status": "completed"
    },
    "tags": []
   },
   "source": [
    "From the Above chart we can infer that the most of the features are balanced except Driving license.\n",
    "Let us look at the counts of each of the categories using countplots"
   ]
  },
  {
   "cell_type": "code",
   "execution_count": 22,
   "metadata": {
    "execution": {
     "iopub.execute_input": "2020-12-13T02:53:55.664736Z",
     "iopub.status.busy": "2020-12-13T02:53:55.664057Z",
     "iopub.status.idle": "2020-12-13T02:53:57.362661Z",
     "shell.execute_reply": "2020-12-13T02:53:57.362048Z"
    },
    "papermill": {
     "duration": 1.78149,
     "end_time": "2020-12-13T02:53:57.362784",
     "exception": false,
     "start_time": "2020-12-13T02:53:55.581294",
     "status": "completed"
    },
    "tags": []
   },
   "outputs": [
    {
     "data": {
      "image/png": "[encoded data removed]",
      "text/plain": [
       "<Figure size 1152x1152 with 9 Axes>"
      ]
     },
     "metadata": {},
     "output_type": "display_data"
    }
   ],
   "source": [
    "fig, axes = plt.subplots(3, 3, figsize=(16, 16))\n",
    "axes = [ax for axes_row in axes for ax in axes_row]\n",
    "\n",
    "for i, c in enumerate(train[cat_cols]):\n",
    "    _ = train[c].value_counts()[::-1].plot(kind = 'barh', ax=axes[i], title=c, fontsize=14)\n",
    "    \n",
    "_ = plt.tight_layout()"
   ]
  },
  {
   "cell_type": "markdown",
   "metadata": {
    "papermill": {
     "duration": 0.082493,
     "end_time": "2020-12-13T02:53:57.526592",
     "exception": false,
     "start_time": "2020-12-13T02:53:57.444099",
     "status": "completed"
    },
    "tags": []
   },
   "source": [
    "## Bivariate Analysis Relationships with Target"
   ]
  },
  {
   "cell_type": "code",
   "execution_count": 23,
   "metadata": {
    "execution": {
     "iopub.execute_input": "2020-12-13T02:53:57.713505Z",
     "iopub.status.busy": "2020-12-13T02:53:57.711350Z",
     "iopub.status.idle": "2020-12-13T02:53:59.821590Z",
     "shell.execute_reply": "2020-12-13T02:53:59.822135Z"
    },
    "papermill": {
     "duration": 2.212518,
     "end_time": "2020-12-13T02:53:59.822289",
     "exception": false,
     "start_time": "2020-12-13T02:53:57.609771",
     "status": "completed"
    },
    "tags": []
   },
   "outputs": [
    {
     "data": {
      "image/png": "[encoded data removed]",
      "text/plain": [
       "<Figure size 1152x1728 with 10 Axes>"
      ]
     },
     "metadata": {},
     "output_type": "display_data"
    }
   ],
   "source": [
    "fig, axes = plt.subplots(5, 2, figsize=(16, 24))\n",
    "axes = [ax for axes_row in axes for ax in axes_row]\n",
    "\n",
    "for i, c in enumerate(train[cat_cols]):\n",
    "    fltr = train[TARGET_COL] == 0\n",
    "    vc_a = train[fltr][c].value_counts(normalize=True).reset_index().rename({'index' : c, c: 'count'}, axis=1)\n",
    "\n",
    "    vc_b = train[~fltr][c].value_counts(normalize=True).reset_index().rename({'index' : c, c: 'count'}, axis=1)\n",
    "\n",
    "    vc_a[TARGET_COL] = 0\n",
    "    vc_b[TARGET_COL] = 1\n",
    "\n",
    "    df = pd.concat([vc_a, vc_b]).reset_index(drop = True)\n",
    "\n",
    "    _ = sns.barplot(y = c, x = 'count', data =df , hue=TARGET_COL, ax=axes[i])\n",
    "    \n",
    "_ = plt.tight_layout()"
   ]
  },
  {
   "cell_type": "code",
   "execution_count": 24,
   "metadata": {
    "execution": {
     "iopub.execute_input": "2020-12-13T02:53:59.997792Z",
     "iopub.status.busy": "2020-12-13T02:53:59.996722Z",
     "iopub.status.idle": "2020-12-13T02:54:00.069644Z",
     "shell.execute_reply": "2020-12-13T02:54:00.070118Z"
    },
    "papermill": {
     "duration": 0.162243,
     "end_time": "2020-12-13T02:54:00.070285",
     "exception": false,
     "start_time": "2020-12-13T02:53:59.908042",
     "status": "completed"
    },
    "tags": []
   },
   "outputs": [
    {
     "data": {
      "text/html": [
       "<div>\n",
       "<style scoped>\n",
       "    .dataframe tbody tr th:only-of-type {\n",
       "        vertical-align: middle;\n",
       "    }\n",
       "\n",
       "    .dataframe tbody tr th {\n",
       "        vertical-align: top;\n",
       "    }\n",
       "\n",
       "    .dataframe thead th {\n",
       "        text-align: right;\n",
       "    }\n",
       "</style>\n",
       "<table border=\"1\" class=\"dataframe\">\n",
       "  <thead>\n",
       "    <tr style=\"text-align: right;\">\n",
       "      <th>Driving_License</th>\n",
       "      <th>0</th>\n",
       "      <th>1</th>\n",
       "    </tr>\n",
       "    <tr>\n",
       "      <th>Response</th>\n",
       "      <th></th>\n",
       "      <th></th>\n",
       "    </tr>\n",
       "  </thead>\n",
       "  <tbody>\n",
       "    <tr>\n",
       "      <th>0</th>\n",
       "      <td>771</td>\n",
       "      <td>333628</td>\n",
       "    </tr>\n",
       "    <tr>\n",
       "      <th>1</th>\n",
       "      <td>41</td>\n",
       "      <td>46669</td>\n",
       "    </tr>\n",
       "  </tbody>\n",
       "</table>\n",
       "</div>"
      ],
      "text/plain": [
       "Driving_License    0       1\n",
       "Response                    \n",
       "0                771  333628\n",
       "1                 41   46669"
      ]
     },
     "execution_count": 24,
     "metadata": {},
     "output_type": "execute_result"
    }
   ],
   "source": [
    "pd.crosstab(train[TARGET_COL],train['Driving_License'])"
   ]
  },
  {
   "cell_type": "code",
   "execution_count": 25,
   "metadata": {
    "execution": {
     "iopub.execute_input": "2020-12-13T02:54:00.244712Z",
     "iopub.status.busy": "2020-12-13T02:54:00.243638Z",
     "iopub.status.idle": "2020-12-13T02:54:00.306228Z",
     "shell.execute_reply": "2020-12-13T02:54:00.306744Z"
    },
    "papermill": {
     "duration": 0.151153,
     "end_time": "2020-12-13T02:54:00.306897",
     "exception": false,
     "start_time": "2020-12-13T02:54:00.155744",
     "status": "completed"
    },
    "tags": []
   },
   "outputs": [
    {
     "data": {
      "text/html": [
       "<div>\n",
       "<style scoped>\n",
       "    .dataframe tbody tr th:only-of-type {\n",
       "        vertical-align: middle;\n",
       "    }\n",
       "\n",
       "    .dataframe tbody tr th {\n",
       "        vertical-align: top;\n",
       "    }\n",
       "\n",
       "    .dataframe thead th {\n",
       "        text-align: right;\n",
       "    }\n",
       "</style>\n",
       "<table border=\"1\" class=\"dataframe\">\n",
       "  <thead>\n",
       "    <tr style=\"text-align: right;\">\n",
       "      <th>Previously_Insured</th>\n",
       "      <th>0</th>\n",
       "      <th>1</th>\n",
       "    </tr>\n",
       "    <tr>\n",
       "      <th>Response</th>\n",
       "      <th></th>\n",
       "      <th></th>\n",
       "    </tr>\n",
       "  </thead>\n",
       "  <tbody>\n",
       "    <tr>\n",
       "      <th>0</th>\n",
       "      <td>159929</td>\n",
       "      <td>174470</td>\n",
       "    </tr>\n",
       "    <tr>\n",
       "      <th>1</th>\n",
       "      <td>46552</td>\n",
       "      <td>158</td>\n",
       "    </tr>\n",
       "  </tbody>\n",
       "</table>\n",
       "</div>"
      ],
      "text/plain": [
       "Previously_Insured       0       1\n",
       "Response                          \n",
       "0                   159929  174470\n",
       "1                    46552     158"
      ]
     },
     "execution_count": 25,
     "metadata": {},
     "output_type": "execute_result"
    }
   ],
   "source": [
    "pd.crosstab(train[TARGET_COL],train['Previously_Insured'])"
   ]
  },
  {
   "cell_type": "markdown",
   "metadata": {
    "papermill": {
     "duration": 0.087058,
     "end_time": "2020-12-13T02:54:00.481094",
     "exception": false,
     "start_time": "2020-12-13T02:54:00.394036",
     "status": "completed"
    },
    "tags": []
   },
   "source": [
    "### From the above chart, we can conclude few hypothesis that we have raised during the start\n",
    "\n",
    "\n",
    "Are Male customers more interseted in opting for the to Vehicle Insurance compared to female customers ?\n",
    "> Yes the Male customers more interseted in opting \n",
    "\n",
    "Customers holding driving license are likely to entertain the request for Vehicle Insurance or not?\n",
    ">  771 customers neither have a driving license and not-interested in to get vehicle insurance for their vehicle hence people with driving license are more likely to opt\n",
    "\n",
    "Customer with previous insurance are interested in opting?\n",
    ">  previously not insured customers are highly interested to get vehicle insurance and at the same time Previously insured customers are not interested to get vehicle insurance.\n",
    "\n",
    "Are the customers with less age of vehicle is not more interested in subscribing?\n",
    "> from the above chart, less than 1 year old vehicle owners are less likely get insurance for their vehicle.1 to 2 years old Vehicle customers are highly interested to get insurance for their vehicle. If the vehicle is getting old , the customer is less likely to renew/get insurance for their vehicle.\n",
    "\n",
    "Customer with damaged vehicles will opt or not? \n",
    "> Yes, damaged vehicle owners are very likely to get insurance for their vehicles."
   ]
  },
  {
   "cell_type": "markdown",
   "metadata": {
    "papermill": {
     "duration": 0.084485,
     "end_time": "2020-12-13T02:54:00.652638",
     "exception": false,
     "start_time": "2020-12-13T02:54:00.568153",
     "status": "completed"
    },
    "tags": []
   },
   "source": [
    "# Univariate Analysis for num_cols - BOX Plots\n",
    "### Let us now infer something from Numerical features as well"
   ]
  },
  {
   "cell_type": "code",
   "execution_count": 26,
   "metadata": {
    "execution": {
     "iopub.execute_input": "2020-12-13T02:54:00.836648Z",
     "iopub.status.busy": "2020-12-13T02:54:00.835531Z",
     "iopub.status.idle": "2020-12-13T02:54:01.732555Z",
     "shell.execute_reply": "2020-12-13T02:54:01.733033Z"
    },
    "papermill": {
     "duration": 0.995644,
     "end_time": "2020-12-13T02:54:01.733190",
     "exception": false,
     "start_time": "2020-12-13T02:54:00.737546",
     "status": "completed"
    },
    "tags": []
   },
   "outputs": [
    {
     "data": {
      "image/png": "[encoded data removed]",
      "text/plain": [
       "<Figure size 576x1440 with 7 Axes>"
      ]
     },
     "metadata": {},
     "output_type": "display_data"
    }
   ],
   "source": [
    "fig, axes = plt.subplots(7, 1, figsize=(8, 20))\n",
    "for i, c in enumerate(num_cols):\n",
    "  _ = train[[c]].boxplot(ax=axes[i], vert=False)\n"
   ]
  },
  {
   "cell_type": "markdown",
   "metadata": {
    "papermill": {
     "duration": 0.086107,
     "end_time": "2020-12-13T02:54:01.906170",
     "exception": false,
     "start_time": "2020-12-13T02:54:01.820063",
     "status": "completed"
    },
    "tags": []
   },
   "source": [
    "From Above box plot we can see that annual premium have some outliers which is acceptable"
   ]
  },
  {
   "cell_type": "markdown",
   "metadata": {
    "papermill": {
     "duration": 0.088763,
     "end_time": "2020-12-13T02:54:02.084136",
     "exception": false,
     "start_time": "2020-12-13T02:54:01.995373",
     "status": "completed"
    },
    "tags": []
   },
   "source": [
    "## Bivariate Analysis - Horizontal BarPlots\n",
    "* For each numerical Variable. We will plot the median of the numerical variable for:\n",
    "* When Responce == 0 \n",
    "* when Responce == 1\n",
    "* We are choosing median since median is not affected by outliers, and our data has a lot of outliers"
   ]
  },
  {
   "cell_type": "code",
   "execution_count": 27,
   "metadata": {
    "execution": {
     "iopub.execute_input": "2020-12-13T02:54:02.262775Z",
     "iopub.status.busy": "2020-12-13T02:54:02.261800Z",
     "iopub.status.idle": "2020-12-13T02:54:04.873412Z",
     "shell.execute_reply": "2020-12-13T02:54:04.873894Z"
    },
    "papermill": {
     "duration": 2.703043,
     "end_time": "2020-12-13T02:54:04.874050",
     "exception": false,
     "start_time": "2020-12-13T02:54:02.171007",
     "status": "completed"
    },
    "tags": []
   },
   "outputs": [
    {
     "data": {
      "image/png": "[encoded data removed]",
      "text/plain": [
       "<Figure size 1296x1008 with 8 Axes>"
      ]
     },
     "metadata": {},
     "output_type": "display_data"
    }
   ],
   "source": [
    "sns.set(font_scale=1.3)\n",
    "fig, axes = plt.subplots(4, 2, figsize=(18, 14))\n",
    "axes = [ax for axes_row in axes for ax in axes_row]\n",
    "for i, c in enumerate(num_cols):\n",
    "  plot = train.groupby(TARGET_COL)[c].median().plot(kind = 'barh', title=f'Median_{c}', ax=axes[i])\n",
    "plt.tight_layout()"
   ]
  },
  {
   "cell_type": "code",
   "execution_count": 28,
   "metadata": {
    "execution": {
     "iopub.execute_input": "2020-12-13T02:54:05.061832Z",
     "iopub.status.busy": "2020-12-13T02:54:05.060707Z",
     "iopub.status.idle": "2020-12-13T02:54:05.328803Z",
     "shell.execute_reply": "2020-12-13T02:54:05.329273Z"
    },
    "papermill": {
     "duration": 0.36339,
     "end_time": "2020-12-13T02:54:05.329457",
     "exception": false,
     "start_time": "2020-12-13T02:54:04.966067",
     "status": "completed"
    },
    "tags": []
   },
   "outputs": [
    {
     "data": {
      "image/png": "[encoded data removed]",
      "text/plain": [
       "<Figure size 432x288 with 1 Axes>"
      ]
     },
     "metadata": {},
     "output_type": "display_data"
    }
   ],
   "source": [
    "_ = train.groupby(TARGET_COL)['Vintage'].median().plot(kind = 'barh', title=f'Median_Vintage')"
   ]
  },
  {
   "cell_type": "markdown",
   "metadata": {
    "papermill": {
     "duration": 0.0907,
     "end_time": "2020-12-13T02:54:05.510068",
     "exception": false,
     "start_time": "2020-12-13T02:54:05.419368",
     "status": "completed"
    },
    "tags": []
   },
   "source": [
    "chart explains that the interested and non-interested customers of vehicle insurance and its age distribution mean to have a small difference. "
   ]
  },
  {
   "cell_type": "code",
   "execution_count": 29,
   "metadata": {
    "execution": {
     "iopub.execute_input": "2020-12-13T02:54:05.697131Z",
     "iopub.status.busy": "2020-12-13T02:54:05.694427Z",
     "iopub.status.idle": "2020-12-13T02:54:05.755231Z",
     "shell.execute_reply": "2020-12-13T02:54:05.754616Z"
    },
    "papermill": {
     "duration": 0.15436,
     "end_time": "2020-12-13T02:54:05.755353",
     "exception": false,
     "start_time": "2020-12-13T02:54:05.600993",
     "status": "completed"
    },
    "tags": []
   },
   "outputs": [
    {
     "data": {
      "text/plain": [
       "Policy_Sales_Channel  Response\n",
       "1.0                   0            1039\n",
       "                      1              35\n",
       "2.0                   0               3\n",
       "                      1               1\n",
       "3.0                   0             364\n",
       "                                  ...  \n",
       "159.0                 1               1\n",
       "160.0                 0           21304\n",
       "                      1             475\n",
       "163.0                 0            2013\n",
       "                      1             880\n",
       "Name: Response, Length: 274, dtype: int64"
      ]
     },
     "execution_count": 29,
     "metadata": {},
     "output_type": "execute_result"
    }
   ],
   "source": [
    "_ = train.groupby('Policy_Sales_Channel')[TARGET_COL].value_counts()\n",
    "_"
   ]
  },
  {
   "cell_type": "markdown",
   "metadata": {
    "papermill": {
     "duration": 0.090673,
     "end_time": "2020-12-13T02:54:05.936430",
     "exception": false,
     "start_time": "2020-12-13T02:54:05.845757",
     "status": "completed"
    },
    "tags": []
   },
   "source": [
    "From above inference customers contacted via the channel 28 are highly interested to get insurance for their vehicle."
   ]
  },
  {
   "cell_type": "markdown",
   "metadata": {
    "papermill": {
     "duration": 0.090511,
     "end_time": "2020-12-13T02:54:06.120141",
     "exception": false,
     "start_time": "2020-12-13T02:54:06.029630",
     "status": "completed"
    },
    "tags": []
   },
   "source": [
    "## Bivariate Analysis - Correlation Heatmaps"
   ]
  },
  {
   "cell_type": "code",
   "execution_count": 30,
   "metadata": {
    "execution": {
     "iopub.execute_input": "2020-12-13T02:54:06.311099Z",
     "iopub.status.busy": "2020-12-13T02:54:06.305704Z",
     "iopub.status.idle": "2020-12-13T02:54:06.689323Z",
     "shell.execute_reply": "2020-12-13T02:54:06.688173Z"
    },
    "papermill": {
     "duration": 0.479215,
     "end_time": "2020-12-13T02:54:06.689486",
     "exception": false,
     "start_time": "2020-12-13T02:54:06.210271",
     "status": "completed"
    },
    "tags": []
   },
   "outputs": [
    {
     "data": {
      "image/png": "[encoded data removed]",
      "text/plain": [
       "<Figure size 1008x576 with 2 Axes>"
      ]
     },
     "metadata": {},
     "output_type": "display_data"
    }
   ],
   "source": [
    "plt.figure(figsize=(14, 8))\n",
    "_ = sns.heatmap(train[num_cols].corr(), annot=True)"
   ]
  },
  {
   "cell_type": "markdown",
   "metadata": {
    "papermill": {
     "duration": 0.092438,
     "end_time": "2020-12-13T02:54:06.875991",
     "exception": false,
     "start_time": "2020-12-13T02:54:06.783553",
     "status": "completed"
    },
    "tags": []
   },
   "source": [
    "From the above heat map we can see that the Age and Policy_Sales_Channel has negative correlation "
   ]
  },
  {
   "cell_type": "markdown",
   "metadata": {
    "papermill": {
     "duration": 0.092927,
     "end_time": "2020-12-13T02:54:07.062095",
     "exception": false,
     "start_time": "2020-12-13T02:54:06.969168",
     "status": "completed"
    },
    "tags": []
   },
   "source": [
    "From all the above points, We observed few informations from the given dataset, They are,\n",
    "* Response is Biased towards one class\n",
    "* female customers are less interested to get insurance for their vehicles.\n",
    "* Age distribution mean of interested and non-interested customers of vehicle insurance have only a small difference\n",
    "* people with driving license are more likely to opt\n",
    "* previously not insured customers are highly interested to get vehicle insurance and at the same time Previously insured customers are not interested to get vehicle insurance.\n",
    "* From the above chart, less than 1 year old vehicle owners are less likely get insurance for their vehicle.1 to 2 years old Vehicle customers are highly interested to get insurance for their vehicle. If the vehicle is getting old , the customer is less likely to renew/get insurance for their vehicle.\n",
    "* Damaged vehicle owners are very likely to get insurance for their vehicles.\n",
    "* From above inference customers contacted via the channel 28 are highly interested to get insurance for their vehicle."
   ]
  },
  {
   "cell_type": "markdown",
   "metadata": {
    "papermill": {
     "duration": 0.09204,
     "end_time": "2020-12-13T02:54:07.248087",
     "exception": false,
     "start_time": "2020-12-13T02:54:07.156047",
     "status": "completed"
    },
    "tags": []
   },
   "source": [
    "## Basic normalization, ohe and label encoding"
   ]
  },
  {
   "cell_type": "code",
   "execution_count": 31,
   "metadata": {
    "execution": {
     "iopub.execute_input": "2020-12-13T02:54:07.448269Z",
     "iopub.status.busy": "2020-12-13T02:54:07.447033Z",
     "iopub.status.idle": "2020-12-13T02:54:07.452951Z",
     "shell.execute_reply": "2020-12-13T02:54:07.452372Z"
    },
    "papermill": {
     "duration": 0.112289,
     "end_time": "2020-12-13T02:54:07.453076",
     "exception": false,
     "start_time": "2020-12-13T02:54:07.340787",
     "status": "completed"
    },
    "tags": []
   },
   "outputs": [],
   "source": [
    "def combine_df(train,test):\n",
    "  train['is_train'] = 1\n",
    "  test['is_train'] = 0\n",
    "  return pd.concat([train,test],axis=0)"
   ]
  },
  {
   "cell_type": "code",
   "execution_count": 32,
   "metadata": {
    "execution": {
     "iopub.execute_input": "2020-12-13T02:54:07.667242Z",
     "iopub.status.busy": "2020-12-13T02:54:07.666582Z",
     "iopub.status.idle": "2020-12-13T02:54:07.752193Z",
     "shell.execute_reply": "2020-12-13T02:54:07.751536Z"
    },
    "papermill": {
     "duration": 0.183966,
     "end_time": "2020-12-13T02:54:07.752329",
     "exception": false,
     "start_time": "2020-12-13T02:54:07.568363",
     "status": "completed"
    },
    "tags": []
   },
   "outputs": [],
   "source": [
    "combined = combine_df(train,test)"
   ]
  },
  {
   "cell_type": "code",
   "execution_count": 33,
   "metadata": {
    "execution": {
     "iopub.execute_input": "2020-12-13T02:54:08.079923Z",
     "iopub.status.busy": "2020-12-13T02:54:08.026778Z",
     "iopub.status.idle": "2020-12-13T02:54:08.088483Z",
     "shell.execute_reply": "2020-12-13T02:54:08.087722Z"
    },
    "papermill": {
     "duration": 0.242829,
     "end_time": "2020-12-13T02:54:08.088611",
     "exception": false,
     "start_time": "2020-12-13T02:54:07.845782",
     "status": "completed"
    },
    "tags": []
   },
   "outputs": [
    {
     "data": {
      "text/plain": [
       "1-2 Year     267015\n",
       "< 1 Year     219805\n",
       "> 2 Years     21326\n",
       "Name: Vehicle_Age, dtype: int64"
      ]
     },
     "execution_count": 33,
     "metadata": {},
     "output_type": "execute_result"
    }
   ],
   "source": [
    "combined['Vehicle_Age'].value_counts()"
   ]
  },
  {
   "cell_type": "code",
   "execution_count": 34,
   "metadata": {
    "execution": {
     "iopub.execute_input": "2020-12-13T02:54:08.346565Z",
     "iopub.status.busy": "2020-12-13T02:54:08.345766Z",
     "iopub.status.idle": "2020-12-13T02:54:08.423835Z",
     "shell.execute_reply": "2020-12-13T02:54:08.423153Z"
    },
    "papermill": {
     "duration": 0.240631,
     "end_time": "2020-12-13T02:54:08.423961",
     "exception": false,
     "start_time": "2020-12-13T02:54:08.183330",
     "status": "completed"
    },
    "tags": []
   },
   "outputs": [],
   "source": [
    "\n",
    "vehicle_age = {\"< 1 Year\": 1,\n",
    "               \"1-2 Year\": 2,\n",
    "               \"> 2 Years\":3}\n",
    "vehicle_damage = {\"Yes\":1,\"No\":0}\n",
    "\n",
    "combined['Vehicle_Age'] = combined['Vehicle_Age'].map(vehicle_age)\n",
    "combined['Vehicle_Damage'] = combined['Vehicle_Damage'].map(vehicle_damage)"
   ]
  },
  {
   "cell_type": "code",
   "execution_count": 35,
   "metadata": {
    "execution": {
     "iopub.execute_input": "2020-12-13T02:54:08.810346Z",
     "iopub.status.busy": "2020-12-13T02:54:08.754963Z",
     "iopub.status.idle": "2020-12-13T02:54:09.103948Z",
     "shell.execute_reply": "2020-12-13T02:54:09.103228Z"
    },
    "papermill": {
     "duration": 0.585164,
     "end_time": "2020-12-13T02:54:09.104070",
     "exception": false,
     "start_time": "2020-12-13T02:54:08.518906",
     "status": "completed"
    },
    "tags": []
   },
   "outputs": [],
   "source": [
    "combined['Gender'].value_counts()\n",
    "combined['Gender']=combined['Gender'].replace({'Male':1,'Female':0})"
   ]
  },
  {
   "cell_type": "code",
   "execution_count": 36,
   "metadata": {
    "execution": {
     "iopub.execute_input": "2020-12-13T02:54:09.297694Z",
     "iopub.status.busy": "2020-12-13T02:54:09.296938Z",
     "iopub.status.idle": "2020-12-13T02:54:09.367994Z",
     "shell.execute_reply": "2020-12-13T02:54:09.367132Z"
    },
    "papermill": {
     "duration": 0.169537,
     "end_time": "2020-12-13T02:54:09.368131",
     "exception": false,
     "start_time": "2020-12-13T02:54:09.198594",
     "status": "completed"
    },
    "tags": []
   },
   "outputs": [],
   "source": [
    "train1 = combined[combined['is_train']==1]\n",
    "\n",
    "test1 = combined[combined['is_train']==0]"
   ]
  },
  {
   "cell_type": "markdown",
   "metadata": {
    "papermill": {
     "duration": 0.093942,
     "end_time": "2020-12-13T02:54:09.555841",
     "exception": false,
     "start_time": "2020-12-13T02:54:09.461899",
     "status": "completed"
    },
    "tags": []
   },
   "source": [
    "Creating a Baseline model with very basic Preprocessed Data"
   ]
  },
  {
   "cell_type": "code",
   "execution_count": 37,
   "metadata": {
    "execution": {
     "iopub.execute_input": "2020-12-13T02:54:09.756596Z",
     "iopub.status.busy": "2020-12-13T02:54:09.755897Z",
     "iopub.status.idle": "2020-12-13T02:54:09.757975Z",
     "shell.execute_reply": "2020-12-13T02:54:09.758476Z"
    },
    "papermill": {
     "duration": 0.107164,
     "end_time": "2020-12-13T02:54:09.758630",
     "exception": false,
     "start_time": "2020-12-13T02:54:09.651466",
     "status": "completed"
    },
    "tags": []
   },
   "outputs": [],
   "source": [
    "test1 = test1.drop(['Response','is_train'],axis=1)"
   ]
  },
  {
   "cell_type": "code",
   "execution_count": 38,
   "metadata": {
    "execution": {
     "iopub.execute_input": "2020-12-13T02:54:09.999638Z",
     "iopub.status.busy": "2020-12-13T02:54:09.998753Z",
     "iopub.status.idle": "2020-12-13T02:54:10.019092Z",
     "shell.execute_reply": "2020-12-13T02:54:10.019694Z"
    },
    "papermill": {
     "duration": 0.167477,
     "end_time": "2020-12-13T02:54:10.019852",
     "exception": false,
     "start_time": "2020-12-13T02:54:09.852375",
     "status": "completed"
    },
    "tags": []
   },
   "outputs": [],
   "source": [
    "train1 = train1.drop(['is_train'],axis=1)"
   ]
  },
  {
   "cell_type": "code",
   "execution_count": 39,
   "metadata": {
    "execution": {
     "iopub.execute_input": "2020-12-13T02:54:10.213724Z",
     "iopub.status.busy": "2020-12-13T02:54:10.213031Z",
     "iopub.status.idle": "2020-12-13T02:54:10.219837Z",
     "shell.execute_reply": "2020-12-13T02:54:10.220413Z"
    },
    "papermill": {
     "duration": 0.104057,
     "end_time": "2020-12-13T02:54:10.220567",
     "exception": false,
     "start_time": "2020-12-13T02:54:10.116510",
     "status": "completed"
    },
    "tags": []
   },
   "outputs": [],
   "source": [
    "def split(df):\n",
    "  '''\n",
    "  Splitting the validation data set\n",
    "  '''\n",
    "  train_X, test_X, train_y, test_y  = train_test_split(df.drop(['Response','id'], axis=1), \\\n",
    "                                                  df['Response'].astype('int'),\n",
    "                                                    test_size=0.20,shuffle=True,\n",
    "                                                    random_state=0,\n",
    "                                                    stratify=df['Response'])\n",
    "  return train_X, test_X, train_y, test_y"
   ]
  },
  {
   "cell_type": "code",
   "execution_count": 40,
   "metadata": {
    "execution": {
     "iopub.execute_input": "2020-12-13T02:54:10.413705Z",
     "iopub.status.busy": "2020-12-13T02:54:10.413015Z",
     "iopub.status.idle": "2020-12-13T02:54:10.755715Z",
     "shell.execute_reply": "2020-12-13T02:54:10.756315Z"
    },
    "papermill": {
     "duration": 0.44112,
     "end_time": "2020-12-13T02:54:10.756501",
     "exception": false,
     "start_time": "2020-12-13T02:54:10.315381",
     "status": "completed"
    },
    "tags": []
   },
   "outputs": [],
   "source": [
    "train_X, test_X, train_y, test_y = split(train1)"
   ]
  },
  {
   "cell_type": "code",
   "execution_count": 41,
   "metadata": {
    "execution": {
     "iopub.execute_input": "2020-12-13T02:54:10.950551Z",
     "iopub.status.busy": "2020-12-13T02:54:10.949491Z",
     "iopub.status.idle": "2020-12-13T02:54:11.052689Z",
     "shell.execute_reply": "2020-12-13T02:54:11.051995Z"
    },
    "papermill": {
     "duration": 0.201155,
     "end_time": "2020-12-13T02:54:11.052808",
     "exception": false,
     "start_time": "2020-12-13T02:54:10.851653",
     "status": "completed"
    },
    "tags": []
   },
   "outputs": [],
   "source": [
    "from sklearn.preprocessing import StandardScaler\n",
    "stnd_x =StandardScaler()\n",
    "train_X = stnd_x.fit_transform(train_X)\n",
    "test_X  =  stnd_x.fit_transform(test_X)\n",
    "\n",
    "\n"
   ]
  },
  {
   "cell_type": "code",
   "execution_count": 42,
   "metadata": {
    "execution": {
     "iopub.execute_input": "2020-12-13T02:54:11.248734Z",
     "iopub.status.busy": "2020-12-13T02:54:11.248006Z",
     "iopub.status.idle": "2020-12-13T02:54:11.251136Z",
     "shell.execute_reply": "2020-12-13T02:54:11.250616Z"
    },
    "papermill": {
     "duration": 0.103706,
     "end_time": "2020-12-13T02:54:11.251253",
     "exception": false,
     "start_time": "2020-12-13T02:54:11.147547",
     "status": "completed"
    },
    "tags": []
   },
   "outputs": [],
   "source": [
    "def run_model_validate(model, train_X, train_y, test_X, test_y):\n",
    "    model.fit(train_X, train_y)\n",
    "    pred_train = model.predict(train_X)\n",
    "    pred_test = model.predict(test_X)\n",
    "    return model, roc_auc_score(train_y, pred_train), roc_auc_score(test_y, pred_test)"
   ]
  },
  {
   "cell_type": "code",
   "execution_count": 43,
   "metadata": {
    "execution": {
     "iopub.execute_input": "2020-12-13T02:54:11.448681Z",
     "iopub.status.busy": "2020-12-13T02:54:11.447952Z",
     "iopub.status.idle": "2020-12-13T02:54:12.336708Z",
     "shell.execute_reply": "2020-12-13T02:54:12.337289Z"
    },
    "papermill": {
     "duration": 0.991372,
     "end_time": "2020-12-13T02:54:12.337457",
     "exception": false,
     "start_time": "2020-12-13T02:54:11.346085",
     "status": "completed"
    },
    "tags": []
   },
   "outputs": [
    {
     "name": "stdout",
     "output_type": "stream",
     "text": [
      "Model Name: LogisticRegression()\n"
     ]
    }
   ],
   "source": [
    "result = []\n",
    "#model = [Lasso(alpha=0.025),LassoLars(alpha=0.025),Ridge(alpha=0.025),LinearRegression]\n",
    "model = [ LogisticRegression() ]\n",
    "for model in model:\n",
    "    print (\"Model Name:\",model)\n",
    "    model_name,Train_Roc, Test_Roc = run_model_validate(model, train_X, train_y, test_X, test_y)\n",
    "    result.append([model_name, Train_Roc, Test_Roc])"
   ]
  },
  {
   "cell_type": "code",
   "execution_count": 44,
   "metadata": {
    "execution": {
     "iopub.execute_input": "2020-12-13T02:54:12.541481Z",
     "iopub.status.busy": "2020-12-13T02:54:12.540754Z",
     "iopub.status.idle": "2020-12-13T02:54:12.544824Z",
     "shell.execute_reply": "2020-12-13T02:54:12.545360Z"
    },
    "papermill": {
     "duration": 0.112362,
     "end_time": "2020-12-13T02:54:12.545534",
     "exception": false,
     "start_time": "2020-12-13T02:54:12.433172",
     "status": "completed"
    },
    "tags": []
   },
   "outputs": [
    {
     "data": {
      "text/html": [
       "<div>\n",
       "<style scoped>\n",
       "    .dataframe tbody tr th:only-of-type {\n",
       "        vertical-align: middle;\n",
       "    }\n",
       "\n",
       "    .dataframe tbody tr th {\n",
       "        vertical-align: top;\n",
       "    }\n",
       "\n",
       "    .dataframe thead th {\n",
       "        text-align: right;\n",
       "    }\n",
       "</style>\n",
       "<table border=\"1\" class=\"dataframe\">\n",
       "  <thead>\n",
       "    <tr style=\"text-align: right;\">\n",
       "      <th></th>\n",
       "      <th>model_name</th>\n",
       "      <th>Train_RMSE</th>\n",
       "      <th>Test_RMSE</th>\n",
       "    </tr>\n",
       "  </thead>\n",
       "  <tbody>\n",
       "    <tr>\n",
       "      <th>0</th>\n",
       "      <td>LogisticRegression()</td>\n",
       "      <td>0.500887</td>\n",
       "      <td>0.50084</td>\n",
       "    </tr>\n",
       "  </tbody>\n",
       "</table>\n",
       "</div>"
      ],
      "text/plain": [
       "             model_name  Train_RMSE  Test_RMSE\n",
       "0  LogisticRegression()    0.500887    0.50084"
      ]
     },
     "execution_count": 44,
     "metadata": {},
     "output_type": "execute_result"
    }
   ],
   "source": [
    "pd.DataFrame(result, columns = [\"model_name\", \"Train_RMSE\", \"Test_RMSE\"]) "
   ]
  },
  {
   "cell_type": "markdown",
   "metadata": {
    "papermill": {
     "duration": 0.095763,
     "end_time": "2020-12-13T02:54:12.738468",
     "exception": false,
     "start_time": "2020-12-13T02:54:12.642705",
     "status": "completed"
    },
    "tags": []
   },
   "source": [
    "### Without any feature engineering we can obtain the ROC_AUC score of 0.50"
   ]
  },
  {
   "cell_type": "markdown",
   "metadata": {
    "papermill": {
     "duration": 0.097936,
     "end_time": "2020-12-13T02:54:12.934963",
     "exception": false,
     "start_time": "2020-12-13T02:54:12.837027",
     "status": "completed"
    },
    "tags": []
   },
   "source": [
    "# Feature Engineering"
   ]
  },
  {
   "cell_type": "code",
   "execution_count": 45,
   "metadata": {
    "execution": {
     "iopub.execute_input": "2020-12-13T02:54:13.132109Z",
     "iopub.status.busy": "2020-12-13T02:54:13.131439Z",
     "iopub.status.idle": "2020-12-13T02:54:13.146705Z",
     "shell.execute_reply": "2020-12-13T02:54:13.147407Z"
    },
    "papermill": {
     "duration": 0.114934,
     "end_time": "2020-12-13T02:54:13.147573",
     "exception": false,
     "start_time": "2020-12-13T02:54:13.032639",
     "status": "completed"
    },
    "tags": []
   },
   "outputs": [],
   "source": [
    "combined['Vintage'] = combined['Vintage']/365"
   ]
  },
  {
   "cell_type": "code",
   "execution_count": 46,
   "metadata": {
    "execution": {
     "iopub.execute_input": "2020-12-13T02:54:13.343862Z",
     "iopub.status.busy": "2020-12-13T02:54:13.343199Z",
     "iopub.status.idle": "2020-12-13T02:54:13.353148Z",
     "shell.execute_reply": "2020-12-13T02:54:13.353654Z"
    },
    "papermill": {
     "duration": 0.109746,
     "end_time": "2020-12-13T02:54:13.353823",
     "exception": false,
     "start_time": "2020-12-13T02:54:13.244077",
     "status": "completed"
    },
    "tags": []
   },
   "outputs": [],
   "source": [
    "#Analysis show that people in Age Group 30-60 have higher response rate so creating a separate feature\n",
    "combined['Age_Group'] = np.where((combined['Age']<30) & (combined['Age'] > 60),0,1)"
   ]
  },
  {
   "cell_type": "code",
   "execution_count": 47,
   "metadata": {
    "execution": {
     "iopub.execute_input": "2020-12-13T02:54:13.554465Z",
     "iopub.status.busy": "2020-12-13T02:54:13.553759Z",
     "iopub.status.idle": "2020-12-13T02:54:13.575843Z",
     "shell.execute_reply": "2020-12-13T02:54:13.576377Z"
    },
    "papermill": {
     "duration": 0.122811,
     "end_time": "2020-12-13T02:54:13.576569",
     "exception": false,
     "start_time": "2020-12-13T02:54:13.453758",
     "status": "completed"
    },
    "tags": []
   },
   "outputs": [],
   "source": [
    "combined['IsPreviouslyInsuredandVehicleDamaged'] = np.where((combined['Previously_Insured']==0) & (combined['Vehicle_Damage']==1),1,0)\n",
    "combined['IsVehicleDamagedandDrivingLicense'] = np.where((combined['Vehicle_Damage']==1) & (combined['Driving_License']==1),1,0)"
   ]
  },
  {
   "cell_type": "code",
   "execution_count": 48,
   "metadata": {
    "execution": {
     "iopub.execute_input": "2020-12-13T02:54:13.776817Z",
     "iopub.status.busy": "2020-12-13T02:54:13.776148Z",
     "iopub.status.idle": "2020-12-13T02:54:13.816119Z",
     "shell.execute_reply": "2020-12-13T02:54:13.816654Z"
    },
    "papermill": {
     "duration": 0.13997,
     "end_time": "2020-12-13T02:54:13.816825",
     "exception": false,
     "start_time": "2020-12-13T02:54:13.676855",
     "status": "completed"
    },
    "tags": []
   },
   "outputs": [],
   "source": [
    "combined['TotalAmountPaidTillDate'] = combined['Annual_Premium']*combined['Vintage']\n",
    "combined['PremiumperRegion'] = combined.groupby('Region_Code')['Annual_Premium'].transform('mean')\n",
    "combined['PremiumperPolicy_Sales_Channel'] = combined.groupby('Policy_Sales_Channel')['Annual_Premium'].transform('mean')"
   ]
  },
  {
   "cell_type": "code",
   "execution_count": 49,
   "metadata": {
    "execution": {
     "iopub.execute_input": "2020-12-13T02:54:14.016536Z",
     "iopub.status.busy": "2020-12-13T02:54:14.015803Z",
     "iopub.status.idle": "2020-12-13T02:54:14.222316Z",
     "shell.execute_reply": "2020-12-13T02:54:14.222866Z"
    },
    "papermill": {
     "duration": 0.309305,
     "end_time": "2020-12-13T02:54:14.223041",
     "exception": false,
     "start_time": "2020-12-13T02:54:13.913736",
     "status": "completed"
    },
    "tags": []
   },
   "outputs": [],
   "source": [
    "combined['AvgVehicleAgePerRegion'] = combined.groupby('Policy_Sales_Channel')['Annual_Premium'].transform('mean')\n",
    "combined['AvgCustomerAgeRegionWise'] = combined.groupby('Region_Code')['Age'].transform('mean')\n",
    "combined['AvgCustomerAgeSaleChannelWise'] = combined.groupby('Policy_Sales_Channel')['Age'].transform('mean')\n",
    "combined['SaleChannelsPerRegion'] = combined.groupby('Region_Code')['Policy_Sales_Channel'].transform('nunique')\n",
    "combined['RegionwisePreviouslyInsured'] = combined.groupby('Region_Code')['Previously_Insured'].transform('count')\n",
    "combined['RegionwiseVintage'] = combined.groupby('Region_Code')['Vintage'].transform('mean').astype('int')\n",
    "combined['SaleChannelwiseVintage'] = combined.groupby('Policy_Sales_Channel')['Vintage'].transform('mean').astype('int')"
   ]
  },
  {
   "cell_type": "code",
   "execution_count": 50,
   "metadata": {
    "execution": {
     "iopub.execute_input": "2020-12-13T02:54:14.420821Z",
     "iopub.status.busy": "2020-12-13T02:54:14.420034Z",
     "iopub.status.idle": "2020-12-13T02:54:14.427542Z",
     "shell.execute_reply": "2020-12-13T02:54:14.426682Z"
    },
    "papermill": {
     "duration": 0.107751,
     "end_time": "2020-12-13T02:54:14.427694",
     "exception": false,
     "start_time": "2020-12-13T02:54:14.319943",
     "status": "completed"
    },
    "tags": []
   },
   "outputs": [
    {
     "data": {
      "text/plain": [
       "Index(['id', 'Gender', 'Age', 'Driving_License', 'Region_Code',\n",
       "       'Previously_Insured', 'Vehicle_Age', 'Vehicle_Damage', 'Annual_Premium',\n",
       "       'Policy_Sales_Channel', 'Vintage', 'Response', 'is_train', 'Age_Group',\n",
       "       'IsPreviouslyInsuredandVehicleDamaged',\n",
       "       'IsVehicleDamagedandDrivingLicense', 'TotalAmountPaidTillDate',\n",
       "       'PremiumperRegion', 'PremiumperPolicy_Sales_Channel',\n",
       "       'AvgVehicleAgePerRegion', 'AvgCustomerAgeRegionWise',\n",
       "       'AvgCustomerAgeSaleChannelWise', 'SaleChannelsPerRegion',\n",
       "       'RegionwisePreviouslyInsured', 'RegionwiseVintage',\n",
       "       'SaleChannelwiseVintage'],\n",
       "      dtype='object')"
      ]
     },
     "execution_count": 50,
     "metadata": {},
     "output_type": "execute_result"
    }
   ],
   "source": [
    "combined.columns"
   ]
  },
  {
   "cell_type": "code",
   "execution_count": 51,
   "metadata": {
    "execution": {
     "iopub.execute_input": "2020-12-13T02:54:14.635663Z",
     "iopub.status.busy": "2020-12-13T02:54:14.634902Z",
     "iopub.status.idle": "2020-12-13T02:54:14.802262Z",
     "shell.execute_reply": "2020-12-13T02:54:14.802883Z"
    },
    "papermill": {
     "duration": 0.27629,
     "end_time": "2020-12-13T02:54:14.803037",
     "exception": false,
     "start_time": "2020-12-13T02:54:14.526747",
     "status": "completed"
    },
    "tags": []
   },
   "outputs": [],
   "source": [
    "combined['AvgRegionGenderWisePremium'] = combined.groupby(['Region_Code','Gender'])['Annual_Premium'].transform('mean')\n",
    "combined['NoPeoplePrevInsuredRegionGenderWise'] = combined.groupby(['Region_Code','Gender'])['Previously_Insured'].transform('count')\n",
    "combined['NoPeoplePrevInsuredSalesChannelGenderWise'] = combined.groupby(['Policy_Sales_Channel','Gender'])['Previously_Insured'].transform('count')\n",
    "combined['NoPeoplePrevInsuredSalesChannelRegionWise'] = combined.groupby(['Region_Code','Policy_Sales_Channel'])['Previously_Insured'].transform('count')\n",
    "combined['AvgCustomerDurationRegionGenderWise'] = combined.groupby(['Region_Code','Gender'])['Vintage'].transform('mean')"
   ]
  },
  {
   "cell_type": "markdown",
   "metadata": {
    "papermill": {
     "duration": 0.098676,
     "end_time": "2020-12-13T02:54:15.000130",
     "exception": false,
     "start_time": "2020-12-13T02:54:14.901454",
     "status": "completed"
    },
    "tags": []
   },
   "source": [
    "Changing Dtype from float to int to improve performance"
   ]
  },
  {
   "cell_type": "code",
   "execution_count": 52,
   "metadata": {
    "execution": {
     "iopub.execute_input": "2020-12-13T02:54:15.205609Z",
     "iopub.status.busy": "2020-12-13T02:54:15.204920Z",
     "iopub.status.idle": "2020-12-13T02:54:15.219639Z",
     "shell.execute_reply": "2020-12-13T02:54:15.220124Z"
    },
    "papermill": {
     "duration": 0.119181,
     "end_time": "2020-12-13T02:54:15.220282",
     "exception": false,
     "start_time": "2020-12-13T02:54:15.101101",
     "status": "completed"
    },
    "tags": []
   },
   "outputs": [],
   "source": [
    "combined['Region_Code']=combined['Region_Code'].astype(int)\n",
    "combined['Policy_Sales_Channel']=combined['Policy_Sales_Channel'].astype(int)"
   ]
  },
  {
   "cell_type": "code",
   "execution_count": 53,
   "metadata": {
    "execution": {
     "iopub.execute_input": "2020-12-13T02:54:15.422502Z",
     "iopub.status.busy": "2020-12-13T02:54:15.421495Z",
     "iopub.status.idle": "2020-12-13T02:54:15.426143Z",
     "shell.execute_reply": "2020-12-13T02:54:15.426637Z"
    },
    "papermill": {
     "duration": 0.107553,
     "end_time": "2020-12-13T02:54:15.426805",
     "exception": false,
     "start_time": "2020-12-13T02:54:15.319252",
     "status": "completed"
    },
    "tags": []
   },
   "outputs": [],
   "source": [
    "\n",
    "# categorical column \n",
    "cat_col=['Gender','Driving_License', 'Region_Code', 'Previously_Insured', 'Vehicle_Age', 'Vehicle_Damage']"
   ]
  },
  {
   "cell_type": "code",
   "execution_count": 54,
   "metadata": {
    "execution": {
     "iopub.execute_input": "2020-12-13T02:54:15.630470Z",
     "iopub.status.busy": "2020-12-13T02:54:15.629456Z",
     "iopub.status.idle": "2020-12-13T02:54:15.764405Z",
     "shell.execute_reply": "2020-12-13T02:54:15.763765Z"
    },
    "papermill": {
     "duration": 0.238618,
     "end_time": "2020-12-13T02:54:15.764529",
     "exception": false,
     "start_time": "2020-12-13T02:54:15.525911",
     "status": "completed"
    },
    "tags": []
   },
   "outputs": [
    {
     "name": "stdout",
     "output_type": "stream",
     "text": [
      "<class 'pandas.core.frame.DataFrame'>\n",
      "Int64Index: 508146 entries, 0 to 127036\n",
      "Data columns (total 31 columns):\n",
      " #   Column                                     Non-Null Count   Dtype  \n",
      "---  ------                                     --------------   -----  \n",
      " 0   id                                         508146 non-null  int64  \n",
      " 1   Gender                                     508146 non-null  int64  \n",
      " 2   Age                                        508146 non-null  int64  \n",
      " 3   Driving_License                            508146 non-null  int64  \n",
      " 4   Region_Code                                508146 non-null  int64  \n",
      " 5   Previously_Insured                         508146 non-null  int64  \n",
      " 6   Vehicle_Age                                508146 non-null  int64  \n",
      " 7   Vehicle_Damage                             508146 non-null  int64  \n",
      " 8   Annual_Premium                             508146 non-null  float64\n",
      " 9   Policy_Sales_Channel                       508146 non-null  int64  \n",
      " 10  Vintage                                    508146 non-null  float64\n",
      " 11  Response                                   381109 non-null  float64\n",
      " 12  is_train                                   508146 non-null  int64  \n",
      " 13  Age_Group                                  508146 non-null  int64  \n",
      " 14  IsPreviouslyInsuredandVehicleDamaged       508146 non-null  int64  \n",
      " 15  IsVehicleDamagedandDrivingLicense          508146 non-null  int64  \n",
      " 16  TotalAmountPaidTillDate                    508146 non-null  float64\n",
      " 17  PremiumperRegion                           508146 non-null  float64\n",
      " 18  PremiumperPolicy_Sales_Channel             508146 non-null  float64\n",
      " 19  AvgVehicleAgePerRegion                     508146 non-null  float64\n",
      " 20  AvgCustomerAgeRegionWise                   508146 non-null  float64\n",
      " 21  AvgCustomerAgeSaleChannelWise              508146 non-null  float64\n",
      " 22  SaleChannelsPerRegion                      508146 non-null  int64  \n",
      " 23  RegionwisePreviouslyInsured                508146 non-null  int64  \n",
      " 24  RegionwiseVintage                          508146 non-null  int64  \n",
      " 25  SaleChannelwiseVintage                     508146 non-null  int64  \n",
      " 26  AvgRegionGenderWisePremium                 508146 non-null  float64\n",
      " 27  NoPeoplePrevInsuredRegionGenderWise        508146 non-null  int64  \n",
      " 28  NoPeoplePrevInsuredSalesChannelGenderWise  508146 non-null  int64  \n",
      " 29  NoPeoplePrevInsuredSalesChannelRegionWise  508146 non-null  int64  \n",
      " 30  AvgCustomerDurationRegionGenderWise        508146 non-null  float64\n",
      "dtypes: float64(11), int64(20)\n",
      "memory usage: 124.1 MB\n"
     ]
    }
   ],
   "source": [
    "combined.info()"
   ]
  },
  {
   "cell_type": "code",
   "execution_count": 55,
   "metadata": {
    "execution": {
     "iopub.execute_input": "2020-12-13T02:54:15.969738Z",
     "iopub.status.busy": "2020-12-13T02:54:15.969000Z",
     "iopub.status.idle": "2020-12-13T02:54:16.026492Z",
     "shell.execute_reply": "2020-12-13T02:54:16.025897Z"
    },
    "papermill": {
     "duration": 0.163069,
     "end_time": "2020-12-13T02:54:16.026626",
     "exception": false,
     "start_time": "2020-12-13T02:54:15.863557",
     "status": "completed"
    },
    "tags": []
   },
   "outputs": [],
   "source": [
    "train = combined[combined['Response'].isnull()!= True]\n",
    "test = combined[combined['Response'].isnull()== True]"
   ]
  },
  {
   "cell_type": "code",
   "execution_count": 56,
   "metadata": {
    "execution": {
     "iopub.execute_input": "2020-12-13T02:54:16.242552Z",
     "iopub.status.busy": "2020-12-13T02:54:16.237588Z",
     "iopub.status.idle": "2020-12-13T02:54:16.252278Z",
     "shell.execute_reply": "2020-12-13T02:54:16.251613Z"
    },
    "papermill": {
     "duration": 0.127133,
     "end_time": "2020-12-13T02:54:16.252416",
     "exception": false,
     "start_time": "2020-12-13T02:54:16.125283",
     "status": "completed"
    },
    "tags": []
   },
   "outputs": [
    {
     "name": "stderr",
     "output_type": "stream",
     "text": [
      "/opt/conda/lib/python3.7/site-packages/pandas/core/frame.py:4174: SettingWithCopyWarning: \n",
      "A value is trying to be set on a copy of a slice from a DataFrame\n",
      "\n",
      "See the caveats in the documentation: https://pandas.pydata.org/pandas-docs/stable/user_guide/indexing.html#returning-a-view-versus-a-copy\n",
      "  errors=errors,\n"
     ]
    }
   ],
   "source": [
    "test.drop(['Response'],axis=1,inplace=True)"
   ]
  },
  {
   "cell_type": "markdown",
   "metadata": {
    "papermill": {
     "duration": 0.098218,
     "end_time": "2020-12-13T02:54:16.449498",
     "exception": false,
     "start_time": "2020-12-13T02:54:16.351280",
     "status": "completed"
    },
    "tags": []
   },
   "source": [
    "# MODELLING"
   ]
  },
  {
   "cell_type": "code",
   "execution_count": 57,
   "metadata": {
    "execution": {
     "iopub.execute_input": "2020-12-13T02:54:16.689245Z",
     "iopub.status.busy": "2020-12-13T02:54:16.688430Z",
     "iopub.status.idle": "2020-12-13T02:54:16.691676Z",
     "shell.execute_reply": "2020-12-13T02:54:16.690967Z"
    },
    "papermill": {
     "duration": 0.144046,
     "end_time": "2020-12-13T02:54:16.691797",
     "exception": false,
     "start_time": "2020-12-13T02:54:16.547751",
     "status": "completed"
    },
    "tags": []
   },
   "outputs": [],
   "source": [
    "X = train.drop([\"Response\"], axis=1)\n",
    "Y = train[\"Response\"]"
   ]
  },
  {
   "cell_type": "code",
   "execution_count": 58,
   "metadata": {
    "execution": {
     "iopub.execute_input": "2020-12-13T02:54:16.897962Z",
     "iopub.status.busy": "2020-12-13T02:54:16.897245Z",
     "iopub.status.idle": "2020-12-13T02:54:16.902580Z",
     "shell.execute_reply": "2020-12-13T02:54:16.902023Z"
    },
    "papermill": {
     "duration": 0.111054,
     "end_time": "2020-12-13T02:54:16.902697",
     "exception": false,
     "start_time": "2020-12-13T02:54:16.791643",
     "status": "completed"
    },
    "tags": []
   },
   "outputs": [
    {
     "data": {
      "text/plain": [
       "Index(['id', 'Gender', 'Age', 'Driving_License', 'Region_Code',\n",
       "       'Previously_Insured', 'Vehicle_Age', 'Vehicle_Damage', 'Annual_Premium',\n",
       "       'Policy_Sales_Channel', 'Vintage', 'is_train', 'Age_Group',\n",
       "       'IsPreviouslyInsuredandVehicleDamaged',\n",
       "       'IsVehicleDamagedandDrivingLicense', 'TotalAmountPaidTillDate',\n",
       "       'PremiumperRegion', 'PremiumperPolicy_Sales_Channel',\n",
       "       'AvgVehicleAgePerRegion', 'AvgCustomerAgeRegionWise',\n",
       "       'AvgCustomerAgeSaleChannelWise', 'SaleChannelsPerRegion',\n",
       "       'RegionwisePreviouslyInsured', 'RegionwiseVintage',\n",
       "       'SaleChannelwiseVintage', 'AvgRegionGenderWisePremium',\n",
       "       'NoPeoplePrevInsuredRegionGenderWise',\n",
       "       'NoPeoplePrevInsuredSalesChannelGenderWise',\n",
       "       'NoPeoplePrevInsuredSalesChannelRegionWise',\n",
       "       'AvgCustomerDurationRegionGenderWise'],\n",
       "      dtype='object')"
      ]
     },
     "execution_count": 58,
     "metadata": {},
     "output_type": "execute_result"
    }
   ],
   "source": [
    "X.columns"
   ]
  },
  {
   "cell_type": "code",
   "execution_count": 59,
   "metadata": {
    "execution": {
     "iopub.execute_input": "2020-12-13T02:54:17.111340Z",
     "iopub.status.busy": "2020-12-13T02:54:17.110657Z",
     "iopub.status.idle": "2020-12-13T02:54:17.114616Z",
     "shell.execute_reply": "2020-12-13T02:54:17.113988Z"
    },
    "papermill": {
     "duration": 0.111497,
     "end_time": "2020-12-13T02:54:17.114734",
     "exception": false,
     "start_time": "2020-12-13T02:54:17.003237",
     "status": "completed"
    },
    "tags": []
   },
   "outputs": [],
   "source": [
    "def feature_importance(model, X_train):\n",
    "\n",
    "    fI = model.feature_importances_\n",
    "    \n",
    "    print(fI)\n",
    "    \n",
    "    names = X_train.columns.values\n",
    "    \n",
    "    ticks = [i for i in range(len(names))]\n",
    "    \n",
    "    plt.bar(ticks, fI)\n",
    "    \n",
    "    plt.xticks(ticks, names,rotation = 90)\n",
    "    \n",
    "    plt.show()"
   ]
  },
  {
   "cell_type": "code",
   "execution_count": 60,
   "metadata": {
    "execution": {
     "iopub.execute_input": "2020-12-13T02:54:17.332422Z",
     "iopub.status.busy": "2020-12-13T02:54:17.329208Z",
     "iopub.status.idle": "2020-12-13T02:59:33.229293Z",
     "shell.execute_reply": "2020-12-13T02:59:33.226476Z"
    },
    "papermill": {
     "duration": 316.014698,
     "end_time": "2020-12-13T02:59:33.229472",
     "exception": false,
     "start_time": "2020-12-13T02:54:17.214774",
     "status": "completed"
    },
    "tags": []
   },
   "outputs": [
    {
     "data": {
      "application/vnd.jupyter.widget-view+json": {
       "model_id": "6837b4bf40ea49339914deb9de675196",
       "version_major": 2,
       "version_minor": 0
      },
      "text/plain": [
       "HBox(children=(FloatProgress(value=0.0, max=1.0), HTML(value='')))"
      ]
     },
     "metadata": {},
     "output_type": "display_data"
    },
    {
     "name": "stdout",
     "output_type": "stream",
     "text": [
      " \n",
      "####################################################################################################\n",
      "Seed 1\n",
      "Fold 0\n",
      " rows of train = 228665 rows of holdout = 152444\n",
      "[0]\tvalidation_0-auc:0.72491\tvalidation_0-logloss:0.66962\n",
      "Multiple eval metrics have been passed: 'validation_0-logloss' will be used for early stopping.\n",
      "\n",
      "Will train until validation_0-logloss hasn't improved in 50 rounds.\n",
      "[100]\tvalidation_0-auc:0.85712\tvalidation_0-logloss:0.27120\n",
      "[200]\tvalidation_0-auc:0.85816\tvalidation_0-logloss:0.26489\n",
      "[300]\tvalidation_0-auc:0.85830\tvalidation_0-logloss:0.26431\n",
      "Stopping. Best iteration:\n",
      "[349]\tvalidation_0-auc:0.85835\tvalidation_0-logloss:0.26422\n",
      "\n",
      "XGB Val OF AUC= 0.8583518230583136\n",
      "####################################################################################################\n",
      "[0.00100555 0.00116499 0.00805533 0.00191157 0.00122255 0.21026543\n",
      " 0.00513874 0.14987282 0.00121345 0.00283921 0.00088203 0.\n",
      " 0.         0.41064838 0.16770397 0.00101297 0.00136833 0.00212696\n",
      " 0.00268424 0.00147313 0.01773231 0.00151284 0.00124675 0.\n",
      " 0.         0.00125526 0.00101614 0.00397199 0.00170171 0.00097343]\n"
     ]
    },
    {
     "data": {
      "image/png": "[encoded data removed]",
      "text/plain": [
       "<Figure size 432x288 with 1 Axes>"
      ]
     },
     "metadata": {},
     "output_type": "display_data"
    },
    {
     "name": "stdout",
     "output_type": "stream",
     "text": [
      "Fold 1\n",
      " rows of train = 228665 rows of holdout = 152444\n",
      "[0]\tvalidation_0-auc:0.72729\tvalidation_0-logloss:0.66963\n",
      "Multiple eval metrics have been passed: 'validation_0-logloss' will be used for early stopping.\n",
      "\n",
      "Will train until validation_0-logloss hasn't improved in 50 rounds.\n",
      "[100]\tvalidation_0-auc:0.85855\tvalidation_0-logloss:0.27084\n",
      "[200]\tvalidation_0-auc:0.85955\tvalidation_0-logloss:0.26440\n",
      "[300]\tvalidation_0-auc:0.85954\tvalidation_0-logloss:0.26387\n",
      "[400]\tvalidation_0-auc:0.85928\tvalidation_0-logloss:0.26387\n",
      "Stopping. Best iteration:\n",
      "[355]\tvalidation_0-auc:0.85943\tvalidation_0-logloss:0.26382\n",
      "\n",
      "XGB Val OF AUC= 0.8594310315612391\n",
      "####################################################################################################\n",
      "Fold 2\n",
      " rows of train = 228665 rows of holdout = 152444\n",
      "[0]\tvalidation_0-auc:0.72520\tvalidation_0-logloss:0.66963\n",
      "Multiple eval metrics have been passed: 'validation_0-logloss' will be used for early stopping.\n",
      "\n",
      "Will train until validation_0-logloss hasn't improved in 50 rounds.\n",
      "[100]\tvalidation_0-auc:0.85735\tvalidation_0-logloss:0.27135\n",
      "[200]\tvalidation_0-auc:0.85822\tvalidation_0-logloss:0.26514\n",
      "[300]\tvalidation_0-auc:0.85836\tvalidation_0-logloss:0.26455\n",
      "Stopping. Best iteration:\n",
      "[349]\tvalidation_0-auc:0.85839\tvalidation_0-logloss:0.26446\n",
      "\n",
      "XGB Val OF AUC= 0.8583881276847294\n",
      "####################################################################################################\n",
      "Fold 3\n",
      " rows of train = 228665 rows of holdout = 152444\n",
      "[0]\tvalidation_0-auc:0.72779\tvalidation_0-logloss:0.66961\n",
      "Multiple eval metrics have been passed: 'validation_0-logloss' will be used for early stopping.\n",
      "\n",
      "Will train until validation_0-logloss hasn't improved in 50 rounds.\n",
      "[100]\tvalidation_0-auc:0.85861\tvalidation_0-logloss:0.27069\n",
      "[200]\tvalidation_0-auc:0.85944\tvalidation_0-logloss:0.26433\n",
      "[300]\tvalidation_0-auc:0.85950\tvalidation_0-logloss:0.26378\n",
      "[400]\tvalidation_0-auc:0.85933\tvalidation_0-logloss:0.26372\n",
      "Stopping. Best iteration:\n",
      "[385]\tvalidation_0-auc:0.85937\tvalidation_0-logloss:0.26370\n",
      "\n",
      "XGB Val OF AUC= 0.8593743765934878\n",
      "####################################################################################################\n",
      "Fold 4\n",
      " rows of train = 228665 rows of holdout = 152444\n",
      "[0]\tvalidation_0-auc:0.72630\tvalidation_0-logloss:0.66964\n",
      "Multiple eval metrics have been passed: 'validation_0-logloss' will be used for early stopping.\n",
      "\n",
      "Will train until validation_0-logloss hasn't improved in 50 rounds.\n",
      "[100]\tvalidation_0-auc:0.85836\tvalidation_0-logloss:0.27123\n",
      "[200]\tvalidation_0-auc:0.85947\tvalidation_0-logloss:0.26478\n",
      "[300]\tvalidation_0-auc:0.85962\tvalidation_0-logloss:0.26408\n",
      "Stopping. Best iteration:\n",
      "[348]\tvalidation_0-auc:0.85960\tvalidation_0-logloss:0.26396\n",
      "\n",
      "XGB Val OF AUC= 0.8596052462723012\n",
      "####################################################################################################\n",
      "\n"
     ]
    }
   ],
   "source": [
    "from tqdm.notebook import tqdm ,tnrange\n",
    "pred_test = np.zeros(shape=(len(test),))\n",
    "\n",
    "scores = []\n",
    "\n",
    "avg_loss = []\n",
    "\n",
    "test_size = 0.4\n",
    "\n",
    "X_train_cv,y_train_cv = X.copy(), Y.copy()\n",
    "\n",
    "seeds = [1]\n",
    "\n",
    "for seed in tnrange(len(seeds)):\n",
    "    \n",
    "    print(' ')\n",
    "    \n",
    "    print('#'*100)\n",
    "    \n",
    "    print('Seed',seeds[seed])\n",
    "    \n",
    "    sssf = StratifiedShuffleSplit(n_splits=5, test_size = test_size ,random_state=seed)\n",
    "    \n",
    "    for i, (idxT, idxV) in enumerate(sssf.split(X_train_cv, y_train_cv)):\n",
    "\n",
    "        print('Fold',i)\n",
    "\n",
    "        print(' rows of train =',len(idxT),'rows of holdout =',len(idxV))\n",
    "\n",
    "        clf = XGBClassifier(n_estimators=1000,\n",
    "                                max_depth=6,\n",
    "                                learning_rate=0.04,\n",
    "                                subsample=0.9,\n",
    "                                colsample_bytree=0.35,\n",
    "                                objective = 'binary:logistic',\n",
    "                                random_state = 1\n",
    "                               )        \n",
    "\n",
    "\n",
    "        h = clf.fit(X_train_cv.iloc[idxT], y_train_cv.iloc[idxT], \n",
    "                    eval_set=[(X_train_cv.iloc[idxV],y_train_cv.iloc[idxV])],\n",
    "                    verbose=100,eval_metric=['auc','logloss'],\n",
    "                    early_stopping_rounds=50)\n",
    "        \n",
    "        pred_train = clf.predict_proba(X_train_cv.iloc[idxV])[:,1]\n",
    "        \n",
    "        pred_test +=clf.predict_proba(test)[:,1]\n",
    "\n",
    "        roc = roc_auc_score(y_train_cv.iloc[idxV],pred_train)\n",
    "\n",
    "        scores.append(roc)\n",
    "        \n",
    "        avg_loss.append(clf.best_score)\n",
    "\n",
    "        print ('XGB Val OF AUC=',roc)\n",
    "\n",
    "        print('#'*100)\n",
    "\n",
    "        if i==0:\n",
    "            \n",
    "            feature_importance(clf,X_train_cv)\n",
    "            \n"
   ]
  },
  {
   "cell_type": "markdown",
   "metadata": {
    "papermill": {
     "duration": 0.123003,
     "end_time": "2020-12-13T02:59:33.470695",
     "exception": false,
     "start_time": "2020-12-13T02:59:33.347692",
     "status": "completed"
    },
    "tags": []
   },
   "source": [
    "We can see there is a massive improvement in the value of ROC_AUC score value  # 0.8597330023933047"
   ]
  },
  {
   "cell_type": "code",
   "execution_count": 61,
   "metadata": {
    "execution": {
     "iopub.execute_input": "2020-12-13T02:59:33.721023Z",
     "iopub.status.busy": "2020-12-13T02:59:33.719557Z",
     "iopub.status.idle": "2020-12-13T02:59:33.725762Z",
     "shell.execute_reply": "2020-12-13T02:59:33.724934Z"
    },
    "papermill": {
     "duration": 0.133491,
     "end_time": "2020-12-13T02:59:33.725935",
     "exception": false,
     "start_time": "2020-12-13T02:59:33.592444",
     "status": "completed"
    },
    "tags": []
   },
   "outputs": [
    {
     "name": "stdout",
     "output_type": "stream",
     "text": [
      "Parameters currently in use:\n",
      "\n",
      "{'bootstrap': True,\n",
      " 'ccp_alpha': 0.0,\n",
      " 'class_weight': None,\n",
      " 'criterion': 'gini',\n",
      " 'max_depth': None,\n",
      " 'max_features': 'auto',\n",
      " 'max_leaf_nodes': None,\n",
      " 'max_samples': None,\n",
      " 'min_impurity_decrease': 0.0,\n",
      " 'min_impurity_split': None,\n",
      " 'min_samples_leaf': 1,\n",
      " 'min_samples_split': 2,\n",
      " 'min_weight_fraction_leaf': 0.0,\n",
      " 'n_estimators': 100,\n",
      " 'n_jobs': None,\n",
      " 'oob_score': False,\n",
      " 'random_state': 42,\n",
      " 'verbose': 0,\n",
      " 'warm_start': False}\n"
     ]
    }
   ],
   "source": [
    "from sklearn.ensemble import RandomForestClassifier\n",
    "rf = RandomForestClassifier(random_state = 42)\n",
    "from pprint import pprint\n",
    "# Look at parameters used by our current forest\n",
    "print('Parameters currently in use:\\n')\n",
    "pprint(rf.get_params())"
   ]
  },
  {
   "cell_type": "code",
   "execution_count": 62,
   "metadata": {
    "execution": {
     "iopub.execute_input": "2020-12-13T02:59:33.980316Z",
     "iopub.status.busy": "2020-12-13T02:59:33.979359Z",
     "iopub.status.idle": "2020-12-13T02:59:33.985614Z",
     "shell.execute_reply": "2020-12-13T02:59:33.984983Z"
    },
    "papermill": {
     "duration": 0.138424,
     "end_time": "2020-12-13T02:59:33.985732",
     "exception": false,
     "start_time": "2020-12-13T02:59:33.847308",
     "status": "completed"
    },
    "tags": []
   },
   "outputs": [
    {
     "name": "stdout",
     "output_type": "stream",
     "text": [
      "{'bootstrap': [True, False],\n",
      " 'max_depth': [10, 20, 30, 40, 50, 60, 70, 80, 90, 100, 110, None],\n",
      " 'max_features': ['auto', 'sqrt'],\n",
      " 'min_samples_leaf': [1, 2, 4],\n",
      " 'min_samples_split': [2, 5, 10],\n",
      " 'n_estimators': [200, 288, 377, 466, 555, 644, 733, 822, 911, 1000]}\n"
     ]
    }
   ],
   "source": [
    "from sklearn.model_selection import RandomizedSearchCV\n",
    "n_estimators = [int(x) for x in np.linspace(start = 200, stop = 1000, num = 10)]\n",
    "max_features = ['auto', 'sqrt']\n",
    "max_depth = [int(x) for x in np.linspace(10, 110, num = 11)]\n",
    "max_depth.append(None)\n",
    "min_samples_split = [2, 5, 10]\n",
    "min_samples_leaf = [1, 2, 4]\n",
    "bootstrap = [True, False]\n",
    "random_grid = {'n_estimators': n_estimators,\n",
    "               'max_features': max_features,\n",
    "               'max_depth': max_depth,\n",
    "               'min_samples_split': min_samples_split,\n",
    "               'min_samples_leaf': min_samples_leaf,\n",
    "               'bootstrap': bootstrap}\n",
    "pprint(random_grid)"
   ]
  },
  {
   "cell_type": "code",
   "execution_count": 63,
   "metadata": {
    "execution": {
     "iopub.execute_input": "2020-12-13T02:59:34.233748Z",
     "iopub.status.busy": "2020-12-13T02:59:34.233046Z",
     "iopub.status.idle": "2020-12-13T02:59:34.276192Z",
     "shell.execute_reply": "2020-12-13T02:59:34.275609Z"
    },
    "papermill": {
     "duration": 0.169203,
     "end_time": "2020-12-13T02:59:34.276320",
     "exception": false,
     "start_time": "2020-12-13T02:59:34.107117",
     "status": "completed"
    },
    "tags": []
   },
   "outputs": [],
   "source": [
    "sample_x_train = X.sample(frac=0.3, replace=True, random_state=1)\n",
    "sample_y_train = Y.sample(frac=0.3, replace=True, random_state=1)"
   ]
  },
  {
   "cell_type": "code",
   "execution_count": 64,
   "metadata": {
    "execution": {
     "iopub.execute_input": "2020-12-13T02:59:34.530345Z",
     "iopub.status.busy": "2020-12-13T02:59:34.529658Z",
     "iopub.status.idle": "2020-12-13T02:59:34.534535Z",
     "shell.execute_reply": "2020-12-13T02:59:34.533964Z"
    },
    "papermill": {
     "duration": 0.138424,
     "end_time": "2020-12-13T02:59:34.534650",
     "exception": false,
     "start_time": "2020-12-13T02:59:34.396226",
     "status": "completed"
    },
    "tags": []
   },
   "outputs": [
    {
     "name": "stdout",
     "output_type": "stream",
     "text": [
      "(114333, 30)\n",
      "(114333,)\n"
     ]
    }
   ],
   "source": [
    "print(sample_x_train.shape)\n",
    "print(sample_y_train.shape)\n"
   ]
  },
  {
   "cell_type": "code",
   "execution_count": 65,
   "metadata": {
    "execution": {
     "iopub.execute_input": "2020-12-13T02:59:34.787175Z",
     "iopub.status.busy": "2020-12-13T02:59:34.786520Z",
     "iopub.status.idle": "2020-12-13T02:59:34.893959Z",
     "shell.execute_reply": "2020-12-13T02:59:34.893423Z"
    },
    "papermill": {
     "duration": 0.239042,
     "end_time": "2020-12-13T02:59:34.894082",
     "exception": false,
     "start_time": "2020-12-13T02:59:34.655040",
     "status": "completed"
    },
    "tags": []
   },
   "outputs": [
    {
     "ename": "NameError",
     "evalue": "name 'rf_random' is not defined",
     "output_type": "error",
     "traceback": [
      "\u001b[0;31m---------------------------------------------------------------------------\u001b[0m",
      "\u001b[0;31mNameError\u001b[0m                                 Traceback (most recent call last)",
      "\u001b[0;32m<ipython-input-65-ea266b0743c6>\u001b[0m in \u001b[0;36m<module>\u001b[0;34m\u001b[0m\n\u001b[0;32m----> 1\u001b[0;31m \u001b[0mrf_random\u001b[0m\u001b[0;34m.\u001b[0m\u001b[0mbest_params_\u001b[0m\u001b[0;34m\u001b[0m\u001b[0;34m\u001b[0m\u001b[0m\n\u001b[0m",
      "\u001b[0;31mNameError\u001b[0m: name 'rf_random' is not defined"
     ]
    }
   ],
   "source": [
    "rf_random.best_params_"
   ]
  },
  {
   "cell_type": "code",
   "execution_count": 66,
   "metadata": {
    "execution": {
     "iopub.execute_input": "2020-12-13T02:59:35.155492Z",
     "iopub.status.busy": "2020-12-13T02:59:35.148542Z",
     "iopub.status.idle": "2020-12-13T03:11:59.111516Z",
     "shell.execute_reply": "2020-12-13T03:11:59.108184Z"
    },
    "papermill": {
     "duration": 744.093654,
     "end_time": "2020-12-13T03:11:59.111700",
     "exception": false,
     "start_time": "2020-12-13T02:59:35.018046",
     "status": "completed"
    },
    "tags": []
   },
   "outputs": [
    {
     "data": {
      "application/vnd.jupyter.widget-view+json": {
       "model_id": "c21234863792406cb2a80472894925b7",
       "version_major": 2,
       "version_minor": 0
      },
      "text/plain": [
       "HBox(children=(FloatProgress(value=0.0, max=1.0), HTML(value='')))"
      ]
     },
     "metadata": {},
     "output_type": "display_data"
    },
    {
     "name": "stdout",
     "output_type": "stream",
     "text": [
      " \n",
      "####################################################################################################\n",
      "Seed 1\n",
      "Fold 0\n",
      " rows of train = 228665 rows of holdout = 152444\n",
      "RF Val OF AUC= 0.8554734077429426\n",
      "####################################################################################################\n",
      "[1.35460129e-02 9.85339511e-04 3.55336612e-02 2.82187073e-04\n",
      " 5.40583353e-03 1.54406067e-02 1.77199663e-03 2.45016059e-06\n",
      " 9.00968677e-03 5.71301943e-03 9.42803583e-03 0.00000000e+00\n",
      " 0.00000000e+00 7.96911698e-01 6.74355010e-04 1.02086799e-02\n",
      " 2.64284452e-03 2.89317834e-03 2.72960073e-03 4.65478900e-03\n",
      " 5.57965489e-02 3.30061462e-03 1.46621136e-03 0.00000000e+00\n",
      " 0.00000000e+00 4.25788336e-03 2.70191799e-03 3.60688109e-03\n",
      " 6.66906546e-03 4.36690241e-03]\n"
     ]
    },
    {
     "data": {
      "image/png": "[encoded data removed]",
      "text/plain": [
       "<Figure size 432x288 with 1 Axes>"
      ]
     },
     "metadata": {},
     "output_type": "display_data"
    },
    {
     "name": "stdout",
     "output_type": "stream",
     "text": [
      "Fold 1\n",
      " rows of train = 228665 rows of holdout = 152444\n",
      "RF Val OF AUC= 0.8560008242570467\n",
      "####################################################################################################\n",
      "\n"
     ]
    }
   ],
   "source": [
    "from tqdm.notebook import tqdm ,tnrange\n",
    "pred_test = np.zeros(shape=(len(test),))\n",
    "\n",
    "scores = []\n",
    "\n",
    "avg_loss = []\n",
    "\n",
    "test_size = 0.4\n",
    "\n",
    "X_train_cv,y_train_cv = X.copy(), Y.copy()\n",
    "\n",
    "seeds = [1]\n",
    "\n",
    "for seed in tnrange(len(seeds)):\n",
    "    \n",
    "    print(' ')\n",
    "    \n",
    "    print('#'*100)\n",
    "    \n",
    "    print('Seed',seeds[seed])\n",
    "    \n",
    "    sssf = StratifiedShuffleSplit(n_splits=2, test_size = test_size ,random_state=seed)\n",
    "    \n",
    "    for i, (idxT, idxV) in enumerate(sssf.split(X_train_cv, y_train_cv)):\n",
    "\n",
    "        print('Fold',i)\n",
    "\n",
    "        print(' rows of train =',len(idxT),'rows of holdout =',len(idxV))\n",
    "\n",
    "        clf = RandomForestClassifier(random_state=0, max_depth=10, \n",
    "                                            class_weight={0:0.12, 1:0.88}, \n",
    "                                            n_estimators=500, max_features=None, n_jobs=4)        \n",
    "\n",
    "\n",
    "        h = clf.fit(X_train_cv.iloc[idxT], y_train_cv.iloc[idxT])\n",
    "        \n",
    "        pred_train = clf.predict_proba(X_train_cv.iloc[idxV])[:,1]\n",
    "        \n",
    "        pred_test +=clf.predict_proba(test)[:,1]\n",
    "\n",
    "        roc = roc_auc_score(y_train_cv.iloc[idxV],pred_train)\n",
    "\n",
    "        scores.append(roc)\n",
    "        \n",
    "        #avg_loss.append(clf.best_score)\n",
    "\n",
    "        print ('RF Val OF AUC=',roc)\n",
    "\n",
    "        print('#'*100)\n",
    "\n",
    "        if i==0:\n",
    "            \n",
    "            feature_importance(clf,X_train_cv)\n",
    "            \n"
   ]
  },
  {
   "cell_type": "markdown",
   "metadata": {
    "papermill": {
     "duration": 0.126425,
     "end_time": "2020-12-13T03:11:59.365089",
     "exception": false,
     "start_time": "2020-12-13T03:11:59.238664",
     "status": "completed"
    },
    "tags": []
   },
   "source": [
    "we can see that the ROC_AUC(0.8560008242570467) value of RF is bit low than XGB # "
   ]
  },
  {
   "cell_type": "markdown",
   "metadata": {
    "papermill": {
     "duration": 0.124985,
     "end_time": "2020-12-13T03:11:59.617308",
     "exception": false,
     "start_time": "2020-12-13T03:11:59.492323",
     "status": "completed"
    },
    "tags": []
   },
   "source": [
    "#Hyperparameter tuning of RandomForest Classifier using Bayesian optimization"
   ]
  },
  {
   "cell_type": "code",
   "execution_count": 67,
   "metadata": {
    "execution": {
     "iopub.execute_input": "2020-12-13T03:11:59.871217Z",
     "iopub.status.busy": "2020-12-13T03:11:59.870585Z",
     "iopub.status.idle": "2020-12-13T03:11:59.876591Z",
     "shell.execute_reply": "2020-12-13T03:11:59.877054Z"
    },
    "papermill": {
     "duration": 0.134509,
     "end_time": "2020-12-13T03:11:59.877198",
     "exception": false,
     "start_time": "2020-12-13T03:11:59.742689",
     "status": "completed"
    },
    "tags": []
   },
   "outputs": [],
   "source": [
    "#Hyperparameter tuning of RandomForest Classifiers using Bayesian optimization\n",
    "\n",
    "def rfc_cv(n_estimators, min_samples_split, max_features, data, targets):\n",
    "    estimator = RandomForestClassifier(\n",
    "        n_estimators=n_estimators,\n",
    "        min_samples_split=min_samples_split,\n",
    "        max_features=max_features,\n",
    "        random_state=2,\n",
    "        n_jobs = -1\n",
    "    )\n",
    "    cval = cross_val_score(estimator, data, targets,\n",
    "                           scoring='roc_auc', cv=5)\n",
    "    return cval.mean()"
   ]
  },
  {
   "cell_type": "code",
   "execution_count": 68,
   "metadata": {
    "execution": {
     "iopub.execute_input": "2020-12-13T03:12:00.138894Z",
     "iopub.status.busy": "2020-12-13T03:12:00.138162Z",
     "iopub.status.idle": "2020-12-13T03:12:00.146903Z",
     "shell.execute_reply": "2020-12-13T03:12:00.147438Z"
    },
    "papermill": {
     "duration": 0.141752,
     "end_time": "2020-12-13T03:12:00.147613",
     "exception": false,
     "start_time": "2020-12-13T03:12:00.005861",
     "status": "completed"
    },
    "tags": []
   },
   "outputs": [],
   "source": [
    "def optimize_rfc(data, targets):\n",
    "    def rfc_crossval(n_estimators, min_samples_split, max_features):\n",
    "        return rfc_cv(\n",
    "            n_estimators=int(n_estimators),\n",
    "            min_samples_split=int(min_samples_split),\n",
    "            max_features=max(min(max_features, 0.999), 1e-3),\n",
    "            data=data,\n",
    "            targets=targets,\n",
    "        )\n",
    "\n",
    "    optimizer = BayesianOptimization(\n",
    "        f=rfc_crossval,\n",
    "        pbounds={\n",
    "            \"n_estimators\": (100, 450),\n",
    "            \"min_samples_split\": (2, 25),\n",
    "            \"max_features\": (0.1, 0.999),\n",
    "        },\n",
    "        random_state=1234,\n",
    "        verbose=2\n",
    "    )\n",
    "    optimizer.maximize(n_iter=15, init_points=10)\n",
    "\n",
    "    print(\"Final result:\", optimizer.max)"
   ]
  },
  {
   "cell_type": "code",
   "execution_count": 69,
   "metadata": {
    "execution": {
     "iopub.execute_input": "2020-12-13T03:12:00.406546Z",
     "iopub.status.busy": "2020-12-13T03:12:00.405787Z",
     "iopub.status.idle": "2020-12-13T05:05:12.333175Z",
     "shell.execute_reply": "2020-12-13T05:05:12.333805Z"
    },
    "papermill": {
     "duration": 6792.057736,
     "end_time": "2020-12-13T05:05:12.334101",
     "exception": false,
     "start_time": "2020-12-13T03:12:00.276365",
     "status": "completed"
    },
    "tags": []
   },
   "outputs": [
    {
     "name": "stdout",
     "output_type": "stream",
     "text": [
      "--- Optimizing Random Forest ---\n",
      "|   iter    |  target   | max_fe... | min_sa... | n_esti... |\n",
      "-------------------------------------------------------------\n",
      "| \u001b[0m 1       \u001b[0m | \u001b[0m 0.884   \u001b[0m | \u001b[0m 0.2722  \u001b[0m | \u001b[0m 16.31   \u001b[0m | \u001b[0m 253.2   \u001b[0m |\n",
      "| \u001b[0m 2       \u001b[0m | \u001b[0m 0.8831  \u001b[0m | \u001b[0m 0.806   \u001b[0m | \u001b[0m 19.94   \u001b[0m | \u001b[0m 195.4   \u001b[0m |\n",
      "| \u001b[0m 3       \u001b[0m | \u001b[0m 0.8827  \u001b[0m | \u001b[0m 0.3485  \u001b[0m | \u001b[0m 20.44   \u001b[0m | \u001b[0m 435.3   \u001b[0m |\n",
      "| \u001b[95m 4       \u001b[0m | \u001b[95m 0.888   \u001b[0m | \u001b[95m 0.8875  \u001b[0m | \u001b[95m 10.23   \u001b[0m | \u001b[95m 275.3   \u001b[0m |\n",
      "| \u001b[0m 5       \u001b[0m | \u001b[0m 0.884   \u001b[0m | \u001b[0m 0.7144  \u001b[0m | \u001b[0m 18.39   \u001b[0m | \u001b[0m 229.6   \u001b[0m |\n",
      "| \u001b[0m 6       \u001b[0m | \u001b[0m 0.8852  \u001b[0m | \u001b[0m 0.6045  \u001b[0m | \u001b[0m 13.57   \u001b[0m | \u001b[0m 104.8   \u001b[0m |\n",
      "| \u001b[0m 7       \u001b[0m | \u001b[0m 0.882   \u001b[0m | \u001b[0m 0.7948  \u001b[0m | \u001b[0m 22.3    \u001b[0m | \u001b[0m 227.7   \u001b[0m |\n",
      "| \u001b[95m 8       \u001b[0m | \u001b[95m 0.8926  \u001b[0m | \u001b[95m 0.6532  \u001b[0m | \u001b[95m 3.734   \u001b[0m | \u001b[95m 229.1   \u001b[0m |\n",
      "| \u001b[0m 9       \u001b[0m | \u001b[0m 0.8845  \u001b[0m | \u001b[0m 0.9389  \u001b[0m | \u001b[0m 16.98   \u001b[0m | \u001b[0m 239.0   \u001b[0m |\n",
      "| \u001b[0m 10      \u001b[0m | \u001b[0m 0.8891  \u001b[0m | \u001b[0m 0.8091  \u001b[0m | \u001b[0m 9.287   \u001b[0m | \u001b[0m 298.8   \u001b[0m |\n",
      "| \u001b[0m 11      \u001b[0m | \u001b[0m 0.8897  \u001b[0m | \u001b[0m 0.1087  \u001b[0m | \u001b[0m 2.0     \u001b[0m | \u001b[0m 221.0   \u001b[0m |\n",
      "| \u001b[95m 12      \u001b[0m | \u001b[95m 0.8927  \u001b[0m | \u001b[95m 0.2732  \u001b[0m | \u001b[95m 2.27    \u001b[0m | \u001b[95m 237.1   \u001b[0m |\n",
      "| \u001b[0m 13      \u001b[0m | \u001b[0m 0.8815  \u001b[0m | \u001b[0m 0.4539  \u001b[0m | \u001b[0m 24.97   \u001b[0m | \u001b[0m 320.8   \u001b[0m |\n",
      "| \u001b[95m 14      \u001b[0m | \u001b[95m 0.8932  \u001b[0m | \u001b[95m 0.7603  \u001b[0m | \u001b[95m 2.15    \u001b[0m | \u001b[95m 379.8   \u001b[0m |\n",
      "| \u001b[0m 15      \u001b[0m | \u001b[0m 0.8839  \u001b[0m | \u001b[0m 0.7269  \u001b[0m | \u001b[0m 19.27   \u001b[0m | \u001b[0m 378.9   \u001b[0m |\n",
      "| \u001b[0m 16      \u001b[0m | \u001b[0m 0.8904  \u001b[0m | \u001b[0m 0.1     \u001b[0m | \u001b[0m 2.0     \u001b[0m | \u001b[0m 392.5   \u001b[0m |\n",
      "| \u001b[0m 17      \u001b[0m | \u001b[0m 0.8929  \u001b[0m | \u001b[0m 0.9545  \u001b[0m | \u001b[0m 2.0     \u001b[0m | \u001b[0m 365.2   \u001b[0m |\n",
      "| \u001b[0m 18      \u001b[0m | \u001b[0m 0.8927  \u001b[0m | \u001b[0m 0.999   \u001b[0m | \u001b[0m 2.0     \u001b[0m | \u001b[0m 347.7   \u001b[0m |\n",
      "| \u001b[0m 19      \u001b[0m | \u001b[0m 0.8915  \u001b[0m | \u001b[0m 0.999   \u001b[0m | \u001b[0m 2.0     \u001b[0m | \u001b[0m 149.0   \u001b[0m |\n",
      "| \u001b[0m 20      \u001b[0m | \u001b[0m 0.88    \u001b[0m | \u001b[0m 0.999   \u001b[0m | \u001b[0m 25.0    \u001b[0m | \u001b[0m 147.0   \u001b[0m |\n",
      "| \u001b[0m 21      \u001b[0m | \u001b[0m 0.8889  \u001b[0m | \u001b[0m 0.1     \u001b[0m | \u001b[0m 2.0     \u001b[0m | \u001b[0m 166.7   \u001b[0m |\n",
      "| \u001b[0m 22      \u001b[0m | \u001b[0m 0.8806  \u001b[0m | \u001b[0m 0.1     \u001b[0m | \u001b[0m 14.81   \u001b[0m | \u001b[0m 352.4   \u001b[0m |\n",
      "| \u001b[95m 23      \u001b[0m | \u001b[95m 0.8937  \u001b[0m | \u001b[95m 0.6291  \u001b[0m | \u001b[95m 2.03    \u001b[0m | \u001b[95m 335.8   \u001b[0m |\n",
      "| \u001b[0m 24      \u001b[0m | \u001b[0m 0.8902  \u001b[0m | \u001b[0m 0.1     \u001b[0m | \u001b[0m 2.0     \u001b[0m | \u001b[0m 320.6   \u001b[0m |\n",
      "| \u001b[0m 25      \u001b[0m | \u001b[0m 0.8919  \u001b[0m | \u001b[0m 0.7927  \u001b[0m | \u001b[0m 2.138   \u001b[0m | \u001b[0m 131.2   \u001b[0m |\n",
      "=============================================================\n",
      "Final result: {'target': 0.8936890905601592, 'params': {'max_features': 0.6290617471756622, 'min_samples_split': 2.0301797388381173, 'n_estimators': 335.79265004476065}}\n"
     ]
    }
   ],
   "source": [
    "print((\"--- Optimizing Random Forest ---\"))\n",
    "optimize_rfc(sample_x_train,sample_y_train)"
   ]
  },
  {
   "cell_type": "code",
   "execution_count": 70,
   "metadata": {
    "execution": {
     "iopub.execute_input": "2020-12-13T05:05:12.649426Z",
     "iopub.status.busy": "2020-12-13T05:05:12.648716Z",
     "iopub.status.idle": "2020-12-13T05:05:12.652990Z",
     "shell.execute_reply": "2020-12-13T05:05:12.651413Z"
    },
    "papermill": {
     "duration": 0.171096,
     "end_time": "2020-12-13T05:05:12.653136",
     "exception": false,
     "start_time": "2020-12-13T05:05:12.482040",
     "status": "completed"
    },
    "tags": []
   },
   "outputs": [],
   "source": [
    "rfc = RandomForestClassifier(n_estimators = int(423.1587542796294),\n",
    "                           min_samples_split=int(2.0238217007431984),\n",
    "                           max_features = 0.49606210177152577,\n",
    "                           n_jobs = -1, \n",
    "                           random_state = 2)"
   ]
  },
  {
   "cell_type": "code",
   "execution_count": 71,
   "metadata": {
    "execution": {
     "iopub.execute_input": "2020-12-13T05:05:12.936152Z",
     "iopub.status.busy": "2020-12-13T05:05:12.934447Z",
     "iopub.status.idle": "2020-12-13T05:05:12.936917Z",
     "shell.execute_reply": "2020-12-13T05:05:12.937513Z"
    },
    "papermill": {
     "duration": 0.14798,
     "end_time": "2020-12-13T05:05:12.937671",
     "exception": false,
     "start_time": "2020-12-13T05:05:12.789691",
     "status": "completed"
    },
    "tags": []
   },
   "outputs": [],
   "source": [
    "#Hyperparameter tuning of XGBoostClassification using Bayesian optimization\n",
    "\n",
    "def xgb_cv(n_estimators, max_depth, gamma, min_child_weight, subsample, data, targets):\n",
    "    estimator = XGBClassifier(\n",
    "        n_estimators=n_estimators,\n",
    "        max_depth = max_depth,\n",
    "        gamma = gamma,\n",
    "        min_child_weight=min_child_weight,\n",
    "        subsample = subsample,\n",
    "        random_state = 2,\n",
    "    )\n",
    "    cval = cross_val_score(estimator, data, targets,\n",
    "                           scoring='roc_auc', cv=3)\n",
    "    return cval.mean()"
   ]
  },
  {
   "cell_type": "code",
   "execution_count": 72,
   "metadata": {
    "execution": {
     "iopub.execute_input": "2020-12-13T05:05:13.226577Z",
     "iopub.status.busy": "2020-12-13T05:05:13.224158Z",
     "iopub.status.idle": "2020-12-13T05:05:13.229804Z",
     "shell.execute_reply": "2020-12-13T05:05:13.229221Z"
    },
    "papermill": {
     "duration": 0.150678,
     "end_time": "2020-12-13T05:05:13.229926",
     "exception": false,
     "start_time": "2020-12-13T05:05:13.079248",
     "status": "completed"
    },
    "tags": []
   },
   "outputs": [],
   "source": [
    "def optimize_xgb(data, targets):\n",
    "    def xgb_crossval(n_estimators, max_depth, gamma, min_child_weight, subsample):\n",
    "        return xgb_cv(\n",
    "            n_estimators=int(n_estimators),\n",
    "            max_depth = int(max_depth),\n",
    "            gamma = gamma,\n",
    "            min_child_weight=min_child_weight,\n",
    "            subsample=subsample,\n",
    "            data=data,\n",
    "            targets=targets,\n",
    "        )\n",
    "\n",
    "    optimizer = BayesianOptimization(\n",
    "        f=xgb_crossval,\n",
    "        pbounds={\n",
    "            \"n_estimators\": (200, 500),\n",
    "            \"max_depth\": (6,15),\n",
    "            \"gamma\": (0,10),\n",
    "            \"min_child_weight\": (0,10),\n",
    "            \"subsample\": (0.8,1.0)\n",
    "        },\n",
    "        random_state=1234,\n",
    "        verbose=2\n",
    "    )\n",
    "    optimizer.maximize(n_iter=5, init_points=20)\n",
    "\n",
    "    print(\"Final result:\", optimizer.max)"
   ]
  },
  {
   "cell_type": "code",
   "execution_count": 73,
   "metadata": {
    "execution": {
     "iopub.execute_input": "2020-12-13T05:05:13.517171Z",
     "iopub.status.busy": "2020-12-13T05:05:13.516431Z",
     "iopub.status.idle": "2020-12-13T05:53:48.100566Z",
     "shell.execute_reply": "2020-12-13T05:53:48.101509Z"
    },
    "papermill": {
     "duration": 2914.735635,
     "end_time": "2020-12-13T05:53:48.101739",
     "exception": false,
     "start_time": "2020-12-13T05:05:13.366104",
     "status": "completed"
    },
    "tags": []
   },
   "outputs": [
    {
     "name": "stdout",
     "output_type": "stream",
     "text": [
      "--- Optimizing XGBoost ---\n",
      "|   iter    |  target   |   gamma   | max_depth | min_ch... | n_esti... | subsample |\n",
      "-------------------------------------------------------------------------------------\n",
      "| \u001b[0m 1       \u001b[0m | \u001b[0m 0.867   \u001b[0m | \u001b[0m 1.915   \u001b[0m | \u001b[0m 11.6    \u001b[0m | \u001b[0m 4.377   \u001b[0m | \u001b[0m 435.6   \u001b[0m | \u001b[0m 0.956   \u001b[0m |\n",
      "| \u001b[0m 2       \u001b[0m | \u001b[0m 0.8627  \u001b[0m | \u001b[0m 2.726   \u001b[0m | \u001b[0m 8.488   \u001b[0m | \u001b[0m 8.019   \u001b[0m | \u001b[0m 487.4   \u001b[0m | \u001b[0m 0.9752  \u001b[0m |\n",
      "| \u001b[0m 3       \u001b[0m | \u001b[0m 0.8626  \u001b[0m | \u001b[0m 3.578   \u001b[0m | \u001b[0m 10.51   \u001b[0m | \u001b[0m 6.835   \u001b[0m | \u001b[0m 413.8   \u001b[0m | \u001b[0m 0.8741  \u001b[0m |\n",
      "| \u001b[0m 4       \u001b[0m | \u001b[0m 0.8653  \u001b[0m | \u001b[0m 5.612   \u001b[0m | \u001b[0m 10.53   \u001b[0m | \u001b[0m 0.1377  \u001b[0m | \u001b[0m 431.8   \u001b[0m | \u001b[0m 0.9765  \u001b[0m |\n",
      "| \u001b[95m 5       \u001b[0m | \u001b[95m 0.8681  \u001b[0m | \u001b[95m 3.649   \u001b[0m | \u001b[95m 11.54   \u001b[0m | \u001b[95m 0.7538  \u001b[0m | \u001b[95m 310.6   \u001b[0m | \u001b[95m 0.9866  \u001b[0m |\n",
      "| \u001b[0m 6       \u001b[0m | \u001b[0m 0.8587  \u001b[0m | \u001b[0m 6.514   \u001b[0m | \u001b[0m 9.575   \u001b[0m | \u001b[0m 7.887   \u001b[0m | \u001b[0m 295.1   \u001b[0m | \u001b[0m 0.9136  \u001b[0m |\n",
      "| \u001b[0m 7       \u001b[0m | \u001b[0m 0.8576  \u001b[0m | \u001b[0m 8.691   \u001b[0m | \u001b[0m 9.926   \u001b[0m | \u001b[0m 8.021   \u001b[0m | \u001b[0m 243.1   \u001b[0m | \u001b[0m 0.9409  \u001b[0m |\n",
      "| \u001b[0m 8       \u001b[0m | \u001b[0m 0.8582  \u001b[0m | \u001b[0m 7.046   \u001b[0m | \u001b[0m 7.969   \u001b[0m | \u001b[0m 9.249   \u001b[0m | \u001b[0m 332.6   \u001b[0m | \u001b[0m 0.9819  \u001b[0m |\n",
      "| \u001b[95m 9       \u001b[0m | \u001b[95m 0.87    \u001b[0m | \u001b[95m 0.5981  \u001b[0m | \u001b[95m 7.659   \u001b[0m | \u001b[95m 0.4736  \u001b[0m | \u001b[95m 402.5   \u001b[0m | \u001b[95m 0.9189  \u001b[0m |\n",
      "| \u001b[0m 10      \u001b[0m | \u001b[0m 0.8588  \u001b[0m | \u001b[0m 5.333   \u001b[0m | \u001b[0m 6.39    \u001b[0m | \u001b[0m 5.614   \u001b[0m | \u001b[0m 298.9   \u001b[0m | \u001b[0m 0.9006  \u001b[0m |\n",
      "| \u001b[0m 11      \u001b[0m | \u001b[0m 0.8666  \u001b[0m | \u001b[0m 1.119   \u001b[0m | \u001b[0m 11.46   \u001b[0m | \u001b[0m 5.659   \u001b[0m | \u001b[0m 202.0   \u001b[0m | \u001b[0m 0.9235  \u001b[0m |\n",
      "| \u001b[0m 12      \u001b[0m | \u001b[0m 0.8597  \u001b[0m | \u001b[0m 9.121   \u001b[0m | \u001b[0m 13.11   \u001b[0m | \u001b[0m 9.921   \u001b[0m | \u001b[0m 487.6   \u001b[0m | \u001b[0m 0.9584  \u001b[0m |\n",
      "| \u001b[0m 13      \u001b[0m | \u001b[0m 0.8649  \u001b[0m | \u001b[0m 2.853   \u001b[0m | \u001b[0m 11.62   \u001b[0m | \u001b[0m 4.781   \u001b[0m | \u001b[0m 258.7   \u001b[0m | \u001b[0m 0.8765  \u001b[0m |\n",
      "| \u001b[0m 14      \u001b[0m | \u001b[0m 0.8625  \u001b[0m | \u001b[0m 0.5387  \u001b[0m | \u001b[0m 10.06   \u001b[0m | \u001b[0m 9.82    \u001b[0m | \u001b[0m 237.2   \u001b[0m | \u001b[0m 0.8239  \u001b[0m |\n",
      "| \u001b[0m 15      \u001b[0m | \u001b[0m 0.8598  \u001b[0m | \u001b[0m 7.385   \u001b[0m | \u001b[0m 11.29   \u001b[0m | \u001b[0m 4.716   \u001b[0m | \u001b[0m 232.1   \u001b[0m | \u001b[0m 0.8458  \u001b[0m |\n",
      "| \u001b[0m 16      \u001b[0m | \u001b[0m 0.8583  \u001b[0m | \u001b[0m 9.0     \u001b[0m | \u001b[0m 9.751   \u001b[0m | \u001b[0m 5.359   \u001b[0m | \u001b[0m 201.9   \u001b[0m | \u001b[0m 0.8601  \u001b[0m |\n",
      "| \u001b[0m 17      \u001b[0m | \u001b[0m 0.8623  \u001b[0m | \u001b[0m 4.369   \u001b[0m | \u001b[0m 11.51   \u001b[0m | \u001b[0m 9.182   \u001b[0m | \u001b[0m 387.7   \u001b[0m | \u001b[0m 0.9412  \u001b[0m |\n",
      "| \u001b[0m 18      \u001b[0m | \u001b[0m 0.8657  \u001b[0m | \u001b[0m 1.498   \u001b[0m | \u001b[0m 12.71   \u001b[0m | \u001b[0m 8.31    \u001b[0m | \u001b[0m 390.1   \u001b[0m | \u001b[0m 0.8877  \u001b[0m |\n",
      "| \u001b[0m 19      \u001b[0m | \u001b[0m 0.8664  \u001b[0m | \u001b[0m 1.526   \u001b[0m | \u001b[0m 11.12   \u001b[0m | \u001b[0m 5.282   \u001b[0m | \u001b[0m 485.4   \u001b[0m | \u001b[0m 0.8961  \u001b[0m |\n",
      "| \u001b[0m 20      \u001b[0m | \u001b[0m 0.8608  \u001b[0m | \u001b[0m 5.026   \u001b[0m | \u001b[0m 10.83   \u001b[0m | \u001b[0m 8.192   \u001b[0m | \u001b[0m 217.1   \u001b[0m | \u001b[0m 0.9339  \u001b[0m |\n",
      "| \u001b[0m 21      \u001b[0m | \u001b[0m 0.8587  \u001b[0m | \u001b[0m 5.153   \u001b[0m | \u001b[0m 7.633   \u001b[0m | \u001b[0m 3.77    \u001b[0m | \u001b[0m 222.8   \u001b[0m | \u001b[0m 0.8525  \u001b[0m |\n",
      "| \u001b[0m 22      \u001b[0m | \u001b[0m 0.8688  \u001b[0m | \u001b[0m 0.5176  \u001b[0m | \u001b[0m 9.604   \u001b[0m | \u001b[0m 2.931   \u001b[0m | \u001b[0m 398.7   \u001b[0m | \u001b[0m 0.9394  \u001b[0m |\n",
      "| \u001b[0m 23      \u001b[0m | \u001b[0m 0.8596  \u001b[0m | \u001b[0m 5.514   \u001b[0m | \u001b[0m 6.0     \u001b[0m | \u001b[0m 0.0     \u001b[0m | \u001b[0m 400.0   \u001b[0m | \u001b[0m 0.8     \u001b[0m |\n",
      "| \u001b[95m 24      \u001b[0m | \u001b[95m 0.8718  \u001b[0m | \u001b[95m 0.0     \u001b[0m | \u001b[95m 10.51   \u001b[0m | \u001b[95m 2.344   \u001b[0m | \u001b[95m 402.8   \u001b[0m | \u001b[95m 1.0     \u001b[0m |\n",
      "| \u001b[95m 25      \u001b[0m | \u001b[95m 0.8741  \u001b[0m | \u001b[95m 0.1027  \u001b[0m | \u001b[95m 13.79   \u001b[0m | \u001b[95m 0.3261  \u001b[0m | \u001b[95m 399.9   \u001b[0m | \u001b[95m 0.8185  \u001b[0m |\n",
      "=====================================================================================\n",
      "Final result: {'target': 0.8741453684468485, 'params': {'gamma': 0.10267293137504852, 'max_depth': 13.787765400993287, 'min_child_weight': 0.32614748423714035, 'n_estimators': 399.8838318438175, 'subsample': 0.8184588028819323}}\n"
     ]
    }
   ],
   "source": [
    "print((\"--- Optimizing XGBoost ---\"))\n",
    "optimize_xgb(sample_x_train,sample_y_train)"
   ]
  },
  {
   "cell_type": "code",
   "execution_count": 74,
   "metadata": {
    "execution": {
     "iopub.execute_input": "2020-12-13T05:53:48.405004Z",
     "iopub.status.busy": "2020-12-13T05:53:48.403878Z",
     "iopub.status.idle": "2020-12-13T05:53:48.406754Z",
     "shell.execute_reply": "2020-12-13T05:53:48.407398Z"
    },
    "papermill": {
     "duration": 0.155694,
     "end_time": "2020-12-13T05:53:48.407548",
     "exception": false,
     "start_time": "2020-12-13T05:53:48.251854",
     "status": "completed"
    },
    "tags": []
   },
   "outputs": [],
   "source": [
    "xgb = XGBClassifier(\n",
    "        n_estimators=int(399.8838318438175),\n",
    "        max_depth = int(13.787765400993287),\n",
    "        gamma = 0.10267293137504852,\n",
    "        min_child_weight=0.32614748423714035,\n",
    "        subsample = 0.8184588028819323,\n",
    "        random_state = 2,\n",
    "    )"
   ]
  },
  {
   "cell_type": "code",
   "execution_count": 75,
   "metadata": {
    "execution": {
     "iopub.execute_input": "2020-12-13T05:53:48.701464Z",
     "iopub.status.busy": "2020-12-13T05:53:48.700692Z",
     "iopub.status.idle": "2020-12-13T05:53:48.710250Z",
     "shell.execute_reply": "2020-12-13T05:53:48.709509Z"
    },
    "papermill": {
     "duration": 0.157471,
     "end_time": "2020-12-13T05:53:48.710377",
     "exception": false,
     "start_time": "2020-12-13T05:53:48.552906",
     "status": "completed"
    },
    "tags": []
   },
   "outputs": [],
   "source": [
    "#Hyperparameter tuning of XGBoost RandomForest Classifier using Bayesian optimization\n",
    "\n",
    "def xgb_cv(n_estimators, max_depth, gamma, min_child_weight, subsample, data, targets):\n",
    "    estimator = XGBRFClassifier(\n",
    "        n_estimators=n_estimators,\n",
    "        max_depth = max_depth,\n",
    "        gamma = gamma,\n",
    "        min_child_weight=min_child_weight,\n",
    "        subsample = subsample,\n",
    "        random_state = 2,\n",
    "    )\n",
    "    cval = cross_val_score(estimator, data, targets,\n",
    "                           scoring='roc_auc', cv=3)\n",
    "    return cval.mean()"
   ]
  },
  {
   "cell_type": "code",
   "execution_count": 76,
   "metadata": {
    "execution": {
     "iopub.execute_input": "2020-12-13T05:53:49.019280Z",
     "iopub.status.busy": "2020-12-13T05:53:49.018290Z",
     "iopub.status.idle": "2020-12-13T05:53:49.021693Z",
     "shell.execute_reply": "2020-12-13T05:53:49.021069Z"
    },
    "papermill": {
     "duration": 0.163604,
     "end_time": "2020-12-13T05:53:49.021830",
     "exception": false,
     "start_time": "2020-12-13T05:53:48.858226",
     "status": "completed"
    },
    "tags": []
   },
   "outputs": [],
   "source": [
    "def optimize_xgb(data, targets):\n",
    "    def xgb_crossval(n_estimators, max_depth, gamma, min_child_weight, subsample):\n",
    "        return xgb_cv(\n",
    "            n_estimators=int(n_estimators),\n",
    "            max_depth = int(max_depth),\n",
    "            gamma = gamma,\n",
    "            min_child_weight=min_child_weight,\n",
    "            subsample=subsample,\n",
    "            data=data,\n",
    "            targets=targets,\n",
    "        )\n",
    "\n",
    "    optimizer = BayesianOptimization(\n",
    "        f=xgb_crossval,\n",
    "        pbounds={\n",
    "            \"n_estimators\": (200, 500),\n",
    "            \"max_depth\": (6,15),\n",
    "            \"gamma\": (0,10),\n",
    "            \"min_child_weight\": (0,10),\n",
    "            \"subsample\": (0.8,1.0)\n",
    "        },\n",
    "        random_state=1234,\n",
    "        verbose=2\n",
    "    )\n",
    "    optimizer.maximize(n_iter=5, init_points=20)\n",
    "\n",
    "    print(\"Final result:\", optimizer.max)"
   ]
  },
  {
   "cell_type": "code",
   "execution_count": 77,
   "metadata": {
    "execution": {
     "iopub.execute_input": "2020-12-13T05:53:49.331277Z",
     "iopub.status.busy": "2020-12-13T05:53:49.330125Z",
     "iopub.status.idle": "2020-12-13T06:42:57.455036Z",
     "shell.execute_reply": "2020-12-13T06:42:57.455642Z"
    },
    "papermill": {
     "duration": 2948.28628,
     "end_time": "2020-12-13T06:42:57.455827",
     "exception": false,
     "start_time": "2020-12-13T05:53:49.169547",
     "status": "completed"
    },
    "tags": []
   },
   "outputs": [
    {
     "name": "stdout",
     "output_type": "stream",
     "text": [
      "--- Optimizing XGBoost RandomForest ---\n",
      "|   iter    |  target   |   gamma   | max_depth | min_ch... | n_esti... | subsample |\n",
      "-------------------------------------------------------------------------------------\n",
      "| \u001b[0m 1       \u001b[0m | \u001b[0m 0.8561  \u001b[0m | \u001b[0m 1.915   \u001b[0m | \u001b[0m 11.6    \u001b[0m | \u001b[0m 4.377   \u001b[0m | \u001b[0m 435.6   \u001b[0m | \u001b[0m 0.956   \u001b[0m |\n",
      "| \u001b[0m 2       \u001b[0m | \u001b[0m 0.8534  \u001b[0m | \u001b[0m 2.726   \u001b[0m | \u001b[0m 8.488   \u001b[0m | \u001b[0m 8.019   \u001b[0m | \u001b[0m 487.4   \u001b[0m | \u001b[0m 0.9752  \u001b[0m |\n",
      "| \u001b[0m 3       \u001b[0m | \u001b[0m 0.8554  \u001b[0m | \u001b[0m 3.578   \u001b[0m | \u001b[0m 10.51   \u001b[0m | \u001b[0m 6.835   \u001b[0m | \u001b[0m 413.8   \u001b[0m | \u001b[0m 0.8741  \u001b[0m |\n",
      "| \u001b[0m 4       \u001b[0m | \u001b[0m 0.8547  \u001b[0m | \u001b[0m 5.612   \u001b[0m | \u001b[0m 10.53   \u001b[0m | \u001b[0m 0.1377  \u001b[0m | \u001b[0m 431.8   \u001b[0m | \u001b[0m 0.9765  \u001b[0m |\n",
      "| \u001b[0m 5       \u001b[0m | \u001b[0m 0.856   \u001b[0m | \u001b[0m 3.649   \u001b[0m | \u001b[0m 11.54   \u001b[0m | \u001b[0m 0.7538  \u001b[0m | \u001b[0m 310.6   \u001b[0m | \u001b[0m 0.9866  \u001b[0m |\n",
      "| \u001b[0m 6       \u001b[0m | \u001b[0m 0.8537  \u001b[0m | \u001b[0m 6.514   \u001b[0m | \u001b[0m 9.575   \u001b[0m | \u001b[0m 7.887   \u001b[0m | \u001b[0m 295.1   \u001b[0m | \u001b[0m 0.9136  \u001b[0m |\n",
      "| \u001b[0m 7       \u001b[0m | \u001b[0m 0.853   \u001b[0m | \u001b[0m 8.691   \u001b[0m | \u001b[0m 9.926   \u001b[0m | \u001b[0m 8.021   \u001b[0m | \u001b[0m 243.1   \u001b[0m | \u001b[0m 0.9409  \u001b[0m |\n",
      "| \u001b[0m 8       \u001b[0m | \u001b[0m 0.852   \u001b[0m | \u001b[0m 7.046   \u001b[0m | \u001b[0m 7.969   \u001b[0m | \u001b[0m 9.249   \u001b[0m | \u001b[0m 332.6   \u001b[0m | \u001b[0m 0.9819  \u001b[0m |\n",
      "| \u001b[0m 9       \u001b[0m | \u001b[0m 0.8529  \u001b[0m | \u001b[0m 0.5981  \u001b[0m | \u001b[0m 7.659   \u001b[0m | \u001b[0m 0.4736  \u001b[0m | \u001b[0m 402.5   \u001b[0m | \u001b[0m 0.9189  \u001b[0m |\n",
      "| \u001b[0m 10      \u001b[0m | \u001b[0m 0.8523  \u001b[0m | \u001b[0m 5.333   \u001b[0m | \u001b[0m 6.39    \u001b[0m | \u001b[0m 5.614   \u001b[0m | \u001b[0m 298.9   \u001b[0m | \u001b[0m 0.9006  \u001b[0m |\n",
      "| \u001b[95m 11      \u001b[0m | \u001b[95m 0.8565  \u001b[0m | \u001b[95m 1.119   \u001b[0m | \u001b[95m 11.46   \u001b[0m | \u001b[95m 5.659   \u001b[0m | \u001b[95m 202.0   \u001b[0m | \u001b[95m 0.9235  \u001b[0m |\n",
      "| \u001b[0m 12      \u001b[0m | \u001b[0m 0.8538  \u001b[0m | \u001b[0m 9.121   \u001b[0m | \u001b[0m 13.11   \u001b[0m | \u001b[0m 9.921   \u001b[0m | \u001b[0m 487.6   \u001b[0m | \u001b[0m 0.9584  \u001b[0m |\n",
      "| \u001b[95m 13      \u001b[0m | \u001b[95m 0.8567  \u001b[0m | \u001b[95m 2.853   \u001b[0m | \u001b[95m 11.62   \u001b[0m | \u001b[95m 4.781   \u001b[0m | \u001b[95m 258.7   \u001b[0m | \u001b[95m 0.8765  \u001b[0m |\n",
      "| \u001b[0m 14      \u001b[0m | \u001b[0m 0.856   \u001b[0m | \u001b[0m 0.5387  \u001b[0m | \u001b[0m 10.06   \u001b[0m | \u001b[0m 9.82    \u001b[0m | \u001b[0m 237.2   \u001b[0m | \u001b[0m 0.8239  \u001b[0m |\n",
      "| \u001b[0m 15      \u001b[0m | \u001b[0m 0.855   \u001b[0m | \u001b[0m 7.385   \u001b[0m | \u001b[0m 11.29   \u001b[0m | \u001b[0m 4.716   \u001b[0m | \u001b[0m 232.1   \u001b[0m | \u001b[0m 0.8458  \u001b[0m |\n",
      "| \u001b[0m 16      \u001b[0m | \u001b[0m 0.8533  \u001b[0m | \u001b[0m 9.0     \u001b[0m | \u001b[0m 9.751   \u001b[0m | \u001b[0m 5.359   \u001b[0m | \u001b[0m 201.9   \u001b[0m | \u001b[0m 0.8601  \u001b[0m |\n",
      "| \u001b[0m 17      \u001b[0m | \u001b[0m 0.8551  \u001b[0m | \u001b[0m 4.369   \u001b[0m | \u001b[0m 11.51   \u001b[0m | \u001b[0m 9.182   \u001b[0m | \u001b[0m 387.7   \u001b[0m | \u001b[0m 0.9412  \u001b[0m |\n",
      "| \u001b[95m 18      \u001b[0m | \u001b[95m 0.8573  \u001b[0m | \u001b[95m 1.498   \u001b[0m | \u001b[95m 12.71   \u001b[0m | \u001b[95m 8.31    \u001b[0m | \u001b[95m 390.1   \u001b[0m | \u001b[95m 0.8877  \u001b[0m |\n",
      "| \u001b[0m 19      \u001b[0m | \u001b[0m 0.8568  \u001b[0m | \u001b[0m 1.526   \u001b[0m | \u001b[0m 11.12   \u001b[0m | \u001b[0m 5.282   \u001b[0m | \u001b[0m 485.4   \u001b[0m | \u001b[0m 0.8961  \u001b[0m |\n",
      "| \u001b[0m 20      \u001b[0m | \u001b[0m 0.8546  \u001b[0m | \u001b[0m 5.026   \u001b[0m | \u001b[0m 10.83   \u001b[0m | \u001b[0m 8.192   \u001b[0m | \u001b[0m 217.1   \u001b[0m | \u001b[0m 0.9339  \u001b[0m |\n",
      "| \u001b[95m 21      \u001b[0m | \u001b[95m 0.8576  \u001b[0m | \u001b[95m 2.233   \u001b[0m | \u001b[95m 13.47   \u001b[0m | \u001b[95m 7.378   \u001b[0m | \u001b[95m 389.2   \u001b[0m | \u001b[95m 0.9498  \u001b[0m |\n",
      "| \u001b[95m 22      \u001b[0m | \u001b[95m 0.8589  \u001b[0m | \u001b[95m 0.1507  \u001b[0m | \u001b[95m 14.97   \u001b[0m | \u001b[95m 8.359   \u001b[0m | \u001b[95m 389.5   \u001b[0m | \u001b[95m 0.9184  \u001b[0m |\n",
      "| \u001b[0m 23      \u001b[0m | \u001b[0m 0.8586  \u001b[0m | \u001b[0m 0.3384  \u001b[0m | \u001b[0m 13.65   \u001b[0m | \u001b[0m 8.4     \u001b[0m | \u001b[0m 385.5   \u001b[0m | \u001b[0m 0.8432  \u001b[0m |\n",
      "| \u001b[95m 24      \u001b[0m | \u001b[95m 0.8614  \u001b[0m | \u001b[95m 1.533   \u001b[0m | \u001b[95m 14.7    \u001b[0m | \u001b[95m 3.236   \u001b[0m | \u001b[95m 386.3   \u001b[0m | \u001b[95m 0.9247  \u001b[0m |\n",
      "| \u001b[95m 25      \u001b[0m | \u001b[95m 0.8663  \u001b[0m | \u001b[95m 0.0     \u001b[0m | \u001b[95m 15.0    \u001b[0m | \u001b[95m 1.654   \u001b[0m | \u001b[95m 383.4   \u001b[0m | \u001b[95m 0.8     \u001b[0m |\n",
      "=====================================================================================\n",
      "Final result: {'target': 0.8663303071906561, 'params': {'gamma': 0.0, 'max_depth': 15.0, 'min_child_weight': 1.6542457263238466, 'n_estimators': 383.4270643276214, 'subsample': 0.8}}\n"
     ]
    }
   ],
   "source": [
    "print((\"--- Optimizing XGBoost RandomForest ---\"))\n",
    "optimize_xgb(sample_x_train,sample_y_train)"
   ]
  },
  {
   "cell_type": "code",
   "execution_count": 78,
   "metadata": {
    "execution": {
     "iopub.execute_input": "2020-12-13T06:42:57.777268Z",
     "iopub.status.busy": "2020-12-13T06:42:57.775912Z",
     "iopub.status.idle": "2020-12-13T06:42:57.779619Z",
     "shell.execute_reply": "2020-12-13T06:42:57.778950Z"
    },
    "papermill": {
     "duration": 0.166663,
     "end_time": "2020-12-13T06:42:57.779762",
     "exception": false,
     "start_time": "2020-12-13T06:42:57.613099",
     "status": "completed"
    },
    "tags": []
   },
   "outputs": [],
   "source": [
    "xgbrf = XGBRFClassifier(\n",
    "        n_estimators=int(383.4270643276214),\n",
    "        max_depth = int(15.0),\n",
    "        gamma = 0.0,\n",
    "        min_child_weight=1.6542457263238466,\n",
    "        subsample = 0.8,\n",
    "        random_state = 2,\n",
    "    )"
   ]
  },
  {
   "cell_type": "code",
   "execution_count": 79,
   "metadata": {
    "execution": {
     "iopub.execute_input": "2020-12-13T06:42:58.110049Z",
     "iopub.status.busy": "2020-12-13T06:42:58.108922Z",
     "iopub.status.idle": "2020-12-13T08:34:53.131728Z",
     "shell.execute_reply": "2020-12-13T08:34:53.127249Z"
    },
    "papermill": {
     "duration": 6715.19772,
     "end_time": "2020-12-13T08:34:53.132117",
     "exception": false,
     "start_time": "2020-12-13T06:42:57.934397",
     "status": "completed"
    },
    "tags": []
   },
   "outputs": [
    {
     "data": {
      "application/vnd.jupyter.widget-view+json": {
       "model_id": "9dc6e94aae354bfd917281f5e3713cc5",
       "version_major": 2,
       "version_minor": 0
      },
      "text/plain": [
       "HBox(children=(FloatProgress(value=0.0, max=1.0), HTML(value='')))"
      ]
     },
     "metadata": {},
     "output_type": "display_data"
    },
    {
     "name": "stdout",
     "output_type": "stream",
     "text": [
      " \n",
      "####################################################################################################\n",
      "Seed 1\n",
      "Fold 0\n",
      " rows of train = 228665 rows of holdout = 152444\n",
      "StackingClassifier Val OF AUC= 0.8523433710744757\n",
      "####################################################################################################\n",
      "Fold 1\n",
      " rows of train = 228665 rows of holdout = 152444\n",
      "StackingClassifier Val OF AUC= 0.8521960006559611\n",
      "####################################################################################################\n",
      "\n"
     ]
    }
   ],
   "source": [
    "estimators = [('rfc' , rfc),('xgb',xgb),('xgbrf',xgbrf)]\n",
    "#model = StackingClassifier(estimators=estimators)\n",
    "\n",
    "from tqdm.notebook import tqdm ,tnrange\n",
    "pred_test = np.zeros(shape=(len(test),))\n",
    "\n",
    "scores = []\n",
    "\n",
    "avg_loss = []\n",
    "\n",
    "test_size = 0.4\n",
    "\n",
    "X_train_cv,y_train_cv = X.copy(), Y.copy()\n",
    "\n",
    "seeds = [1]\n",
    "\n",
    "for seed in tnrange(len(seeds)):\n",
    "    \n",
    "    print(' ')\n",
    "    \n",
    "    print('#'*100)\n",
    "    \n",
    "    print('Seed',seeds[seed])\n",
    "    \n",
    "    sssf = StratifiedShuffleSplit(n_splits=2, test_size = test_size ,random_state=seed)\n",
    "    \n",
    "    for i, (idxT, idxV) in enumerate(sssf.split(X_train_cv, y_train_cv)):\n",
    "\n",
    "        print('Fold',i)\n",
    "\n",
    "        print(' rows of train =',len(idxT),'rows of holdout =',len(idxV))\n",
    "\n",
    "        clf = StackingClassifier(estimators=estimators)        \n",
    "\n",
    "\n",
    "        h = clf.fit(X_train_cv.iloc[idxT], y_train_cv.iloc[idxT])\n",
    "        \n",
    "        pred_train = clf.predict_proba(X_train_cv.iloc[idxV])[:,1]\n",
    "        \n",
    "        pred_test +=clf.predict_proba(test)[:,1]\n",
    "\n",
    "        roc = roc_auc_score(y_train_cv.iloc[idxV],pred_train)\n",
    "\n",
    "        scores.append(roc)\n",
    "        \n",
    "        #avg_loss.append(clf.best_score)\n",
    "\n",
    "        print ('StackingClassifier Val OF AUC=',roc)\n",
    "\n",
    "        print('#'*100)\n",
    "\n",
    "       "
   ]
  },
  {
   "cell_type": "code",
   "execution_count": 80,
   "metadata": {
    "execution": {
     "iopub.execute_input": "2020-12-13T08:34:53.462533Z",
     "iopub.status.busy": "2020-12-13T08:34:53.461191Z",
     "iopub.status.idle": "2020-12-13T08:34:53.470605Z",
     "shell.execute_reply": "2020-12-13T08:34:53.469983Z"
    },
    "papermill": {
     "duration": 0.180206,
     "end_time": "2020-12-13T08:34:53.470741",
     "exception": false,
     "start_time": "2020-12-13T08:34:53.290535",
     "status": "completed"
    },
    "tags": []
   },
   "outputs": [],
   "source": [
    "ss['Response'] = pred_test"
   ]
  },
  {
   "cell_type": "code",
   "execution_count": 81,
   "metadata": {
    "execution": {
     "iopub.execute_input": "2020-12-13T08:34:53.790603Z",
     "iopub.status.busy": "2020-12-13T08:34:53.789910Z",
     "iopub.status.idle": "2020-12-13T08:34:54.813268Z",
     "shell.execute_reply": "2020-12-13T08:34:54.813865Z"
    },
    "papermill": {
     "duration": 1.186944,
     "end_time": "2020-12-13T08:34:54.814058",
     "exception": false,
     "start_time": "2020-12-13T08:34:53.627114",
     "status": "completed"
    },
    "tags": []
   },
   "outputs": [],
   "source": [
    "ss.to_csv(\"Stackingclassifier_Submission.csv\", index = False)"
   ]
  },
  {
   "cell_type": "markdown",
   "metadata": {
    "papermill": {
     "duration": 0.15634,
     "end_time": "2020-12-13T08:34:55.292200",
     "exception": false,
     "start_time": "2020-12-13T08:34:55.135860",
     "status": "completed"
    },
    "tags": []
   },
   "source": [
    "Additional Work with CatBoostClassifier"
   ]
  },
  {
   "cell_type": "code",
   "execution_count": 82,
   "metadata": {
    "execution": {
     "iopub.execute_input": "2020-12-13T08:34:55.613883Z",
     "iopub.status.busy": "2020-12-13T08:34:55.613128Z",
     "iopub.status.idle": "2020-12-13T09:02:36.885899Z",
     "shell.execute_reply": "2020-12-13T09:02:36.885260Z"
    },
    "papermill": {
     "duration": 1661.433145,
     "end_time": "2020-12-13T09:02:36.886097",
     "exception": false,
     "start_time": "2020-12-13T08:34:55.452952",
     "status": "completed"
    },
    "tags": []
   },
   "outputs": [
    {
     "name": "stdout",
     "output_type": "stream",
     "text": [
      "\n",
      "Fold: 1\n",
      "\n",
      "0:\tlearn: 0.6739625\ttest: 0.6739727\tbest: 0.6739727 (0)\ttotal: 303ms\tremaining: 5m 2s\n",
      "100:\tlearn: 0.4240648\ttest: 0.4255860\tbest: 0.4255860 (100)\ttotal: 21.4s\tremaining: 3m 10s\n",
      "200:\tlearn: 0.4199355\ttest: 0.4223885\tbest: 0.4223885 (200)\ttotal: 43.1s\tremaining: 2m 51s\n",
      "300:\tlearn: 0.4179895\ttest: 0.4211883\tbest: 0.4211883 (300)\ttotal: 1m 3s\tremaining: 2m 26s\n",
      "400:\tlearn: 0.4166173\ttest: 0.4206433\tbest: 0.4206433 (400)\ttotal: 1m 23s\tremaining: 2m 5s\n",
      "500:\tlearn: 0.4148619\ttest: 0.4201654\tbest: 0.4201654 (500)\ttotal: 1m 46s\tremaining: 1m 45s\n",
      "600:\tlearn: 0.4131971\ttest: 0.4199980\tbest: 0.4199912 (594)\ttotal: 2m 7s\tremaining: 1m 24s\n",
      "Stopped by overfitting detector  (30 iterations wait)\n",
      "\n",
      "bestTest = 0.4199912074\n",
      "bestIteration = 594\n",
      "\n",
      "Shrink model to first 595 iterations.\n",
      "Test ROC AUC for model 1: 0.8604\n",
      "0:\tlearn: 0.6677952\ttest: 0.6678097\tbest: 0.6678097 (0)\ttotal: 238ms\tremaining: 3m 57s\n",
      "100:\tlearn: 0.4224602\ttest: 0.4242563\tbest: 0.4242563 (100)\ttotal: 21.5s\tremaining: 3m 11s\n",
      "200:\tlearn: 0.4185661\ttest: 0.4214943\tbest: 0.4214943 (200)\ttotal: 42.3s\tremaining: 2m 48s\n",
      "300:\tlearn: 0.4164864\ttest: 0.4206014\tbest: 0.4206014 (300)\ttotal: 1m 3s\tremaining: 2m 26s\n",
      "400:\tlearn: 0.4141853\ttest: 0.4202210\tbest: 0.4202210 (400)\ttotal: 1m 25s\tremaining: 2m 7s\n",
      "500:\tlearn: 0.4121581\ttest: 0.4201168\tbest: 0.4200806 (479)\ttotal: 1m 46s\tremaining: 1m 46s\n",
      "Stopped by overfitting detector  (40 iterations wait)\n",
      "\n",
      "bestTest = 0.4200806189\n",
      "bestIteration = 479\n",
      "\n",
      "Shrink model to first 480 iterations.\n",
      "Test ROC AUC for model 2: 0.8604\n",
      "0:\tlearn: 0.6617414\ttest: 0.6617606\tbest: 0.6617606 (0)\ttotal: 223ms\tremaining: 3m 42s\n",
      "100:\tlearn: 0.4212190\ttest: 0.4232272\tbest: 0.4232272 (100)\ttotal: 21.5s\tremaining: 3m 11s\n",
      "200:\tlearn: 0.4177891\ttest: 0.4211993\tbest: 0.4211993 (200)\ttotal: 42.4s\tremaining: 2m 48s\n",
      "300:\tlearn: 0.4149418\ttest: 0.4202793\tbest: 0.4202562 (296)\ttotal: 1m 4s\tremaining: 2m 29s\n",
      "Stopped by overfitting detector  (20 iterations wait)\n",
      "\n",
      "bestTest = 0.4200385145\n",
      "bestIteration = 362\n",
      "\n",
      "Shrink model to first 363 iterations.\n",
      "Test ROC AUC for model 3: 0.8604\n",
      "validation roc_auc_score fold- 1 :  0.8604556419777841\n",
      "\n",
      "\n",
      "\n",
      "Fold: 2\n",
      "\n",
      "0:\tlearn: 0.6740987\ttest: 0.6740782\tbest: 0.6740782 (0)\ttotal: 223ms\tremaining: 3m 42s\n",
      "100:\tlearn: 0.4251421\ttest: 0.4244595\tbest: 0.4244595 (100)\ttotal: 21.6s\tremaining: 3m 12s\n",
      "200:\tlearn: 0.4207282\ttest: 0.4207391\tbest: 0.4207391 (200)\ttotal: 42.2s\tremaining: 2m 47s\n",
      "300:\tlearn: 0.4185390\ttest: 0.4194046\tbest: 0.4194046 (300)\ttotal: 1m 3s\tremaining: 2m 28s\n",
      "400:\tlearn: 0.4171393\ttest: 0.4187674\tbest: 0.4187674 (400)\ttotal: 1m 24s\tremaining: 2m 5s\n",
      "500:\tlearn: 0.4155098\ttest: 0.4182345\tbest: 0.4182345 (500)\ttotal: 1m 45s\tremaining: 1m 45s\n",
      "600:\tlearn: 0.4139124\ttest: 0.4179992\tbest: 0.4179992 (600)\ttotal: 2m 7s\tremaining: 1m 24s\n",
      "700:\tlearn: 0.4125682\ttest: 0.4178668\tbest: 0.4178668 (700)\ttotal: 2m 28s\tremaining: 1m 3s\n",
      "Stopped by overfitting detector  (30 iterations wait)\n",
      "\n",
      "bestTest = 0.4177931164\n",
      "bestIteration = 755\n",
      "\n",
      "Shrink model to first 756 iterations.\n",
      "Test ROC AUC for model 1: 0.8594\n",
      "0:\tlearn: 0.6679742\ttest: 0.6679469\tbest: 0.6679469 (0)\ttotal: 225ms\tremaining: 3m 45s\n",
      "100:\tlearn: 0.4229573\ttest: 0.4224321\tbest: 0.4224321 (100)\ttotal: 22.2s\tremaining: 3m 17s\n",
      "200:\tlearn: 0.4192186\ttest: 0.4197546\tbest: 0.4197546 (200)\ttotal: 43.4s\tremaining: 2m 52s\n",
      "300:\tlearn: 0.4171276\ttest: 0.4187638\tbest: 0.4187638 (300)\ttotal: 1m 4s\tremaining: 2m 30s\n",
      "400:\tlearn: 0.4149080\ttest: 0.4181974\tbest: 0.4181781 (398)\ttotal: 1m 27s\tremaining: 2m 10s\n",
      "500:\tlearn: 0.4129654\ttest: 0.4179958\tbest: 0.4179924 (496)\ttotal: 1m 48s\tremaining: 1m 47s\n",
      "600:\tlearn: 0.4112627\ttest: 0.4178639\tbest: 0.4178209 (577)\ttotal: 2m 9s\tremaining: 1m 25s\n",
      "Stopped by overfitting detector  (40 iterations wait)\n",
      "\n",
      "bestTest = 0.4178208686\n",
      "bestIteration = 577\n",
      "\n",
      "Shrink model to first 578 iterations.\n",
      "Test ROC AUC for model 2: 0.8593\n",
      "0:\tlearn: 0.6619620\ttest: 0.6619277\tbest: 0.6619277 (0)\ttotal: 347ms\tremaining: 5m 47s\n",
      "100:\tlearn: 0.4219246\ttest: 0.4216157\tbest: 0.4216157 (100)\ttotal: 21.4s\tremaining: 3m 10s\n",
      "200:\tlearn: 0.4182743\ttest: 0.4192896\tbest: 0.4192896 (200)\ttotal: 42.3s\tremaining: 2m 48s\n",
      "300:\tlearn: 0.4155005\ttest: 0.4184079\tbest: 0.4183929 (297)\ttotal: 1m 3s\tremaining: 2m 27s\n",
      "Stopped by overfitting detector  (20 iterations wait)\n",
      "\n",
      "bestTest = 0.4179321398\n",
      "bestIteration = 378\n",
      "\n",
      "Shrink model to first 379 iterations.\n",
      "Test ROC AUC for model 3: 0.8593\n",
      "validation roc_auc_score fold- 2 :  0.8594536516544615\n",
      "\n",
      "\n",
      "\n",
      "Fold: 3\n",
      "\n",
      "0:\tlearn: 0.6737402\ttest: 0.6738640\tbest: 0.6738640 (0)\ttotal: 236ms\tremaining: 3m 55s\n",
      "100:\tlearn: 0.4240549\ttest: 0.4280888\tbest: 0.4280888 (100)\ttotal: 20.9s\tremaining: 3m 6s\n",
      "200:\tlearn: 0.4195064\ttest: 0.4247953\tbest: 0.4247953 (200)\ttotal: 42.5s\tremaining: 2m 48s\n",
      "300:\tlearn: 0.4174023\ttest: 0.4236722\tbest: 0.4236722 (300)\ttotal: 1m 3s\tremaining: 2m 28s\n",
      "400:\tlearn: 0.4158853\ttest: 0.4231752\tbest: 0.4231752 (400)\ttotal: 1m 25s\tremaining: 2m 7s\n",
      "Stopped by overfitting detector  (30 iterations wait)\n",
      "\n",
      "bestTest = 0.4229721221\n",
      "bestIteration = 457\n",
      "\n",
      "Shrink model to first 458 iterations.\n",
      "Test ROC AUC for model 1: 0.8570\n",
      "0:\tlearn: 0.6675049\ttest: 0.6676695\tbest: 0.6676695 (0)\ttotal: 226ms\tremaining: 3m 45s\n",
      "100:\tlearn: 0.4217270\ttest: 0.4262728\tbest: 0.4262728 (100)\ttotal: 21.3s\tremaining: 3m 9s\n",
      "200:\tlearn: 0.4180393\ttest: 0.4238642\tbest: 0.4238642 (200)\ttotal: 47.9s\tremaining: 3m 10s\n",
      "300:\tlearn: 0.4159073\ttest: 0.4231259\tbest: 0.4231259 (300)\ttotal: 1m 9s\tremaining: 2m 41s\n",
      "400:\tlearn: 0.4134172\ttest: 0.4228938\tbest: 0.4228740 (395)\ttotal: 1m 31s\tremaining: 2m 15s\n",
      "Stopped by overfitting detector  (40 iterations wait)\n",
      "\n",
      "bestTest = 0.4228740026\n",
      "bestIteration = 395\n",
      "\n",
      "Shrink model to first 396 iterations.\n",
      "Test ROC AUC for model 2: 0.8570\n",
      "0:\tlearn: 0.6613860\ttest: 0.6615911\tbest: 0.6615911 (0)\ttotal: 375ms\tremaining: 6m 14s\n",
      "100:\tlearn: 0.4210498\ttest: 0.4256787\tbest: 0.4256787 (100)\ttotal: 21.9s\tremaining: 3m 14s\n",
      "200:\tlearn: 0.4170262\ttest: 0.4235343\tbest: 0.4235343 (200)\ttotal: 43.3s\tremaining: 2m 51s\n",
      "300:\tlearn: 0.4140232\ttest: 0.4230185\tbest: 0.4229770 (290)\ttotal: 1m 5s\tremaining: 2m 32s\n",
      "Stopped by overfitting detector  (20 iterations wait)\n",
      "\n",
      "bestTest = 0.4229442542\n",
      "bestIteration = 329\n",
      "\n",
      "Shrink model to first 330 iterations.\n",
      "Test ROC AUC for model 3: 0.8569\n",
      "validation roc_auc_score fold- 3 :  0.857031856600945\n",
      "\n",
      "\n",
      "\n",
      "Fold: 4\n",
      "\n",
      "0:\tlearn: 0.6740336\ttest: 0.6737963\tbest: 0.6737963 (0)\ttotal: 235ms\tremaining: 3m 55s\n",
      "100:\tlearn: 0.4257576\ttest: 0.4218140\tbest: 0.4218140 (100)\ttotal: 21.8s\tremaining: 3m 13s\n",
      "200:\tlearn: 0.4211894\ttest: 0.4185107\tbest: 0.4185107 (200)\ttotal: 42.9s\tremaining: 2m 50s\n",
      "300:\tlearn: 0.4188875\ttest: 0.4172965\tbest: 0.4172965 (300)\ttotal: 1m 3s\tremaining: 2m 28s\n",
      "400:\tlearn: 0.4174785\ttest: 0.4167825\tbest: 0.4167825 (400)\ttotal: 1m 24s\tremaining: 2m 6s\n",
      "500:\tlearn: 0.4156565\ttest: 0.4162651\tbest: 0.4162640 (498)\ttotal: 1m 46s\tremaining: 1m 46s\n",
      "Stopped by overfitting detector  (30 iterations wait)\n",
      "\n",
      "bestTest = 0.4162310444\n",
      "bestIteration = 517\n",
      "\n",
      "Shrink model to first 518 iterations.\n",
      "Test ROC AUC for model 1: 0.8607\n",
      "0:\tlearn: 0.6678895\ttest: 0.6675736\tbest: 0.6675736 (0)\ttotal: 232ms\tremaining: 3m 52s\n",
      "100:\tlearn: 0.4232360\ttest: 0.4197441\tbest: 0.4197441 (100)\ttotal: 21.3s\tremaining: 3m 9s\n",
      "200:\tlearn: 0.4196056\ttest: 0.4175140\tbest: 0.4175140 (200)\ttotal: 42.7s\tremaining: 2m 49s\n",
      "300:\tlearn: 0.4176175\ttest: 0.4166695\tbest: 0.4166695 (300)\ttotal: 1m 3s\tremaining: 2m 27s\n",
      "400:\tlearn: 0.4154377\ttest: 0.4163313\tbest: 0.4163114 (373)\ttotal: 1m 25s\tremaining: 2m 7s\n",
      "500:\tlearn: 0.4133682\ttest: 0.4162448\tbest: 0.4161927 (466)\ttotal: 1m 47s\tremaining: 1m 47s\n",
      "Stopped by overfitting detector  (40 iterations wait)\n",
      "\n",
      "bestTest = 0.4161927226\n",
      "bestIteration = 466\n",
      "\n",
      "Shrink model to first 467 iterations.\n",
      "Test ROC AUC for model 2: 0.8607\n",
      "0:\tlearn: 0.6618587\ttest: 0.6614644\tbest: 0.6614644 (0)\ttotal: 226ms\tremaining: 3m 45s\n",
      "100:\tlearn: 0.4219928\ttest: 0.4188467\tbest: 0.4188467 (100)\ttotal: 21.6s\tremaining: 3m 12s\n",
      "200:\tlearn: 0.4183488\ttest: 0.4170988\tbest: 0.4170932 (198)\ttotal: 43.9s\tremaining: 2m 54s\n",
      "300:\tlearn: 0.4158697\ttest: 0.4163980\tbest: 0.4163980 (300)\ttotal: 1m 5s\tremaining: 2m 32s\n",
      "Stopped by overfitting detector  (20 iterations wait)\n",
      "\n",
      "bestTest = 0.4162017996\n",
      "bestIteration = 359\n",
      "\n",
      "Shrink model to first 360 iterations.\n",
      "Test ROC AUC for model 3: 0.8608\n",
      "validation roc_auc_score fold- 4 :  0.8608012196552278\n",
      "\n",
      "\n",
      "\n",
      "Fold: 5\n",
      "\n",
      "0:\tlearn: 0.6677195\ttest: 0.6679124\tbest: 0.6679124 (0)\ttotal: 215ms\tremaining: 3m 35s\n",
      "100:\tlearn: 0.4236968\ttest: 0.4283351\tbest: 0.4283351 (100)\ttotal: 21.9s\tremaining: 3m 14s\n",
      "200:\tlearn: 0.4195839\ttest: 0.4249913\tbest: 0.4249913 (200)\ttotal: 43s\tremaining: 2m 50s\n",
      "300:\tlearn: 0.4175021\ttest: 0.4236461\tbest: 0.4236461 (300)\ttotal: 1m 3s\tremaining: 2m 28s\n",
      "400:\tlearn: 0.4160418\ttest: 0.4230624\tbest: 0.4230624 (400)\ttotal: 1m 25s\tremaining: 2m 7s\n",
      "500:\tlearn: 0.4144811\ttest: 0.4225947\tbest: 0.4225917 (499)\ttotal: 1m 46s\tremaining: 1m 46s\n",
      "600:\tlearn: 0.4130395\ttest: 0.4223955\tbest: 0.4223955 (600)\ttotal: 2m 7s\tremaining: 1m 24s\n",
      "Stopped by overfitting detector  (30 iterations wait)\n",
      "\n",
      "bestTest = 0.4223314889\n",
      "bestIteration = 617\n",
      "\n",
      "Shrink model to first 618 iterations.\n",
      "Test ROC AUC for model 1: 0.8570\n",
      "0:\tlearn: 0.6596705\ttest: 0.6599255\tbest: 0.6599255 (0)\ttotal: 202ms\tremaining: 3m 21s\n",
      "100:\tlearn: 0.4221264\ttest: 0.4271331\tbest: 0.4271331 (100)\ttotal: 26.2s\tremaining: 3m 53s\n",
      "200:\tlearn: 0.4183995\ttest: 0.4243839\tbest: 0.4243839 (200)\ttotal: 47.2s\tremaining: 3m 7s\n",
      "300:\tlearn: 0.4164528\ttest: 0.4234573\tbest: 0.4234573 (300)\ttotal: 1m 8s\tremaining: 2m 38s\n",
      "400:\tlearn: 0.4141907\ttest: 0.4227319\tbest: 0.4227319 (400)\ttotal: 1m 29s\tremaining: 2m 13s\n",
      "Stopped by overfitting detector  (40 iterations wait)\n",
      "\n",
      "bestTest = 0.4225834272\n",
      "bestIteration = 437\n",
      "\n",
      "Shrink model to first 438 iterations.\n",
      "Test ROC AUC for model 2: 0.8568\n",
      "0:\tlearn: 0.6518335\ttest: 0.6521496\tbest: 0.6521496 (0)\ttotal: 214ms\tremaining: 3m 33s\n",
      "100:\tlearn: 0.4205979\ttest: 0.4257287\tbest: 0.4257287 (100)\ttotal: 22s\tremaining: 3m 16s\n",
      "200:\tlearn: 0.4173503\ttest: 0.4237201\tbest: 0.4237201 (200)\ttotal: 43.8s\tremaining: 2m 54s\n",
      "300:\tlearn: 0.4146041\ttest: 0.4228131\tbest: 0.4228131 (300)\ttotal: 1m 5s\tremaining: 2m 32s\n",
      "Stopped by overfitting detector  (20 iterations wait)\n",
      "\n",
      "bestTest = 0.4224855071\n",
      "bestIteration = 348\n",
      "\n",
      "Shrink model to first 349 iterations.\n",
      "Test ROC AUC for model 3: 0.8569\n",
      "validation roc_auc_score fold- 5 :  0.8569649564659358\n",
      "\n",
      "\n",
      "OOF ROC_AUC_Score:-  0.8588969675380052\n"
     ]
    }
   ],
   "source": [
    "from catboost import CatBoostClassifier\n",
    "oof_pred               = np.zeros((len(train),))\n",
    "y_pred_final           = np.zeros((len(test),))\n",
    "num_models             = 3\n",
    "\n",
    "n_splits               = 5\n",
    "error                  = []\n",
    "\n",
    "kf=StratifiedKFold(n_splits=n_splits,shuffle=True,random_state=294)\n",
    "    \n",
    "for i,(train_idx,val_idx) in enumerate(kf.split(X,Y)):    \n",
    "    \n",
    "    wghts                     = [0]*num_models\n",
    "    test_roc_score            = []\n",
    "    \n",
    "    \n",
    "    X_train, y_train = X.iloc[train_idx,:], Y.iloc[train_idx]\n",
    "\n",
    "    X_val, y_val = X.iloc[val_idx, :], Y.iloc[val_idx]\n",
    "    \n",
    "\n",
    "    print('\\nFold: {}\\n'.format(i+1))\n",
    "\n",
    "    model1 = CatBoostClassifier(learning_rate = 0.03,random_state=42,scale_pos_weight=7, custom_metric=['AUC'])\n",
    "    model1.fit(X_train,y_train,cat_features=cat_col,eval_set=(X_val, y_val),early_stopping_rounds=30,verbose=100)\n",
    "    testpred1 = model1.predict_proba(X_val)[:,1]\n",
    "    test_roc_score.append(roc_auc_score(y_val, testpred1))\n",
    "    print(\"Test ROC AUC for model 1: %.4f\"%(roc_auc_score(y_val, testpred1)))\n",
    "    \n",
    "    model2 = CatBoostClassifier(learning_rate = 0.04,random_state=42,scale_pos_weight=7, custom_metric=['AUC'])\n",
    "    model2.fit(X_train,y_train,cat_features=cat_col,eval_set=(X_val, y_val),early_stopping_rounds=40,verbose=100)\n",
    "    testpred2 = model2.predict_proba(X_val)[:,1]\n",
    "    test_roc_score.append(roc_auc_score(y_val, testpred2))\n",
    "    print(\"Test ROC AUC for model 2: %.4f\"%(roc_auc_score(y_val, testpred2)))\n",
    "    \n",
    "    model3 = CatBoostClassifier(learning_rate = 0.05,random_state=42,scale_pos_weight=7, custom_metric=['AUC'])\n",
    "    model3.fit(X_train,y_train,cat_features=cat_col,eval_set=(X_val, y_val),early_stopping_rounds=20,verbose=100)\n",
    "    testpred3 = model3.predict_proba(X_val)[:,1]\n",
    "    test_roc_score.append(roc_auc_score(y_val, testpred3))\n",
    "    print(\"Test ROC AUC for model 3: %.4f\"%(roc_auc_score(y_val, testpred3)))\n",
    "    \n",
    "    wghts              = np.exp(-1000*np.array(test_roc_score/sum(test_roc_score)))\n",
    "    wghts              = wghts/sum(wghts)\n",
    "    \n",
    "    val_pred           = wghts[0]*testpred1+wghts[1]*testpred2 +wghts[2]*testpred3\n",
    "    print('validation roc_auc_score fold-',i+1,': ',roc_auc_score(y_val, val_pred))\n",
    "    \n",
    "    oof_pred[val_idx]  = val_pred\n",
    "    y_pred_final += (wghts[0]*model1.predict_proba(test)[:,1]+wghts[1]*model2.predict_proba(test)[:,1]+wghts[2]*model3.predict_proba(test)[:,1])/(n_splits)\n",
    "    \n",
    "    print('\\n')\n",
    "    \n",
    "print('OOF ROC_AUC_Score:- ',(roc_auc_score(Y,oof_pred)))"
   ]
  },
  {
   "cell_type": "code",
   "execution_count": 83,
   "metadata": {
    "execution": {
     "iopub.execute_input": "2020-12-13T09:02:37.283686Z",
     "iopub.status.busy": "2020-12-13T09:02:37.282999Z",
     "iopub.status.idle": "2020-12-13T09:02:37.880378Z",
     "shell.execute_reply": "2020-12-13T09:02:37.879830Z"
    },
    "papermill": {
     "duration": 0.796179,
     "end_time": "2020-12-13T09:02:37.880527",
     "exception": false,
     "start_time": "2020-12-13T09:02:37.084348",
     "status": "completed"
    },
    "tags": []
   },
   "outputs": [],
   "source": [
    "ss['Response']=y_pred_final\n",
    "ss.to_csv(\"cat_Submission.csv\", index = False)\n"
   ]
  }
 ],
 "metadata": {
  "kernelspec": {
   "display_name": "Python 3",
   "language": "python",
   "name": "python3"
  },
  "language_info": {
   "codemirror_mode": {
    "name": "ipython",
    "version": 3
   },
   "file_extension": ".py",
   "mimetype": "text/x-python",
   "name": "python",
   "nbconvert_exporter": "python",
   "pygments_lexer": "ipython3",
   "version": "3.7.6"
  },
  "papermill": {
   "duration": 22141.185098,
   "end_time": "2020-12-13T09:02:38.498643",
   "environment_variables": {},
   "exception": null,
   "input_path": "__notebook__.ipynb",
   "output_path": "__notebook__.ipynb",
   "parameters": {},
   "start_time": "2020-12-13T02:53:37.313545",
   "version": "2.1.0"
  },
  "widgets": {
   "application/vnd.jupyter.widget-state+json": {
    "state": {
     "01b37ba05c554438b31d8fd767b2169f": {
      "model_module": "@jupyter-widgets/base",
      "model_module_version": "1.2.0",
      "model_name": "LayoutModel",
      "state": {
       "_model_module": "@jupyter-widgets/base",
       "_model_module_version": "1.2.0",
       "_model_name": "LayoutModel",
       "_view_count": null,
       "_view_module": "@jupyter-widgets/base",
       "_view_module_version": "1.2.0",
       "_view_name": "LayoutView",
       "align_content": null,
       "align_items": null,
       "align_self": null,
       "border": null,
       "bottom": null,
       "display": null,
       "flex": null,
       "flex_flow": null,
       "grid_area": null,
       "grid_auto_columns": null,
       "grid_auto_flow": null,
       "grid_auto_rows": null,
       "grid_column": null,
       "grid_gap": null,
       "grid_row": null,
       "grid_template_areas": null,
       "grid_template_columns": null,
       "grid_template_rows": null,
       "height": null,
       "justify_content": null,
       "justify_items": null,
       "left": null,
       "margin": null,
       "max_height": null,
       "max_width": null,
       "min_height": null,
       "min_width": null,
       "object_fit": null,
       "object_position": null,
       "order": null,
       "overflow": null,
       "overflow_x": null,
       "overflow_y": null,
       "padding": null,
       "right": null,
       "top": null,
       "visibility": null,
       "width": null
      }
     },
     "0727492540ef4280bc5412a2e4634d53": {
      "model_module": "@jupyter-widgets/controls",
      "model_module_version": "1.5.0",
      "model_name": "FloatProgressModel",
      "state": {
       "_dom_classes": [],
       "_model_module": "@jupyter-widgets/controls",
       "_model_module_version": "1.5.0",
       "_model_name": "FloatProgressModel",
       "_view_count": null,
       "_view_module": "@jupyter-widgets/controls",
       "_view_module_version": "1.5.0",
       "_view_name": "ProgressView",
       "bar_style": "success",
       "description": "100%",
       "description_tooltip": null,
       "layout": "IPY_MODEL_b238b5421b2444c89eaa232f06fac34e",
       "max": 1.0,
       "min": 0.0,
       "orientation": "horizontal",
       "style": "IPY_MODEL_bb05a4f9f9eb49ae9d6c1437d8ba9f29",
       "value": 1.0
      }
     },
     "09a35aa9c76d4141bbd7970d4d7bb5af": {
      "model_module": "@jupyter-widgets/controls",
      "model_module_version": "1.5.0",
      "model_name": "HTMLModel",
      "state": {
       "_dom_classes": [],
       "_model_module": "@jupyter-widgets/controls",
       "_model_module_version": "1.5.0",
       "_model_name": "HTMLModel",
       "_view_count": null,
       "_view_module": "@jupyter-widgets/controls",
       "_view_module_version": "1.5.0",
       "_view_name": "HTMLView",
       "description": "",
       "description_tooltip": null,
       "layout": "IPY_MODEL_01b37ba05c554438b31d8fd767b2169f",
       "placeholder": "​",
       "style": "IPY_MODEL_b98c52cc8a6941afae620e228be3dc8b",
       "value": " 1/1 [1:04:52&lt;00:00, 3892.79s/it]"
      }
     },
     "09f5b37056dc469a9da5314ea2e80f60": {
      "model_module": "@jupyter-widgets/base",
      "model_module_version": "1.2.0",
      "model_name": "LayoutModel",
      "state": {
       "_model_module": "@jupyter-widgets/base",
       "_model_module_version": "1.2.0",
       "_model_name": "LayoutModel",
       "_view_count": null,
       "_view_module": "@jupyter-widgets/base",
       "_view_module_version": "1.2.0",
       "_view_name": "LayoutView",
       "align_content": null,
       "align_items": null,
       "align_self": null,
       "border": null,
       "bottom": null,
       "display": null,
       "flex": null,
       "flex_flow": null,
       "grid_area": null,
       "grid_auto_columns": null,
       "grid_auto_flow": null,
       "grid_auto_rows": null,
       "grid_column": null,
       "grid_gap": null,
       "grid_row": null,
       "grid_template_areas": null,
       "grid_template_columns": null,
       "grid_template_rows": null,
       "height": null,
       "justify_content": null,
       "justify_items": null,
       "left": null,
       "margin": null,
       "max_height": null,
       "max_width": null,
       "min_height": null,
       "min_width": null,
       "object_fit": null,
       "object_position": null,
       "order": null,
       "overflow": null,
       "overflow_x": null,
       "overflow_y": null,
       "padding": null,
       "right": null,
       "top": null,
       "visibility": null,
       "width": null
      }
     },
     "132abf735ea9414283338114bc94ce0a": {
      "model_module": "@jupyter-widgets/controls",
      "model_module_version": "1.5.0",
      "model_name": "FloatProgressModel",
      "state": {
       "_dom_classes": [],
       "_model_module": "@jupyter-widgets/controls",
       "_model_module_version": "1.5.0",
       "_model_name": "FloatProgressModel",
       "_view_count": null,
       "_view_module": "@jupyter-widgets/controls",
       "_view_module_version": "1.5.0",
       "_view_name": "ProgressView",
       "bar_style": "success",
       "description": "100%",
       "description_tooltip": null,
       "layout": "IPY_MODEL_28df128fba174cc797507213846b415d",
       "max": 1.0,
       "min": 0.0,
       "orientation": "horizontal",
       "style": "IPY_MODEL_af1a310bedcc41a4aadb555574b83ae8",
       "value": 1.0
      }
     },
     "199976113f724a128a12cec7f6b419af": {
      "model_module": "@jupyter-widgets/base",
      "model_module_version": "1.2.0",
      "model_name": "LayoutModel",
      "state": {
       "_model_module": "@jupyter-widgets/base",
       "_model_module_version": "1.2.0",
       "_model_name": "LayoutModel",
       "_view_count": null,
       "_view_module": "@jupyter-widgets/base",
       "_view_module_version": "1.2.0",
       "_view_name": "LayoutView",
       "align_content": null,
       "align_items": null,
       "align_self": null,
       "border": null,
       "bottom": null,
       "display": null,
       "flex": null,
       "flex_flow": null,
       "grid_area": null,
       "grid_auto_columns": null,
       "grid_auto_flow": null,
       "grid_auto_rows": null,
       "grid_column": null,
       "grid_gap": null,
       "grid_row": null,
       "grid_template_areas": null,
       "grid_template_columns": null,
       "grid_template_rows": null,
       "height": null,
       "justify_content": null,
       "justify_items": null,
       "left": null,
       "margin": null,
       "max_height": null,
       "max_width": null,
       "min_height": null,
       "min_width": null,
       "object_fit": null,
       "object_position": null,
       "order": null,
       "overflow": null,
       "overflow_x": null,
       "overflow_y": null,
       "padding": null,
       "right": null,
       "top": null,
       "visibility": null,
       "width": null
      }
     },
     "1ea694c1ab724ba3ad8ec009a27a5203": {
      "model_module": "@jupyter-widgets/controls",
      "model_module_version": "1.5.0",
      "model_name": "ProgressStyleModel",
      "state": {
       "_model_module": "@jupyter-widgets/controls",
       "_model_module_version": "1.5.0",
       "_model_name": "ProgressStyleModel",
       "_view_count": null,
       "_view_module": "@jupyter-widgets/base",
       "_view_module_version": "1.2.0",
       "_view_name": "StyleView",
       "bar_color": null,
       "description_width": "initial"
      }
     },
     "28df128fba174cc797507213846b415d": {
      "model_module": "@jupyter-widgets/base",
      "model_module_version": "1.2.0",
      "model_name": "LayoutModel",
      "state": {
       "_model_module": "@jupyter-widgets/base",
       "_model_module_version": "1.2.0",
       "_model_name": "LayoutModel",
       "_view_count": null,
       "_view_module": "@jupyter-widgets/base",
       "_view_module_version": "1.2.0",
       "_view_name": "LayoutView",
       "align_content": null,
       "align_items": null,
       "align_self": null,
       "border": null,
       "bottom": null,
       "display": null,
       "flex": null,
       "flex_flow": null,
       "grid_area": null,
       "grid_auto_columns": null,
       "grid_auto_flow": null,
       "grid_auto_rows": null,
       "grid_column": null,
       "grid_gap": null,
       "grid_row": null,
       "grid_template_areas": null,
       "grid_template_columns": null,
       "grid_template_rows": null,
       "height": null,
       "justify_content": null,
       "justify_items": null,
       "left": null,
       "margin": null,
       "max_height": null,
       "max_width": null,
       "min_height": null,
       "min_width": null,
       "object_fit": null,
       "object_position": null,
       "order": null,
       "overflow": null,
       "overflow_x": null,
       "overflow_y": null,
       "padding": null,
       "right": null,
       "top": null,
       "visibility": null,
       "width": null
      }
     },
     "52ea196fdefe4f1294f7485e519ebac6": {
      "model_module": "@jupyter-widgets/controls",
      "model_module_version": "1.5.0",
      "model_name": "HTMLModel",
      "state": {
       "_dom_classes": [],
       "_model_module": "@jupyter-widgets/controls",
       "_model_module_version": "1.5.0",
       "_model_name": "HTMLModel",
       "_view_count": null,
       "_view_module": "@jupyter-widgets/controls",
       "_view_module_version": "1.5.0",
       "_view_name": "HTMLView",
       "description": "",
       "description_tooltip": null,
       "layout": "IPY_MODEL_199976113f724a128a12cec7f6b419af",
       "placeholder": "​",
       "style": "IPY_MODEL_95cbdcd4d68945138915194d6bd8e354",
       "value": " 1/1 [59:34&lt;00:00, 3574.99s/it]"
      }
     },
     "5c77eedb2f6346109d050d3506b64eb7": {
      "model_module": "@jupyter-widgets/base",
      "model_module_version": "1.2.0",
      "model_name": "LayoutModel",
      "state": {
       "_model_module": "@jupyter-widgets/base",
       "_model_module_version": "1.2.0",
       "_model_name": "LayoutModel",
       "_view_count": null,
       "_view_module": "@jupyter-widgets/base",
       "_view_module_version": "1.2.0",
       "_view_name": "LayoutView",
       "align_content": null,
       "align_items": null,
       "align_self": null,
       "border": null,
       "bottom": null,
       "display": null,
       "flex": null,
       "flex_flow": null,
       "grid_area": null,
       "grid_auto_columns": null,
       "grid_auto_flow": null,
       "grid_auto_rows": null,
       "grid_column": null,
       "grid_gap": null,
       "grid_row": null,
       "grid_template_areas": null,
       "grid_template_columns": null,
       "grid_template_rows": null,
       "height": null,
       "justify_content": null,
       "justify_items": null,
       "left": null,
       "margin": null,
       "max_height": null,
       "max_width": null,
       "min_height": null,
       "min_width": null,
       "object_fit": null,
       "object_position": null,
       "order": null,
       "overflow": null,
       "overflow_x": null,
       "overflow_y": null,
       "padding": null,
       "right": null,
       "top": null,
       "visibility": null,
       "width": null
      }
     },
     "5e6f0f758550404188abbb979adcffb5": {
      "model_module": "@jupyter-widgets/base",
      "model_module_version": "1.2.0",
      "model_name": "LayoutModel",
      "state": {
       "_model_module": "@jupyter-widgets/base",
       "_model_module_version": "1.2.0",
       "_model_name": "LayoutModel",
       "_view_count": null,
       "_view_module": "@jupyter-widgets/base",
       "_view_module_version": "1.2.0",
       "_view_name": "LayoutView",
       "align_content": null,
       "align_items": null,
       "align_self": null,
       "border": null,
       "bottom": null,
       "display": null,
       "flex": null,
       "flex_flow": null,
       "grid_area": null,
       "grid_auto_columns": null,
       "grid_auto_flow": null,
       "grid_auto_rows": null,
       "grid_column": null,
       "grid_gap": null,
       "grid_row": null,
       "grid_template_areas": null,
       "grid_template_columns": null,
       "grid_template_rows": null,
       "height": null,
       "justify_content": null,
       "justify_items": null,
       "left": null,
       "margin": null,
       "max_height": null,
       "max_width": null,
       "min_height": null,
       "min_width": null,
       "object_fit": null,
       "object_position": null,
       "order": null,
       "overflow": null,
       "overflow_x": null,
       "overflow_y": null,
       "padding": null,
       "right": null,
       "top": null,
       "visibility": null,
       "width": null
      }
     },
     "6837b4bf40ea49339914deb9de675196": {
      "model_module": "@jupyter-widgets/controls",
      "model_module_version": "1.5.0",
      "model_name": "HBoxModel",
      "state": {
       "_dom_classes": [],
       "_model_module": "@jupyter-widgets/controls",
       "_model_module_version": "1.5.0",
       "_model_name": "HBoxModel",
       "_view_count": null,
       "_view_module": "@jupyter-widgets/controls",
       "_view_module_version": "1.5.0",
       "_view_name": "HBoxView",
       "box_style": "",
       "children": [
        "IPY_MODEL_0727492540ef4280bc5412a2e4634d53",
        "IPY_MODEL_09a35aa9c76d4141bbd7970d4d7bb5af"
       ],
       "layout": "IPY_MODEL_f6319066bc1b44298e2cb4fa92820493"
      }
     },
     "6ec8aae02f45453a9f1f0d2f0b0b888b": {
      "model_module": "@jupyter-widgets/base",
      "model_module_version": "1.2.0",
      "model_name": "LayoutModel",
      "state": {
       "_model_module": "@jupyter-widgets/base",
       "_model_module_version": "1.2.0",
       "_model_name": "LayoutModel",
       "_view_count": null,
       "_view_module": "@jupyter-widgets/base",
       "_view_module_version": "1.2.0",
       "_view_name": "LayoutView",
       "align_content": null,
       "align_items": null,
       "align_self": null,
       "border": null,
       "bottom": null,
       "display": null,
       "flex": null,
       "flex_flow": null,
       "grid_area": null,
       "grid_auto_columns": null,
       "grid_auto_flow": null,
       "grid_auto_rows": null,
       "grid_column": null,
       "grid_gap": null,
       "grid_row": null,
       "grid_template_areas": null,
       "grid_template_columns": null,
       "grid_template_rows": null,
       "height": null,
       "justify_content": null,
       "justify_items": null,
       "left": null,
       "margin": null,
       "max_height": null,
       "max_width": null,
       "min_height": null,
       "min_width": null,
       "object_fit": null,
       "object_position": null,
       "order": null,
       "overflow": null,
       "overflow_x": null,
       "overflow_y": null,
       "padding": null,
       "right": null,
       "top": null,
       "visibility": null,
       "width": null
      }
     },
     "75ad8ff54a824e56ac030c086fe24373": {
      "model_module": "@jupyter-widgets/controls",
      "model_module_version": "1.5.0",
      "model_name": "HTMLModel",
      "state": {
       "_dom_classes": [],
       "_model_module": "@jupyter-widgets/controls",
       "_model_module_version": "1.5.0",
       "_model_name": "HTMLModel",
       "_view_count": null,
       "_view_module": "@jupyter-widgets/controls",
       "_view_module_version": "1.5.0",
       "_view_name": "HTMLView",
       "description": "",
       "description_tooltip": null,
       "layout": "IPY_MODEL_09f5b37056dc469a9da5314ea2e80f60",
       "placeholder": "​",
       "style": "IPY_MODEL_a7858130348b4e7185e7aed840ec0578",
       "value": " 1/1 [2:12:40&lt;00:00, 7960.01s/it]"
      }
     },
     "95cbdcd4d68945138915194d6bd8e354": {
      "model_module": "@jupyter-widgets/controls",
      "model_module_version": "1.5.0",
      "model_name": "DescriptionStyleModel",
      "state": {
       "_model_module": "@jupyter-widgets/controls",
       "_model_module_version": "1.5.0",
       "_model_name": "DescriptionStyleModel",
       "_view_count": null,
       "_view_module": "@jupyter-widgets/base",
       "_view_module_version": "1.2.0",
       "_view_name": "StyleView",
       "description_width": ""
      }
     },
     "9dc6e94aae354bfd917281f5e3713cc5": {
      "model_module": "@jupyter-widgets/controls",
      "model_module_version": "1.5.0",
      "model_name": "HBoxModel",
      "state": {
       "_dom_classes": [],
       "_model_module": "@jupyter-widgets/controls",
       "_model_module_version": "1.5.0",
       "_model_name": "HBoxModel",
       "_view_count": null,
       "_view_module": "@jupyter-widgets/controls",
       "_view_module_version": "1.5.0",
       "_view_name": "HBoxView",
       "box_style": "",
       "children": [
        "IPY_MODEL_c4c6ce115c4e4ec3aff47b299f3d34df",
        "IPY_MODEL_75ad8ff54a824e56ac030c086fe24373"
       ],
       "layout": "IPY_MODEL_6ec8aae02f45453a9f1f0d2f0b0b888b"
      }
     },
     "a7858130348b4e7185e7aed840ec0578": {
      "model_module": "@jupyter-widgets/controls",
      "model_module_version": "1.5.0",
      "model_name": "DescriptionStyleModel",
      "state": {
       "_model_module": "@jupyter-widgets/controls",
       "_model_module_version": "1.5.0",
       "_model_name": "DescriptionStyleModel",
       "_view_count": null,
       "_view_module": "@jupyter-widgets/base",
       "_view_module_version": "1.2.0",
       "_view_name": "StyleView",
       "description_width": ""
      }
     },
     "af1a310bedcc41a4aadb555574b83ae8": {
      "model_module": "@jupyter-widgets/controls",
      "model_module_version": "1.5.0",
      "model_name": "ProgressStyleModel",
      "state": {
       "_model_module": "@jupyter-widgets/controls",
       "_model_module_version": "1.5.0",
       "_model_name": "ProgressStyleModel",
       "_view_count": null,
       "_view_module": "@jupyter-widgets/base",
       "_view_module_version": "1.2.0",
       "_view_name": "StyleView",
       "bar_color": null,
       "description_width": "initial"
      }
     },
     "b238b5421b2444c89eaa232f06fac34e": {
      "model_module": "@jupyter-widgets/base",
      "model_module_version": "1.2.0",
      "model_name": "LayoutModel",
      "state": {
       "_model_module": "@jupyter-widgets/base",
       "_model_module_version": "1.2.0",
       "_model_name": "LayoutModel",
       "_view_count": null,
       "_view_module": "@jupyter-widgets/base",
       "_view_module_version": "1.2.0",
       "_view_name": "LayoutView",
       "align_content": null,
       "align_items": null,
       "align_self": null,
       "border": null,
       "bottom": null,
       "display": null,
       "flex": null,
       "flex_flow": null,
       "grid_area": null,
       "grid_auto_columns": null,
       "grid_auto_flow": null,
       "grid_auto_rows": null,
       "grid_column": null,
       "grid_gap": null,
       "grid_row": null,
       "grid_template_areas": null,
       "grid_template_columns": null,
       "grid_template_rows": null,
       "height": null,
       "justify_content": null,
       "justify_items": null,
       "left": null,
       "margin": null,
       "max_height": null,
       "max_width": null,
       "min_height": null,
       "min_width": null,
       "object_fit": null,
       "object_position": null,
       "order": null,
       "overflow": null,
       "overflow_x": null,
       "overflow_y": null,
       "padding": null,
       "right": null,
       "top": null,
       "visibility": null,
       "width": null
      }
     },
     "b98c52cc8a6941afae620e228be3dc8b": {
      "model_module": "@jupyter-widgets/controls",
      "model_module_version": "1.5.0",
      "model_name": "DescriptionStyleModel",
      "state": {
       "_model_module": "@jupyter-widgets/controls",
       "_model_module_version": "1.5.0",
       "_model_name": "DescriptionStyleModel",
       "_view_count": null,
       "_view_module": "@jupyter-widgets/base",
       "_view_module_version": "1.2.0",
       "_view_name": "StyleView",
       "description_width": ""
      }
     },
     "bb05a4f9f9eb49ae9d6c1437d8ba9f29": {
      "model_module": "@jupyter-widgets/controls",
      "model_module_version": "1.5.0",
      "model_name": "ProgressStyleModel",
      "state": {
       "_model_module": "@jupyter-widgets/controls",
       "_model_module_version": "1.5.0",
       "_model_name": "ProgressStyleModel",
       "_view_count": null,
       "_view_module": "@jupyter-widgets/base",
       "_view_module_version": "1.2.0",
       "_view_name": "StyleView",
       "bar_color": null,
       "description_width": "initial"
      }
     },
     "c21234863792406cb2a80472894925b7": {
      "model_module": "@jupyter-widgets/controls",
      "model_module_version": "1.5.0",
      "model_name": "HBoxModel",
      "state": {
       "_dom_classes": [],
       "_model_module": "@jupyter-widgets/controls",
       "_model_module_version": "1.5.0",
       "_model_name": "HBoxModel",
       "_view_count": null,
       "_view_module": "@jupyter-widgets/controls",
       "_view_module_version": "1.5.0",
       "_view_name": "HBoxView",
       "box_style": "",
       "children": [
        "IPY_MODEL_132abf735ea9414283338114bc94ce0a",
        "IPY_MODEL_52ea196fdefe4f1294f7485e519ebac6"
       ],
       "layout": "IPY_MODEL_5e6f0f758550404188abbb979adcffb5"
      }
     },
     "c4c6ce115c4e4ec3aff47b299f3d34df": {
      "model_module": "@jupyter-widgets/controls",
      "model_module_version": "1.5.0",
      "model_name": "FloatProgressModel",
      "state": {
       "_dom_classes": [],
       "_model_module": "@jupyter-widgets/controls",
       "_model_module_version": "1.5.0",
       "_model_name": "FloatProgressModel",
       "_view_count": null,
       "_view_module": "@jupyter-widgets/controls",
       "_view_module_version": "1.5.0",
       "_view_name": "ProgressView",
       "bar_style": "success",
       "description": "100%",
       "description_tooltip": null,
       "layout": "IPY_MODEL_5c77eedb2f6346109d050d3506b64eb7",
       "max": 1.0,
       "min": 0.0,
       "orientation": "horizontal",
       "style": "IPY_MODEL_1ea694c1ab724ba3ad8ec009a27a5203",
       "value": 1.0
      }
     },
     "f6319066bc1b44298e2cb4fa92820493": {
      "model_module": "@jupyter-widgets/base",
      "model_module_version": "1.2.0",
      "model_name": "LayoutModel",
      "state": {
       "_model_module": "@jupyter-widgets/base",
       "_model_module_version": "1.2.0",
       "_model_name": "LayoutModel",
       "_view_count": null,
       "_view_module": "@jupyter-widgets/base",
       "_view_module_version": "1.2.0",
       "_view_name": "LayoutView",
       "align_content": null,
       "align_items": null,
       "align_self": null,
       "border": null,
       "bottom": null,
       "display": null,
       "flex": null,
       "flex_flow": null,
       "grid_area": null,
       "grid_auto_columns": null,
       "grid_auto_flow": null,
       "grid_auto_rows": null,
       "grid_column": null,
       "grid_gap": null,
       "grid_row": null,
       "grid_template_areas": null,
       "grid_template_columns": null,
       "grid_template_rows": null,
       "height": null,
       "justify_content": null,
       "justify_items": null,
       "left": null,
       "margin": null,
       "max_height": null,
       "max_width": null,
       "min_height": null,
       "min_width": null,
       "object_fit": null,
       "object_position": null,
       "order": null,
       "overflow": null,
       "overflow_x": null,
       "overflow_y": null,
       "padding": null,
       "right": null,
       "top": null,
       "visibility": null,
       "width": null
      }
     }
    },
    "version_major": 2,
    "version_minor": 0
   }
  }
 },
 "nbformat": 4,
 "nbformat_minor": 4
}
